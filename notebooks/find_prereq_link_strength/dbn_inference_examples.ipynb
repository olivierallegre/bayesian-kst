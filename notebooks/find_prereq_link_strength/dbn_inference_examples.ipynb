{
 "cells": [
  {
   "cell_type": "markdown",
   "id": "a58b39c3",
   "metadata": {},
   "source": [
    "# Notebook: learner answers' prediction with DBN inference"
   ]
  },
  {
   "cell_type": "markdown",
   "id": "9213f199",
   "metadata": {},
   "source": [
    "### Package importation"
   ]
  },
  {
   "cell_type": "code",
   "execution_count": 1,
   "id": "c7f7bc2b",
   "metadata": {},
   "outputs": [],
   "source": [
    "import sys\n",
    "sys.path.append(\"/Users/olivier/PycharmProjects/bayesian-kst/\")  # for mac\n",
    "sys.path.append(\"/home/olivier/PycharmProjects/bayesian-kst/\")  # for ubuntu\n",
    "\n",
    "from kgraph.expert_layer.domain import Domain\n",
    "from kgraph.expert_layer.knowledge_components import KnowledgeComponent\n",
    "from kgraph.expert_layer.link import Link\n",
    "from kgraph.resources_layer.exercise import Exercise\n",
    "from kgraph.learner_layer.answer import LearnerAnswer\n",
    "from kgraph.learner_layer.learner import Learner\n",
    "from kgraph.learner_layer.learner_pool import LearnerPool\n",
    "from kgraph.helpers.truthtable import truthtable\n",
    "import pyAgrum as gum\n",
    "import pyAgrum.lib.notebook as gnb\n",
    "import pyAgrum.lib.dynamicBN as gdyn\n",
    "import random\n",
    "import itertools\n",
    "import numpy as np\n",
    "from sklearn.metrics import roc_auc_score\n"
   ]
  },
  {
   "cell_type": "markdown",
   "id": "449f4110",
   "metadata": {},
   "source": [
    "## Modélisation du réseau bayésien dynamique à partir du modèle du domaine"
   ]
  },
  {
   "cell_type": "markdown",
   "id": "parliamentary-offense",
   "metadata": {},
   "source": [
    "Exporting the domain from dataset"
   ]
  },
  {
   "cell_type": "markdown",
   "id": "e28e6e67",
   "metadata": {},
   "source": [
    "### Defining the domain"
   ]
  },
  {
   "cell_type": "code",
   "execution_count": 2,
   "id": "d7cc288e",
   "metadata": {},
   "outputs": [],
   "source": [
    "# we define the KCs\n",
    "KC_A = KnowledgeComponent(55594, \"A\")\n",
    "KC_B = KnowledgeComponent(55596, \"B\")\n",
    "\n",
    "A_2_B = Link(source=KC_A, target=KC_B)\n",
    "\n",
    "domain = Domain([KC_A, KC_B], [A_2_B])\n",
    "\n",
    "params = {\"slip\": .01, \"guess\":.01}\n",
    "\n",
    "# there are 5 exercises corresponding to KC A\n",
    "ex_A_1 = Exercise(240521, KC_A, \"qcm\", ex_content=\"\", params=params)\n",
    "ex_A_2 = Exercise(240522, KC_A, \"qcm\", ex_content=\"\", params=params)\n",
    "ex_A_3 = Exercise(240523, KC_A, \"qcm\", ex_content=\"\", params=params)\n",
    "ex_A_4 = Exercise(240524, KC_A, \"qcm\", ex_content=\"\", params=params)\n",
    "ex_A_5 = Exercise(240525, KC_A, \"qcm\", ex_content=\"\", params=params)\n",
    "\n",
    "# there are also 5 exercises corresponding to KC B\n",
    "ex_B_1 = Exercise(240526, KC_B, \"qcm\", ex_content=\"\", params=params)\n",
    "ex_B_2 = Exercise(240527, KC_B, \"qcm\", ex_content=\"\", params=params)\n",
    "ex_B_3 = Exercise(240528, KC_B, \"qcm\", ex_content=\"\", params=params)\n",
    "ex_B_4 = Exercise(240529, KC_B, \"qcm\", ex_content=\"\", params=params)\n",
    "ex_B_5 = Exercise(240530, KC_B, \"qcm\", ex_content=\"\", params=params)"
   ]
  },
  {
   "cell_type": "markdown",
   "id": "ad8a3b78",
   "metadata": {},
   "source": [
    "## Modélisation de l'apprentissage de l'apprenant à partir d'ajout de preuves au modèle du domaine"
   ]
  },
  {
   "cell_type": "code",
   "execution_count": 3,
   "id": "b68fac14",
   "metadata": {},
   "outputs": [
    {
     "name": "stdout",
     "output_type": "stream",
     "text": [
      "      success  doc_id  question_id  user_id            createdAt\n",
      "0           1   55596       240526  3827148  2021-06-08 11:59:29\n",
      "1           1   55596       240526  3827148  2021-06-08 11:59:29\n",
      "2           1   55596       240526  3827148  2021-06-08 11:59:29\n",
      "3           0   55596       240526  3827148  2021-06-08 11:59:29\n",
      "4           1   55596       240526  3827148  2021-06-08 11:59:29\n",
      "...       ...     ...          ...      ...                  ...\n",
      "3140        1   55594       240521  1034821  2020-10-12 21:27:56\n",
      "3141        1   55594       240522  1034821  2020-10-12 21:27:56\n",
      "3142        1   55594       240523  1034821  2020-10-12 21:27:56\n",
      "3143        1   55594       240524  1034821  2020-10-12 21:27:56\n",
      "3144        1   55594       240525  1034821  2020-10-12 21:27:56\n",
      "\n",
      "[3145 rows x 5 columns]\n"
     ]
    }
   ],
   "source": [
    "import pandas as pd\n",
    "# default params\n",
    "\n",
    "strong_linking = {KC_A:{KC_B: 'strong'}, KC_B:{KC_A: 'strong'}}\n",
    "learner_pool_strong = LearnerPool(domain, strong_linking, 'strong')\n",
    "\n",
    "weak_linking = {KC_A:{KC_B: 'weak'}, KC_B:{KC_A: 'weak'}}\n",
    "learner_pool_weak = LearnerPool(domain, weak_linking, 'weak')\n",
    "\n",
    "no_linking = {KC_A:{KC_B: None}, KC_B:{KC_A: None}}\n",
    "learner_pool_non_existing = LearnerPool(domain, no_linking, 'not existing')\n",
    "\n",
    "evaluation_df = pd.read_csv('/Users/olivier/PycharmProjects/bayesian-kst/data/2KC_data_example.csv')\n",
    "print(evaluation_df)\n",
    "\n",
    "learners = []\n",
    "student_ids = pd.unique(evaluation_df['user_id'])\n",
    "for stud_id in student_ids:\n",
    "    learners.append(Learner(stud_id, None))\n",
    "    \n",
    "evaluation_df.sort_values(by=['user_id'])\n",
    "\n",
    "evaluations, stud_evals = [], []\n",
    "stud = evaluation_df.iloc[0]['user_id']\n",
    "for i, row in evaluation_df.iterrows():\n",
    "    if row['user_id'] != stud:\n",
    "        evaluations.append(stud_evals)\n",
    "        stud_evals = []\n",
    "        stud = row[\"user_id\"]\n",
    "    else:\n",
    "        kc = KC_A if row['doc_id'] == 55594 else KC_B\n",
    "        stud_evals.append((kc, int(row[\"success\"])))"
   ]
  },
  {
   "cell_type": "code",
   "execution_count": 4,
   "id": "b8652158",
   "metadata": {
    "scrolled": false
   },
   "outputs": [],
   "source": [
    "def compute_likelihood(predicted, expected):\n",
    "    score=1\n",
    "    for i in range(len(predicted)):\n",
    "        if expected[i] == 1:\n",
    "            score = score * predicted[i]\n",
    "        else:\n",
    "            score = score * (1-predicted[i])\n",
    "    return -np.log(score)"
   ]
  },
  {
   "cell_type": "code",
   "execution_count": 5,
   "id": "d0e740e9",
   "metadata": {
    "scrolled": false
   },
   "outputs": [],
   "source": [
    "\n",
    "best_score, best_link_status = 1000000, 0\n",
    "\n",
    "y_plt = []\n",
    "\n",
    "# for link_possibility in link_a_to_b:\n",
    "res = {}\n",
    "\n",
    "for i in range(len(learners)):\n",
    "    if evaluations[i]: \n",
    "        student = learners[i]\n",
    "        # for every student, we search for the one that corresponds the most to stereotypes\n",
    "        stud_score, selected_stereotype = 1000000, 0\n",
    "        for learner_pool in [learner_pool_strong, learner_pool_weak, learner_pool_non_existing]:\n",
    "            student.change_learner_pool(learner_pool)\n",
    "            exp_vals = [int(evaluations[i][j][1]) for j in range(len(evaluations[i]))]\n",
    "            pred_vals = student.predict_answers(evaluations[i]) \n",
    "            temp_score = compute_likelihood(pred_vals, exp_vals)\n",
    "            if temp_score < stud_score:\n",
    "                stud_score = temp_score\n",
    "                selected_stereotype = learner_pool\n",
    "        res[student.id] = {'learner_pool': selected_stereotype.desc, 'score': stud_score}\n",
    "\n",
    "res_df = pd.DataFrame.from_dict(res,orient='index')\n"
   ]
  },
  {
   "cell_type": "code",
   "execution_count": 6,
   "id": "8a3cdc78",
   "metadata": {},
   "outputs": [
    {
     "data": {
      "text/html": [
       "<div>\n",
       "<style scoped>\n",
       "    .dataframe tbody tr th:only-of-type {\n",
       "        vertical-align: middle;\n",
       "    }\n",
       "\n",
       "    .dataframe tbody tr th {\n",
       "        vertical-align: top;\n",
       "    }\n",
       "\n",
       "    .dataframe thead th {\n",
       "        text-align: right;\n",
       "    }\n",
       "</style>\n",
       "<table border=\"1\" class=\"dataframe\">\n",
       "  <thead>\n",
       "    <tr style=\"text-align: right;\">\n",
       "      <th></th>\n",
       "      <th>learner_pool</th>\n",
       "      <th>score</th>\n",
       "    </tr>\n",
       "  </thead>\n",
       "  <tbody>\n",
       "    <tr>\n",
       "      <th>3827148</th>\n",
       "      <td>strong</td>\n",
       "      <td>34.062546</td>\n",
       "    </tr>\n",
       "    <tr>\n",
       "      <th>3305118</th>\n",
       "      <td>strong</td>\n",
       "      <td>5.227734</td>\n",
       "    </tr>\n",
       "    <tr>\n",
       "      <th>3028687</th>\n",
       "      <td>strong</td>\n",
       "      <td>0.463867</td>\n",
       "    </tr>\n",
       "    <tr>\n",
       "      <th>3558036</th>\n",
       "      <td>not existing</td>\n",
       "      <td>5.219241</td>\n",
       "    </tr>\n",
       "    <tr>\n",
       "      <th>2907259</th>\n",
       "      <td>strong</td>\n",
       "      <td>0.463867</td>\n",
       "    </tr>\n",
       "    <tr>\n",
       "      <th>3798348</th>\n",
       "      <td>weak</td>\n",
       "      <td>11.963312</td>\n",
       "    </tr>\n",
       "    <tr>\n",
       "      <th>3574744</th>\n",
       "      <td>weak</td>\n",
       "      <td>14.803630</td>\n",
       "    </tr>\n",
       "    <tr>\n",
       "      <th>3775207</th>\n",
       "      <td>not existing</td>\n",
       "      <td>2.577224</td>\n",
       "    </tr>\n",
       "    <tr>\n",
       "      <th>3739049</th>\n",
       "      <td>not existing</td>\n",
       "      <td>2.577224</td>\n",
       "    </tr>\n",
       "    <tr>\n",
       "      <th>2920058</th>\n",
       "      <td>not existing</td>\n",
       "      <td>2.577224</td>\n",
       "    </tr>\n",
       "  </tbody>\n",
       "</table>\n",
       "</div>"
      ],
      "text/plain": [
       "         learner_pool      score\n",
       "3827148        strong  34.062546\n",
       "3305118        strong   5.227734\n",
       "3028687        strong   0.463867\n",
       "3558036  not existing   5.219241\n",
       "2907259        strong   0.463867\n",
       "3798348          weak  11.963312\n",
       "3574744          weak  14.803630\n",
       "3775207  not existing   2.577224\n",
       "3739049  not existing   2.577224\n",
       "2920058  not existing   2.577224"
      ]
     },
     "execution_count": 6,
     "metadata": {},
     "output_type": "execute_result"
    }
   ],
   "source": [
    "res_df.head(10)"
   ]
  },
  {
   "cell_type": "markdown",
   "id": "e1600e92",
   "metadata": {},
   "source": [
    "# Experiment 2\n",
    "We suppose here that all learners belong in the same learner pool and we search for the best status of the link strength (between strong, weak and not existing). "
   ]
  },
  {
   "cell_type": "code",
   "execution_count": 7,
   "id": "58c8bc0a",
   "metadata": {},
   "outputs": [
    {
     "name": "stdout",
     "output_type": "stream",
     "text": [
      "strong 651.419498238151\n",
      "weak 650.6033794375064\n",
      "not existing 659.0845658548253\n",
      "0\n"
     ]
    }
   ],
   "source": [
    "best_score, best_link_status = 1000000, 0\n",
    "\n",
    "y_plt = []\n",
    "\n",
    "# for link_possibility in link_a_to_b:\n",
    "res = {}\n",
    "for learner_pool in [learner_pool_strong, learner_pool_weak, learner_pool_non_existing]:\n",
    "    pool_score = 0\n",
    "    for i in range(len(learners)):\n",
    "        if evaluations[i]: \n",
    "            student = learners[i]\n",
    "            # for every student, we search for the one that corresponds the most to stereotypes\n",
    "            stud_score, selected_stereotype = 1000000, 0\n",
    "            student.change_learner_pool(learner_pool)\n",
    "            exp_vals = [int(evaluations[i][j][1]) for j in range(len(evaluations[i]))]\n",
    "            pred_vals = student.predict_answers(evaluations[i]) \n",
    "            pool_score += compute_likelihood(pred_vals, exp_vals)\n",
    "    print(learner_pool.desc, pool_score)\n",
    "    if pool_score < best_score:\n",
    "        best_score = pool_score\n",
    "        selected_stereotype = learner_pool\n",
    "print(selected_stereotype)\n"
   ]
  }
 ],
 "metadata": {
  "kernelspec": {
   "display_name": "Python 3",
   "language": "python",
   "name": "python3"
  },
  "language_info": {
   "codemirror_mode": {
    "name": "ipython",
    "version": 3
   },
   "file_extension": ".py",
   "mimetype": "text/x-python",
   "name": "python",
   "nbconvert_exporter": "python",
   "pygments_lexer": "ipython3",
   "version": "3.9.2"
  }
 },
 "nbformat": 4,
 "nbformat_minor": 5
}
