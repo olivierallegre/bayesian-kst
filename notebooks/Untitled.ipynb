{
 "cells": [
  {
   "cell_type": "code",
   "execution_count": 1,
   "id": "c7f7bc2b",
   "metadata": {},
   "outputs": [],
   "source": [
    "import sys\n",
    "\n",
    "sys.path.append(\"/Users/olivier/PycharmProjects/bayesian-kst/\")\n",
    "from kgraph.expert_layer.domain_graph import DomainGraph\n",
    "from kgraph.expert_layer.knowledge_components import KnowledgeComponent, ProceduralKnowledgeComponent\n",
    "from kgraph.expert_layer.links import LinkModel, LinkFromParents, LinkFromChildren\n",
    "from kgraph.resources_layer.exercise_family import ExerciseFamily\n",
    "from kgraph.resources_layer.exercise import Exercise\n",
    "from kgraph.learner_layer.evaluation import Evaluation\n",
    "from kgraph.learner_layer.learner_pool import LearnerPool\n",
    "from kgraph.learner_layer.learner import Learner, LearnerGraph\n",
    "from kgraph.helpers.truthtable import truthtable\n",
    "import pyAgrum as gum\n",
    "import pyAgrum.lib.notebook as gnb\n",
    "import pyAgrum.lib.dynamicBN as gdyn"
   ]
  },
  {
   "cell_type": "markdown",
   "id": "449f4110",
   "metadata": {},
   "source": [
    "## Mise en oeuvre du modèle général dont on cherche les paramètres"
   ]
  },
  {
   "cell_type": "code",
   "execution_count": 2,
   "id": "80a5b98d",
   "metadata": {},
   "outputs": [],
   "source": [
    "def get_two_dbn(domain_graph):\n",
    "    knowledge_components = domain_graph.get_knowledge_components()\n",
    "    twodbn = gum.BayesNet()\n",
    "    \n",
    "    for kc in knowledge_components:\n",
    "        twodbn.add(gum.LabelizedVariable(f\"{kc.name}0\",f\"{kc.name}0\",2))\n",
    "        twodbn.add(gum.LabelizedVariable(f\"{kc.name}t\",f\"{kc.name}t\",2))\n",
    "        twodbn.addArc(f\"{kc.name}0\",f\"{kc.name}t\")\n",
    "    for kc in knowledge_components:\n",
    "        for parent in domain_graph.get_kc_parents(kc):\n",
    "            twodbn.addArc(f\"{parent.name}t\",f\"{kc.name}t\")\n",
    "            \n",
    "    return twodbn"
   ]
  },
  {
   "cell_type": "code",
   "execution_count": 3,
   "id": "d7cc288e",
   "metadata": {},
   "outputs": [],
   "source": [
    "# we define the KCs\n",
    "KC_A = ProceduralKnowledgeComponent(1, \"A\")\n",
    "KC_B = ProceduralKnowledgeComponent(2, \"B\")\n",
    "\n",
    "# we define the link between the two that gonna lead to the link model\n",
    "link_a_to_b = LinkFromParents(KC_B, [KC_A], [.4, .6])\n",
    "link_b_to_a = LinkFromChildren(KC_A, [KC_B], [.1, .9])\n",
    "link_model = LinkModel([link_a_to_b, link_b_to_a])\n",
    "\n",
    "domain_graph = DomainGraph([KC_A, KC_B], link_model)"
   ]
  },
  {
   "cell_type": "code",
   "execution_count": 4,
   "id": "adf2ce03",
   "metadata": {},
   "outputs": [
    {
     "data": {
      "image/svg+xml": [
       "<svg xmlns=\"http://www.w3.org/2000/svg\" xmlns:xlink=\"http://www.w3.org/1999/xlink\" width=\"201pt\" height=\"171pt\" viewBox=\"0.00 0.00 201.00 171.00\">\n",
       "<g id=\"graph0\" class=\"graph\" transform=\"scale(1 1) rotate(0) translate(4 167)\">\n",
       "<title>G</title>\n",
       "<polygon fill=\"white\" stroke=\"transparent\" points=\"-4,4 -4,-167 197,-167 197,4 -4,4\"/>\n",
       "<g id=\"clust1\" class=\"cluster\">\n",
       "<title>cluster_0</title>\n",
       "<polygon fill=\"#dddddd\" stroke=\"black\" points=\"8,-8 8,-155 94,-155 94,-8 8,-8\"/>\n",
       "<text text-anchor=\"middle\" x=\"51\" y=\"-139.8\" font-family=\"Times,serif\" font-size=\"14.00\">Time slice 0</text>\n",
       "</g>\n",
       "<g id=\"clust2\" class=\"cluster\">\n",
       "<title>cluster_t</title>\n",
       "<polygon fill=\"#dddddd\" stroke=\"black\" points=\"102,-8 102,-155 185,-155 185,-8 102,-8\"/>\n",
       "<text text-anchor=\"middle\" x=\"143.5\" y=\"-139.8\" font-family=\"Times,serif\" font-size=\"14.00\">Time slice t</text>\n",
       "</g>\n",
       "<!-- A0 -->\n",
       "<g id=\"node1\" class=\"node\">\n",
       "<title>A0</title>\n",
       "<ellipse fill=\"white\" stroke=\"#000000\" cx=\"51\" cy=\"-106\" rx=\"27\" ry=\"18\"/>\n",
       "<text text-anchor=\"middle\" x=\"51\" y=\"-102.3\" font-family=\"Times,serif\" font-size=\"14.00\">A</text>\n",
       "</g>\n",
       "<!-- B0 -->\n",
       "<g id=\"node2\" class=\"node\">\n",
       "<title>B0</title>\n",
       "<ellipse fill=\"white\" stroke=\"#000000\" cx=\"51\" cy=\"-34\" rx=\"27\" ry=\"18\"/>\n",
       "<text text-anchor=\"middle\" x=\"51\" y=\"-30.3\" font-family=\"Times,serif\" font-size=\"14.00\">B</text>\n",
       "</g>\n",
       "<!-- A0&#45;&gt;B0 -->\n",
       "<!-- At -->\n",
       "<g id=\"node3\" class=\"node\">\n",
       "<title>At</title>\n",
       "<ellipse fill=\"white\" stroke=\"#000000\" cx=\"143\" cy=\"-106\" rx=\"27\" ry=\"18\"/>\n",
       "<text text-anchor=\"middle\" x=\"143\" y=\"-102.3\" font-family=\"Times,serif\" font-size=\"14.00\">A</text>\n",
       "</g>\n",
       "<!-- A0&#45;&gt;At -->\n",
       "<g id=\"edge1\" class=\"edge\">\n",
       "<title>A0-&gt;At</title>\n",
       "<path fill=\"none\" stroke=\"blue\" d=\"M78.11,-106C78.11,-106 105.77,-106 105.77,-106\"/>\n",
       "<polygon fill=\"blue\" stroke=\"blue\" points=\"105.77,-109.5 115.77,-106 105.77,-102.5 105.77,-109.5\"/>\n",
       "</g>\n",
       "<!-- Bt -->\n",
       "<g id=\"node4\" class=\"node\">\n",
       "<title>Bt</title>\n",
       "<ellipse fill=\"white\" stroke=\"#000000\" cx=\"143\" cy=\"-34\" rx=\"27\" ry=\"18\"/>\n",
       "<text text-anchor=\"middle\" x=\"143\" y=\"-30.3\" font-family=\"Times,serif\" font-size=\"14.00\">B</text>\n",
       "</g>\n",
       "<!-- B0&#45;&gt;Bt -->\n",
       "<g id=\"edge3\" class=\"edge\">\n",
       "<title>B0-&gt;Bt</title>\n",
       "<path fill=\"none\" stroke=\"blue\" d=\"M78.11,-34C78.11,-34 105.77,-34 105.77,-34\"/>\n",
       "<polygon fill=\"blue\" stroke=\"blue\" points=\"105.77,-37.5 115.77,-34 105.77,-30.5 105.77,-37.5\"/>\n",
       "</g>\n",
       "<!-- At&#45;&gt;Bt -->\n",
       "<g id=\"edge2\" class=\"edge\">\n",
       "<title>At-&gt;Bt</title>\n",
       "<path fill=\"none\" stroke=\"blue\" d=\"M134,-88.94C134,-88.94 134,-61.44 134,-61.44\"/>\n",
       "<polygon fill=\"blue\" stroke=\"blue\" points=\"137.5,-61.44 134,-51.44 130.5,-61.44 137.5,-61.44\"/>\n",
       "</g>\n",
       "<!-- At&#45;&gt;Bt -->\n",
       "</g>\n",
       "</svg>"
      ],
      "text/plain": [
       "<IPython.core.display.SVG object>"
      ]
     },
     "metadata": {},
     "output_type": "display_data"
    }
   ],
   "source": [
    "twodbn = get_two_dbn(domain_graph)\n",
    "gdyn.showTimeSlices(twodbn)"
   ]
  },
  {
   "cell_type": "markdown",
   "id": "ad8a3b78",
   "metadata": {},
   "source": [
    "## Application du modèle général sur le cas particulier d'un apprenant"
   ]
  },
  {
   "cell_type": "code",
   "execution_count": 5,
   "id": "b68fac14",
   "metadata": {},
   "outputs": [],
   "source": [
    "# default params\n",
    "params = {\"slip\": .1, \"guess\":.25}\n",
    "\n",
    "# we define the exercises that corresponds to KC_A\n",
    "ex_A_1 = Exercise(1, \"qcm\", ex_content=\"\", params=params)\n",
    "ex_A_2 = Exercise(2, \"qcm\", ex_content=\"\", params=params)\n",
    "ex_A_3 = Exercise(3, \"qcm\", ex_content=\"\", params=params)\n",
    "ex_A_4 = Exercise(4, \"qcm\", ex_content=\"\", params=params)\n",
    "ex_A_5 = Exercise(5, \"qcm\", ex_content=\"\", params=params)\n",
    "\n",
    "ex_fam_A = ExerciseFamily(1, \"ex_fam_A\", KC_A, [ex_A_1, ex_A_2, ex_A_3, ex_A_4, ex_A_5])\n",
    "\n",
    "# we define the exercises that corresponds to KC_A\n",
    "ex_B_1 = Exercise(6, \"qcm\", ex_content=\"\", params=params)\n",
    "ex_B_2 = Exercise(7, \"qcm\", ex_content=\"\", params=params)\n",
    "ex_B_3 = Exercise(8, \"qcm\", ex_content=\"\", params=params)\n",
    "ex_B_4 = Exercise(9, \"qcm\", ex_content=\"\", params=params)\n",
    "ex_B_5 = Exercise(10, \"qcm\", ex_content=\"\", params=params)\n",
    "\n",
    "ex_fam_B = ExerciseFamily(1, \"ex_fam_B\", KC_B, [ex_B_1, ex_B_2, ex_B_3, ex_B_4, ex_B_5])\n",
    "\n",
    "\n",
    "learner_pool = LearnerPool(domain_graph)\n",
    "learner_pool.setup_random_learners(1000)\n",
    "n_evals = 3000\n",
    "sim_evaluations = learner_pool.simulate_evaluations_from_learners(n_evals)\n",
    "temp_eval = []\n",
    "for i in range(len(sim_evaluations)):\n",
    "    temp = []\n",
    "    for evaluation in sim_evaluations[i]:\n",
    "        temp += [(evaluation.get_kc(), int(evaluation.answers[key][\"success\"])) for key in list(evaluation.answers.keys())]\n",
    "    temp_eval.append(temp)\n",
    "sim_evaluations=temp_eval"
   ]
  },
  {
   "cell_type": "code",
   "execution_count": 6,
   "id": "e7c1e6ba",
   "metadata": {},
   "outputs": [
    {
     "name": "stdout",
     "output_type": "stream",
     "text": [
      "[(<kgraph.expert_layer.knowledge_components.ProceduralKnowledgeComponent object at 0x11d0e7250>, 0), (<kgraph.expert_layer.knowledge_components.ProceduralKnowledgeComponent object at 0x11d0e7250>, 1), (<kgraph.expert_layer.knowledge_components.ProceduralKnowledgeComponent object at 0x11d0e7250>, 0), (<kgraph.expert_layer.knowledge_components.ProceduralKnowledgeComponent object at 0x11d0e7250>, 1), (<kgraph.expert_layer.knowledge_components.ProceduralKnowledgeComponent object at 0x11d0e7250>, 1), (<kgraph.expert_layer.knowledge_components.ProceduralKnowledgeComponent object at 0x11d0e7250>, 1), (<kgraph.expert_layer.knowledge_components.ProceduralKnowledgeComponent object at 0x11d0e7250>, 1), (<kgraph.expert_layer.knowledge_components.ProceduralKnowledgeComponent object at 0x11d0e7250>, 1), (<kgraph.expert_layer.knowledge_components.ProceduralKnowledgeComponent object at 0x11d0e7250>, 1), (<kgraph.expert_layer.knowledge_components.ProceduralKnowledgeComponent object at 0x11d0e7250>, 0), (<kgraph.expert_layer.knowledge_components.ProceduralKnowledgeComponent object at 0x11d0e72b0>, 1), (<kgraph.expert_layer.knowledge_components.ProceduralKnowledgeComponent object at 0x11d0e72b0>, 1), (<kgraph.expert_layer.knowledge_components.ProceduralKnowledgeComponent object at 0x11d0e72b0>, 1), (<kgraph.expert_layer.knowledge_components.ProceduralKnowledgeComponent object at 0x11d0e72b0>, 0), (<kgraph.expert_layer.knowledge_components.ProceduralKnowledgeComponent object at 0x11d0e72b0>, 1), (<kgraph.expert_layer.knowledge_components.ProceduralKnowledgeComponent object at 0x11d0e72b0>, 1), (<kgraph.expert_layer.knowledge_components.ProceduralKnowledgeComponent object at 0x11d0e72b0>, 0), (<kgraph.expert_layer.knowledge_components.ProceduralKnowledgeComponent object at 0x11d0e72b0>, 1), (<kgraph.expert_layer.knowledge_components.ProceduralKnowledgeComponent object at 0x11d0e72b0>, 1), (<kgraph.expert_layer.knowledge_components.ProceduralKnowledgeComponent object at 0x11d0e72b0>, 1)]\n"
     ]
    },
    {
     "ename": "TypeError",
     "evalue": "Wrong number or type of arguments for overloaded function 'LazyPropagation_addEvidence'.\n  Possible C/C++ prototypes are:\n    gum::LazyPropagation< double >::addEvidence(gum::NodeId const,gum::Idx const)\n    gum::LazyPropagation< double >::addEvidence(std::string const &,gum::Idx const)\n    gum::LazyPropagation< double >::addEvidence(gum::NodeId const,std::string const &)\n    gum::LazyPropagation< double >::addEvidence(std::string const &,std::string const &)\n    gum::LazyPropagation< double >::addEvidence(gum::NodeId const,std::vector< double,std::allocator< double > > const &)\n    gum::LazyPropagation< double >::addEvidence(std::string const &,std::vector< double,std::allocator< double > > const &)\n",
     "output_type": "error",
     "traceback": [
      "\u001b[0;31m---------------------------------------------------------------------------\u001b[0m",
      "\u001b[0;31mTypeError\u001b[0m                                 Traceback (most recent call last)",
      "\u001b[0;32m<ipython-input-6-264f799952f1>\u001b[0m in \u001b[0;36m<module>\u001b[0;34m\u001b[0m\n\u001b[1;32m      4\u001b[0m     \u001b[0mgdyn\u001b[0m\u001b[0;34m.\u001b[0m\u001b[0mplotFollow\u001b[0m\u001b[0;34m(\u001b[0m\u001b[0;34m[\u001b[0m\u001b[0;34m\"a\"\u001b[0m\u001b[0;34m,\u001b[0m\u001b[0;34m\"b\"\u001b[0m\u001b[0;34m,\u001b[0m\u001b[0;34m\"c\"\u001b[0m\u001b[0;34m,\u001b[0m\u001b[0;34m\"d\"\u001b[0m\u001b[0;34m]\u001b[0m\u001b[0;34m,\u001b[0m\u001b[0mtwodbn\u001b[0m\u001b[0;34m,\u001b[0m\u001b[0mT\u001b[0m\u001b[0;34m=\u001b[0m\u001b[0mlen\u001b[0m\u001b[0;34m(\u001b[0m\u001b[0mlearner_evals\u001b[0m\u001b[0;34m)\u001b[0m\u001b[0;34m,\u001b[0m\u001b[0mevs\u001b[0m\u001b[0;34m=\u001b[0m\u001b[0mevidences\u001b[0m\u001b[0;34m)\u001b[0m\u001b[0;34m\u001b[0m\u001b[0;34m\u001b[0m\u001b[0m\n\u001b[1;32m      5\u001b[0m \u001b[0;34m\u001b[0m\u001b[0m\n\u001b[0;32m----> 6\u001b[0;31m \u001b[0mget_learner_dbn\u001b[0m\u001b[0;34m(\u001b[0m\u001b[0mtwodbn\u001b[0m\u001b[0;34m,\u001b[0m \u001b[0msim_evaluations\u001b[0m\u001b[0;34m[\u001b[0m\u001b[0;36m0\u001b[0m\u001b[0;34m]\u001b[0m\u001b[0;34m)\u001b[0m\u001b[0;34m\u001b[0m\u001b[0;34m\u001b[0m\u001b[0m\n\u001b[0m",
      "\u001b[0;32m<ipython-input-6-264f799952f1>\u001b[0m in \u001b[0;36mget_learner_dbn\u001b[0;34m(twodbn, learner_evals)\u001b[0m\n\u001b[1;32m      2\u001b[0m     \u001b[0mprint\u001b[0m\u001b[0;34m(\u001b[0m\u001b[0mlearner_evals\u001b[0m\u001b[0;34m)\u001b[0m\u001b[0;34m\u001b[0m\u001b[0;34m\u001b[0m\u001b[0m\n\u001b[1;32m      3\u001b[0m     \u001b[0mevidences\u001b[0m \u001b[0;34m=\u001b[0m \u001b[0;34m{\u001b[0m\u001b[0mleval\u001b[0m\u001b[0;34m[\u001b[0m\u001b[0;36m0\u001b[0m\u001b[0;34m]\u001b[0m\u001b[0;34m:\u001b[0m \u001b[0mleval\u001b[0m\u001b[0;34m[\u001b[0m\u001b[0;36m1\u001b[0m\u001b[0;34m]\u001b[0m \u001b[0;32mfor\u001b[0m \u001b[0mleval\u001b[0m \u001b[0;32min\u001b[0m \u001b[0mlearner_evals\u001b[0m\u001b[0;34m}\u001b[0m\u001b[0;34m\u001b[0m\u001b[0;34m\u001b[0m\u001b[0m\n\u001b[0;32m----> 4\u001b[0;31m     \u001b[0mgdyn\u001b[0m\u001b[0;34m.\u001b[0m\u001b[0mplotFollow\u001b[0m\u001b[0;34m(\u001b[0m\u001b[0;34m[\u001b[0m\u001b[0;34m\"a\"\u001b[0m\u001b[0;34m,\u001b[0m\u001b[0;34m\"b\"\u001b[0m\u001b[0;34m,\u001b[0m\u001b[0;34m\"c\"\u001b[0m\u001b[0;34m,\u001b[0m\u001b[0;34m\"d\"\u001b[0m\u001b[0;34m]\u001b[0m\u001b[0;34m,\u001b[0m\u001b[0mtwodbn\u001b[0m\u001b[0;34m,\u001b[0m\u001b[0mT\u001b[0m\u001b[0;34m=\u001b[0m\u001b[0mlen\u001b[0m\u001b[0;34m(\u001b[0m\u001b[0mlearner_evals\u001b[0m\u001b[0;34m)\u001b[0m\u001b[0;34m,\u001b[0m\u001b[0mevs\u001b[0m\u001b[0;34m=\u001b[0m\u001b[0mevidences\u001b[0m\u001b[0;34m)\u001b[0m\u001b[0;34m\u001b[0m\u001b[0;34m\u001b[0m\u001b[0m\n\u001b[0m\u001b[1;32m      5\u001b[0m \u001b[0;34m\u001b[0m\u001b[0m\n\u001b[1;32m      6\u001b[0m \u001b[0mget_learner_dbn\u001b[0m\u001b[0;34m(\u001b[0m\u001b[0mtwodbn\u001b[0m\u001b[0;34m,\u001b[0m \u001b[0msim_evaluations\u001b[0m\u001b[0;34m[\u001b[0m\u001b[0;36m0\u001b[0m\u001b[0;34m]\u001b[0m\u001b[0;34m)\u001b[0m\u001b[0;34m\u001b[0m\u001b[0;34m\u001b[0m\u001b[0m\n",
      "\u001b[0;32m/opt/homebrew/Caskroom/miniforge/base/envs/bayesian-kst/lib/python3.9/site-packages/pyAgrum/lib/dynamicBN.py\u001b[0m in \u001b[0;36mplotFollow\u001b[0;34m(lovars, twoTdbn, T, evs)\u001b[0m\n\u001b[1;32m    326\u001b[0m   \u001b[0;34m:\u001b[0m\u001b[0mparam\u001b[0m \u001b[0mevs\u001b[0m\u001b[0;34m:\u001b[0m \u001b[0mobservations\u001b[0m\u001b[0;34m\u001b[0m\u001b[0;34m\u001b[0m\u001b[0m\n\u001b[1;32m    327\u001b[0m   \"\"\"\n\u001b[0;32m--> 328\u001b[0;31m   \u001b[0mplotFollowUnrolled\u001b[0m\u001b[0;34m(\u001b[0m\u001b[0mlovars\u001b[0m\u001b[0;34m,\u001b[0m \u001b[0munroll2TBN\u001b[0m\u001b[0;34m(\u001b[0m\u001b[0mtwoTdbn\u001b[0m\u001b[0;34m,\u001b[0m \u001b[0mT\u001b[0m\u001b[0;34m)\u001b[0m\u001b[0;34m,\u001b[0m \u001b[0mT\u001b[0m\u001b[0;34m,\u001b[0m \u001b[0mevs\u001b[0m\u001b[0;34m)\u001b[0m\u001b[0;34m\u001b[0m\u001b[0;34m\u001b[0m\u001b[0m\n\u001b[0m\u001b[1;32m    329\u001b[0m \u001b[0;34m\u001b[0m\u001b[0m\n\u001b[1;32m    330\u001b[0m \u001b[0;34m\u001b[0m\u001b[0m\n",
      "\u001b[0;32m/opt/homebrew/Caskroom/miniforge/base/envs/bayesian-kst/lib/python3.9/site-packages/pyAgrum/lib/dynamicBN.py\u001b[0m in \u001b[0;36mplotFollowUnrolled\u001b[0;34m(lovars, dbn, T, evs)\u001b[0m\n\u001b[1;32m    286\u001b[0m   \"\"\"\n\u001b[1;32m    287\u001b[0m   \u001b[0mie\u001b[0m \u001b[0;34m=\u001b[0m \u001b[0mgum\u001b[0m\u001b[0;34m.\u001b[0m\u001b[0mLazyPropagation\u001b[0m\u001b[0;34m(\u001b[0m\u001b[0mdbn\u001b[0m\u001b[0;34m)\u001b[0m\u001b[0;34m\u001b[0m\u001b[0;34m\u001b[0m\u001b[0m\n\u001b[0;32m--> 288\u001b[0;31m   \u001b[0mie\u001b[0m\u001b[0;34m.\u001b[0m\u001b[0msetEvidence\u001b[0m\u001b[0;34m(\u001b[0m\u001b[0mevs\u001b[0m\u001b[0;34m)\u001b[0m\u001b[0;34m\u001b[0m\u001b[0;34m\u001b[0m\u001b[0m\n\u001b[0m\u001b[1;32m    289\u001b[0m   \u001b[0mie\u001b[0m\u001b[0;34m.\u001b[0m\u001b[0mmakeInference\u001b[0m\u001b[0;34m(\u001b[0m\u001b[0;34m)\u001b[0m\u001b[0;34m\u001b[0m\u001b[0;34m\u001b[0m\u001b[0m\n\u001b[1;32m    290\u001b[0m \u001b[0;34m\u001b[0m\u001b[0m\n",
      "\u001b[0;32m/opt/homebrew/Caskroom/miniforge/base/envs/bayesian-kst/lib/python3.9/site-packages/pyAgrum/pyAgrum.py\u001b[0m in \u001b[0;36msetEvidence\u001b[0;34m(self, evidces)\u001b[0m\n\u001b[1;32m  13189\u001b[0m         \u001b[0mself\u001b[0m\u001b[0;34m.\u001b[0m\u001b[0meraseAllEvidence\u001b[0m\u001b[0;34m(\u001b[0m\u001b[0;34m)\u001b[0m\u001b[0;34m\u001b[0m\u001b[0;34m\u001b[0m\u001b[0m\n\u001b[1;32m  13190\u001b[0m         \u001b[0;32mfor\u001b[0m \u001b[0mk\u001b[0m\u001b[0;34m,\u001b[0m\u001b[0mv\u001b[0m \u001b[0;32min\u001b[0m \u001b[0mevidces\u001b[0m\u001b[0;34m.\u001b[0m\u001b[0mitems\u001b[0m\u001b[0;34m(\u001b[0m\u001b[0;34m)\u001b[0m\u001b[0;34m:\u001b[0m\u001b[0;34m\u001b[0m\u001b[0;34m\u001b[0m\u001b[0m\n\u001b[0;32m> 13191\u001b[0;31m             \u001b[0mself\u001b[0m\u001b[0;34m.\u001b[0m\u001b[0maddEvidence\u001b[0m\u001b[0;34m(\u001b[0m\u001b[0mk\u001b[0m\u001b[0;34m,\u001b[0m\u001b[0mv\u001b[0m\u001b[0;34m)\u001b[0m\u001b[0;34m\u001b[0m\u001b[0;34m\u001b[0m\u001b[0m\n\u001b[0m\u001b[1;32m  13192\u001b[0m \u001b[0;34m\u001b[0m\u001b[0m\n\u001b[1;32m  13193\u001b[0m \u001b[0;34m\u001b[0m\u001b[0m\n",
      "\u001b[0;32m/opt/homebrew/Caskroom/miniforge/base/envs/bayesian-kst/lib/python3.9/site-packages/pyAgrum/pyAgrum.py\u001b[0m in \u001b[0;36maddEvidence\u001b[0;34m(self, *args)\u001b[0m\n\u001b[1;32m  13467\u001b[0m \u001b[0;34m\u001b[0m\u001b[0m\n\u001b[1;32m  13468\u001b[0m         \"\"\"\n\u001b[0;32m> 13469\u001b[0;31m         \u001b[0;32mreturn\u001b[0m \u001b[0m_pyAgrum\u001b[0m\u001b[0;34m.\u001b[0m\u001b[0mLazyPropagation_addEvidence\u001b[0m\u001b[0;34m(\u001b[0m\u001b[0mself\u001b[0m\u001b[0;34m,\u001b[0m \u001b[0;34m*\u001b[0m\u001b[0margs\u001b[0m\u001b[0;34m)\u001b[0m\u001b[0;34m\u001b[0m\u001b[0;34m\u001b[0m\u001b[0m\n\u001b[0m\u001b[1;32m  13470\u001b[0m \u001b[0;34m\u001b[0m\u001b[0m\n\u001b[1;32m  13471\u001b[0m     \u001b[0;32mdef\u001b[0m \u001b[0mchgEvidence\u001b[0m\u001b[0;34m(\u001b[0m\u001b[0mself\u001b[0m\u001b[0;34m,\u001b[0m \u001b[0;34m*\u001b[0m\u001b[0margs\u001b[0m\u001b[0;34m)\u001b[0m \u001b[0;34m->\u001b[0m \u001b[0;34m\"void\"\u001b[0m\u001b[0;34m:\u001b[0m\u001b[0;34m\u001b[0m\u001b[0;34m\u001b[0m\u001b[0m\n",
      "\u001b[0;31mTypeError\u001b[0m: Wrong number or type of arguments for overloaded function 'LazyPropagation_addEvidence'.\n  Possible C/C++ prototypes are:\n    gum::LazyPropagation< double >::addEvidence(gum::NodeId const,gum::Idx const)\n    gum::LazyPropagation< double >::addEvidence(std::string const &,gum::Idx const)\n    gum::LazyPropagation< double >::addEvidence(gum::NodeId const,std::string const &)\n    gum::LazyPropagation< double >::addEvidence(std::string const &,std::string const &)\n    gum::LazyPropagation< double >::addEvidence(gum::NodeId const,std::vector< double,std::allocator< double > > const &)\n    gum::LazyPropagation< double >::addEvidence(std::string const &,std::vector< double,std::allocator< double > > const &)\n"
     ]
    }
   ],
   "source": [
    "def get_learner_dbn(twodbn, learner_evals):\n",
    "    print(learner_evals)\n",
    "    evidences = {leval[0]: [leval[1], leval[1]-slip] for leval in learner_evals}\n",
    "    gdyn.plotFollow([\"a\",\"b\",\"c\",\"d\"],twodbn,T=len(learner_evals),evs=evidences)\n",
    "    \n",
    "get_learner_dbn(twodbn, sim_evaluations[0])"
   ]
  }
 ],
 "metadata": {
  "kernelspec": {
   "display_name": "Python 3",
   "language": "python",
   "name": "python3"
  },
  "language_info": {
   "codemirror_mode": {
    "name": "ipython",
    "version": 3
   },
   "file_extension": ".py",
   "mimetype": "text/x-python",
   "name": "python",
   "nbconvert_exporter": "python",
   "pygments_lexer": "ipython3",
   "version": "3.9.2"
  }
 },
 "nbformat": 4,
 "nbformat_minor": 5
}
