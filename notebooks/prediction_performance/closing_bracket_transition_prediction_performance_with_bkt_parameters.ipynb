{
 "cells": [
  {
   "cell_type": "markdown",
   "id": "9a2f654c",
   "metadata": {},
   "source": [
    "# Closing bracket transition prediction performance\n",
    "In this notebook, we focus on the \"closing bracket\" domain knowledge structure. We study the transition prediction perfomance and how the prerequisite links existing between KCs influence it. The transition prediction performance is the capacity of our model to predict the success of a learner on an exercise when he has done an exercise on another KC right before. "
   ]
  },
  {
   "cell_type": "code",
   "execution_count": 1,
   "id": "a67e678e",
   "metadata": {},
   "outputs": [],
   "source": [
    "import sys\n",
    "sys.path.append(\"/Users/olivier/PycharmProjects/bayesian-kst/\")  # for mac\n",
    "\n",
    "import pyAgrum as gum\n",
    "from kgraph.expert_layer.domain import Domain\n",
    "from kgraph.expert_layer.knowledge_components import KnowledgeComponent\n",
    "from kgraph.expert_layer.link import Link\n",
    "from kgraph.resources_layer.exercise import Exercise\n",
    "from kgraph.learner_layer.answer import LearnerAnswer\n",
    "from kgraph.learner_layer.learner import Learner\n",
    "from kgraph.learner_layer.learner_pool import LearnerPool\n",
    "from kgraph.helpers.truthtable import truthtable\n",
    "from math import floor\n",
    "import pyAgrum.lib.notebook as gnb\n",
    "import pyAgrum.lib.dynamicBN as gdyn\n",
    "import random\n",
    "import itertools\n",
    "import numpy as np\n",
    "import tqdm\n",
    "import sklearn.metrics as sk_metrics\n",
    "from sklearn.model_selection import KFold\n",
    "import pandas as pd"
   ]
  },
  {
   "cell_type": "markdown",
   "id": "5f89df8b",
   "metadata": {},
   "source": [
    "## Import the data\n",
    "We use the three following KCs as KC A, KC B and KC C:\n",
    "- KC A: \"Déterminer l'appartenance d'un nombre réel à un intervalle fini\"\n",
    "- KC B: \"Déterminer l'appartenance d'un nombre réel à un intervalle infini\"\n",
    "- KC C: \"Déterminer l'appartenance d'un nombre réel à un intervalle simple\"\n",
    "\n",
    "Each of those is related to five Kartable exercises."
   ]
  },
  {
   "cell_type": "code",
   "execution_count": 2,
   "id": "ee9c8122",
   "metadata": {},
   "outputs": [],
   "source": [
    "# we define the KCs\n",
    "\n",
    "KC_A = KnowledgeComponent(55365, \"A\")  # Déterminer l'appartenance d'un nombre réel à un intervalle fini\n",
    "KC_B = KnowledgeComponent(55363, \"B\")  # Déterminer l'appartenance d'un nombre réel à un intervalle infini\n",
    "KC_C = KnowledgeComponent(55364, \"C\")  # Déterminer l'appartenance d'un nombre réel à un intervalle simple\n",
    "\n",
    "A_2_C = Link(source=KC_A, target=KC_C)\n",
    "B_2_C = Link(source=KC_B, target=KC_C)\n",
    "domain = Domain([KC_A, KC_B, KC_C], [A_2_C, B_2_C])\n",
    "\n",
    "params = {\"slip\": .01, \"guess\":.01}\n",
    "\n",
    "# there are 5 exercises corresponding to KC A\n",
    "ex_A_1 = Exercise(237957, KC_A, \"qcm\", ex_content=\"\", params=params)\n",
    "ex_A_2 = Exercise(237958, KC_A, \"qcm\", ex_content=\"\", params=params)\n",
    "ex_A_3 = Exercise(237959, KC_A, \"qcm\", ex_content=\"\", params=params)\n",
    "ex_A_4 = Exercise(237960, KC_A, \"qcm\", ex_content=\"\", params=params)\n",
    "ex_A_5 = Exercise(237961, KC_A, \"qcm\", ex_content=\"\", params=params)\n",
    "\n",
    "# there are also 5 exercises corresponding to KC B\n",
    "ex_B_1 = Exercise(237947, KC_B, \"qcm\", ex_content=\"\", params=params)\n",
    "ex_B_2 = Exercise(237948, KC_B, \"qcm\", ex_content=\"\", params=params)\n",
    "ex_B_3 = Exercise(237949, KC_B, \"qcm\", ex_content=\"\", params=params)\n",
    "ex_B_4 = Exercise(237950, KC_B, \"qcm\", ex_content=\"\", params=params)\n",
    "ex_B_5 = Exercise(237951, KC_B, \"qcm\", ex_content=\"\", params=params)\n",
    "\n",
    "ex_C_1 = Exercise(237952, KC_C, \"qcm\", ex_content=\"\", params=params)\n",
    "ex_C_2 = Exercise(237953, KC_C, \"qcm\", ex_content=\"\", params=params)\n",
    "ex_C_3 = Exercise(237954, KC_C, \"qcm\", ex_content=\"\", params=params)\n",
    "ex_C_4 = Exercise(237955, KC_C, \"qcm\", ex_content=\"\", params=params)\n",
    "ex_C_5 = Exercise(237956, KC_C, \"qcm\", ex_content=\"\", params=params)\n",
    "\n",
    "def get_KC_from_exercise_id(exercise_id):\n",
    "    if exercise_id in range(237957, 237962):\n",
    "        return KC_A\n",
    "    elif exercise_id in range(237947, 237952):\n",
    "        return KC_B\n",
    "    elif exercise_id in range(237952, 237957):\n",
    "        return KC_C"
   ]
  },
  {
   "cell_type": "markdown",
   "id": "cd236dbb",
   "metadata": {},
   "source": [
    "## Clean the data\n",
    "TBD"
   ]
  },
  {
   "cell_type": "code",
   "execution_count": 3,
   "id": "494645fd",
   "metadata": {},
   "outputs": [],
   "source": [
    "df = pd.read_csv(\"5_KCs_example_data.csv\")\n",
    "df = df[df[\"exercise_id\"].isin(range(237947, 237962))]"
   ]
  },
  {
   "cell_type": "markdown",
   "id": "9fd2c89e",
   "metadata": {},
   "source": [
    "## Score of the transition prediction performance"
   ]
  },
  {
   "cell_type": "code",
   "execution_count": 4,
   "id": "bb03bc25",
   "metadata": {},
   "outputs": [],
   "source": [
    "def get_transition_predictions(dataset, learner_pool, floor_idx=0, verbose=False):\n",
    "    \"\"\"\n",
    "    Computes the prediction performance of the MSKT.\n",
    "    :param metrics: list or str, the metrics that are computed to measure the prediction performance\n",
    "    :param dataset: pandas DataFrame, the dataset on which the performance is computed\n",
    "    :param floor_index: int, the minimal number of steps from which the performance is computed\n",
    "    :param verbose: bool, verbose info\n",
    "    :return the value of the metrics on the dataset\n",
    "    \"\"\"\n",
    "    all_exp, all_pred = [], []\n",
    "    for learner_id in tqdm.tqdm(dataset[\"user_id\"].unique()):\n",
    "        learner = Learner(learner_id, learner_pool)\n",
    "        learner_df = dataset[dataset[\"user_id\"] == learner_id]\n",
    "\n",
    "        if len(learner_df[\"doc_id\"].unique()) > 1:\n",
    "            if verbose:\n",
    "                print(f\"learner #{learner.id}\")\n",
    "\n",
    "            learner_traces = [\n",
    "                [get_KC_from_exercise_id(row[\"exercise_id\"]), row[\"success\"]] for i, row in learner_df.iterrows()]\n",
    "\n",
    "            n_traces = len(learner_traces)\n",
    "            key_idx = [i for i in range(1, n_traces) if learner_traces[i-1][0] is not learner_traces[i][0]]\n",
    "            \n",
    "            expected_values = [trace[1] for trace in np.array(learner_traces)[key_idx]]\n",
    "            all_predicted_values = learner.predict_sequence(learner_traces, floor_idx, verbose)\n",
    "            predicted_values = [all_predicted_values[f\"eval({learner_traces[j][0].name}){j}\"] for j in key_idx]\n",
    "            \n",
    "            all_exp = np.concatenate((all_exp, expected_values))\n",
    "            all_pred = np.concatenate((all_pred, predicted_values))\n",
    "            if verbose:\n",
    "                print(\"predicted values\", predicted_values)\n",
    "\n",
    "    return all_exp, all_pred\n",
    "\n",
    "\n",
    "def get_transition_prediction_performance(metrics, dataset, learner_pool, floor_idx=0, verbose=False):\n",
    "    if not isinstance(metrics, list):\n",
    "        if isinstance(metrics, str):\n",
    "            metrics = [metrics]\n",
    "    for metric in metrics:\n",
    "        assert metric in ('roc_auc', 'accuracy', 'cohen_kappa'), f\"Metric {metric} not handled: only AUC, ACC, \" \\\n",
    "                                                                  f\"and Cohen Kappa can be considered.\"\n",
    "\n",
    "    all_exp, all_pred = get_transition_predictions(dataset, learner_pool, floor_idx, verbose)\n",
    "    res = [getattr(sk_metrics, f'{metric}_score')(all_exp, all_pred) for metric in metrics if metric!='cohen_kappa']\n",
    "    return res"
   ]
  },
  {
   "cell_type": "markdown",
   "id": "b7009fd8",
   "metadata": {},
   "source": [
    "### No linking -- should be equivalent to BKT"
   ]
  },
  {
   "cell_type": "code",
   "execution_count": 5,
   "id": "f1455466",
   "metadata": {
    "scrolled": false
   },
   "outputs": [
    {
     "name": "stderr",
     "output_type": "stream",
     "text": [
      "100%|██████████| 785/785 [02:31<00:00,  5.19it/s]\n"
     ]
    }
   ],
   "source": [
    "no_linking = {KC_A: {KC_C: 'not existing'}, KC_B:{KC_C: 'not existing'}, \n",
    "                  KC_C: {KC_A: 'not existing', KC_B:'not existing'}}\n",
    "learner_pool = LearnerPool(domain, no_linking, 'no links')\n",
    "\n",
    "for kc in learner_pool.get_knowledge_components():\n",
    "    learner_pool.set_learn(kc, .1)\n",
    "    learner_pool.set_prior(kc, .1)\n",
    "    learner_pool.set_slip(kc, .1)\n",
    "    learner_pool.set_guess(kc, .25)\n",
    "    learner_pool.set_forget(kc, 0)\n",
    "\n",
    "\n",
    "metrics = ['accuracy', 'roc_auc', 'cohen_kappa']\n",
    "\n",
    "all_exp, all_pred = get_transition_predictions(df, learner_pool, floor_idx=0, verbose=False)"
   ]
  },
  {
   "cell_type": "code",
   "execution_count": 6,
   "id": "01abfb91",
   "metadata": {},
   "outputs": [
    {
     "name": "stdout",
     "output_type": "stream",
     "text": [
      "0.18444266238973536 0.5 0.0\n"
     ]
    }
   ],
   "source": [
    "acc = sk_metrics.accuracy_score(all_exp, [1 if all_pred[i]>.5 else 0 for i in range(len(all_pred))])\n",
    "auc = sk_metrics.roc_auc_score(all_exp, all_pred)\n",
    "cohen_kappa = sk_metrics.cohen_kappa_score(np.array(all_exp), [1 if all_pred[i]>.6 else 0 for i in range(len(all_pred))])\n",
    "\n",
    "print(acc, auc, cohen_kappa)"
   ]
  },
  {
   "cell_type": "markdown",
   "id": "0006c9a1",
   "metadata": {},
   "source": [
    "### Weak linking"
   ]
  },
  {
   "cell_type": "code",
   "execution_count": 7,
   "id": "52867488",
   "metadata": {},
   "outputs": [
    {
     "name": "stderr",
     "output_type": "stream",
     "text": [
      "100%|██████████| 785/785 [04:39<00:00,  2.81it/s]\n"
     ]
    }
   ],
   "source": [
    "weak_linking = {KC_A: {KC_C: 'weak'}, KC_B:{KC_C: 'weak'}, \n",
    "                  KC_C:{KC_A: 'weak', KC_B:'weak'}}\n",
    "learner_pool = LearnerPool(domain, weak_linking, 'weak')\n",
    "\n",
    "for kc in learner_pool.get_knowledge_components():\n",
    "    learner_pool.set_learn(kc, .1)\n",
    "    learner_pool.set_prior(kc, .1)\n",
    "    learner_pool.set_slip(kc, .1)\n",
    "    learner_pool.set_guess(kc, .25)\n",
    "    learner_pool.set_forget(kc, 0)\n",
    "\n",
    "\n",
    "all_exp, all_pred = get_transition_predictions(df, learner_pool, floor_idx=0, verbose=False)"
   ]
  },
  {
   "cell_type": "code",
   "execution_count": 8,
   "id": "911385e0",
   "metadata": {},
   "outputs": [
    {
     "name": "stdout",
     "output_type": "stream",
     "text": [
      "0.3744987971130714 0.26599974349108635 -0.2634769691819696\n"
     ]
    }
   ],
   "source": [
    "acc = sk_metrics.accuracy_score(all_exp, [1 if all_pred[i]>.5 else 0 for i in range(len(all_pred))])\n",
    "auc = sk_metrics.roc_auc_score(all_exp, all_pred)\n",
    "cohen_kappa = sk_metrics.cohen_kappa_score(np.array(all_exp), [1 if all_pred[i]>.6 else 0 for i in range(len(all_pred))])\n",
    "\n",
    "print(acc, auc, cohen_kappa)"
   ]
  },
  {
   "cell_type": "markdown",
   "id": "1f0a2bb3",
   "metadata": {},
   "source": [
    "### Strong linking"
   ]
  },
  {
   "cell_type": "code",
   "execution_count": 11,
   "id": "e1e3968e",
   "metadata": {
    "scrolled": false
   },
   "outputs": [
    {
     "name": "stderr",
     "output_type": "stream",
     "text": [
      "100%|██████████| 785/785 [04:44<00:00,  2.76it/s]\n"
     ]
    }
   ],
   "source": [
    "strong_linking = {KC_A: {KC_C: 'strong'}, KC_B:{KC_C: 'strong'}, \n",
    "                  KC_C:{KC_A: 'strong', KC_B:'strong'}}\n",
    "learner_pool = LearnerPool(domain, strong_linking, 'strong')\n",
    "\n",
    "for kc in learner_pool.get_knowledge_components():\n",
    "    learner_pool.set_learn(kc, .1)\n",
    "    learner_pool.set_prior(kc, .1)\n",
    "    learner_pool.set_slip(kc, .1)\n",
    "    learner_pool.set_guess(kc, .25)\n",
    "    learner_pool.set_forget(kc, 0)\n",
    "\n",
    "    \n",
    "all_exp, all_pred = get_transition_predictions(df, learner_pool, floor_idx=0, verbose=False)"
   ]
  },
  {
   "cell_type": "code",
   "execution_count": 12,
   "id": "eedca733",
   "metadata": {},
   "outputs": [
    {
     "name": "stdout",
     "output_type": "stream",
     "text": [
      "0.37530072173215717 0.27199777692274807 -0.26314887250853203\n"
     ]
    }
   ],
   "source": [
    "acc = sk_metrics.accuracy_score(all_exp, [1 if all_pred[i]>.5 else 0 for i in range(len(all_pred))])\n",
    "auc = sk_metrics.roc_auc_score(all_exp, all_pred)\n",
    "cohen_kappa = sk_metrics.cohen_kappa_score(np.array(all_exp), [1 if all_pred[i]>.6 else 0 for i in range(len(all_pred))])\n",
    "\n",
    "print(acc, auc, cohen_kappa)"
   ]
  }
 ],
 "metadata": {
  "kernelspec": {
   "display_name": "Python 3",
   "language": "python",
   "name": "python3"
  },
  "language_info": {
   "codemirror_mode": {
    "name": "ipython",
    "version": 3
   },
   "file_extension": ".py",
   "mimetype": "text/x-python",
   "name": "python",
   "nbconvert_exporter": "python",
   "pygments_lexer": "ipython3",
   "version": "3.9.2"
  }
 },
 "nbformat": 4,
 "nbformat_minor": 5
}
