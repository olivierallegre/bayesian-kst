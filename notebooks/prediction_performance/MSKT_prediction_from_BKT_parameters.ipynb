{
 "cells": [
  {
   "cell_type": "markdown",
   "id": "9a2f654c",
   "metadata": {},
   "source": [
    "# MultiSkill Knowledge Tracing predictions from BKT parameters\n",
    "In this notebook, we will at first learn BKT parameters from train data. We will take a look at the performance on BKT predictions with these parameters on test data. Then, we will integrate these parameters into our algorithm and check its performance on test data. Finally, we will compare the two algorithms."
   ]
  },
  {
   "cell_type": "code",
   "execution_count": 1,
   "id": "a67e678e",
   "metadata": {},
   "outputs": [],
   "source": [
    "import sys\n",
    "sys.path.append(\"/Users/olivier/PycharmProjects/bayesian-kst/\")  # for mac\n",
    "\n",
    "import pyAgrum as gum\n",
    "from kgraph.expert_layer.domain import Domain\n",
    "from kgraph.expert_layer.knowledge_components import KnowledgeComponent\n",
    "from kgraph.expert_layer.link import Link\n",
    "from kgraph.resources_layer.exercise import Exercise\n",
    "from kgraph.learner_layer.answer import LearnerAnswer\n",
    "from kgraph.learner_layer.learner import Learner\n",
    "from kgraph.learner_layer.learner_pool import LearnerPool\n",
    "from kgraph.helpers.truthtable import truthtable\n",
    "from math import floor\n",
    "import pyAgrum.lib.notebook as gnb\n",
    "import pyAgrum.lib.dynamicBN as gdyn\n",
    "import random\n",
    "import itertools\n",
    "import numpy as np\n",
    "import tqdm\n",
    "import sklearn.metrics as sk_metrics\n",
    "from sklearn.model_selection import KFold"
   ]
  },
  {
   "cell_type": "markdown",
   "id": "5f89df8b",
   "metadata": {},
   "source": [
    "## Import the data"
   ]
  },
  {
   "cell_type": "code",
   "execution_count": 2,
   "id": "ee9c8122",
   "metadata": {},
   "outputs": [],
   "source": [
    "# we define the KCs\n",
    "\n",
    "KC_A = KnowledgeComponent(55365, \"Déterminer l'appartenance d'un nombre réel à un intervalle fini\")\n",
    "KC_B = KnowledgeComponent(55363, \"Déterminer l'appartenance d'un nombre réel à un intervalle infini\")\n",
    "KC_C = KnowledgeComponent(55364, \"Déterminer l'appartenance d'un nombre réel à un intervalle simple\")\n",
    "KC_D = KnowledgeComponent(50988, \"Déterminer l'appartenance d'un nombre réel à une intersection d'intervalles de R\")\n",
    "KC_E = KnowledgeComponent(50989, \"Déterminer l'appartenance d'un nombre réel à une réunion d'intervalles de R\")\n",
    "\n",
    "A_2_C = Link(source=KC_A, target=KC_C)\n",
    "B_2_C = Link(source=KC_B, target=KC_C)\n",
    "C_2_D = Link(source=KC_C, target=KC_D)\n",
    "C_2_E = Link(source=KC_C, target=KC_E)\n",
    "domain = Domain([KC_A, KC_B, KC_C, KC_D, KC_E], [A_2_C, B_2_C, C_2_D, C_2_E])\n",
    "\n",
    "params = {\"slip\": .01, \"guess\":.01}\n",
    "\n",
    "# there are 5 exercises corresponding to KC A\n",
    "ex_A_1 = Exercise(237957, KC_A, \"qcm\", ex_content=\"\", params=params)\n",
    "ex_A_2 = Exercise(237958, KC_A, \"qcm\", ex_content=\"\", params=params)\n",
    "ex_A_3 = Exercise(237959, KC_A, \"qcm\", ex_content=\"\", params=params)\n",
    "ex_A_4 = Exercise(237960, KC_A, \"qcm\", ex_content=\"\", params=params)\n",
    "ex_A_5 = Exercise(237961, KC_A, \"qcm\", ex_content=\"\", params=params)\n",
    "\n",
    "# there are also 5 exercises corresponding to KC B\n",
    "ex_B_1 = Exercise(237947, KC_B, \"qcm\", ex_content=\"\", params=params)\n",
    "ex_B_2 = Exercise(237948, KC_B, \"qcm\", ex_content=\"\", params=params)\n",
    "ex_B_3 = Exercise(237949, KC_B, \"qcm\", ex_content=\"\", params=params)\n",
    "ex_B_4 = Exercise(237950, KC_B, \"qcm\", ex_content=\"\", params=params)\n",
    "ex_B_5 = Exercise(237951, KC_B, \"qcm\", ex_content=\"\", params=params)\n",
    "\n",
    "ex_C_1 = Exercise(237952, KC_C, \"qcm\", ex_content=\"\", params=params)\n",
    "ex_C_2 = Exercise(237953, KC_C, \"qcm\", ex_content=\"\", params=params)\n",
    "ex_C_3 = Exercise(237954, KC_C, \"qcm\", ex_content=\"\", params=params)\n",
    "ex_C_4 = Exercise(237955, KC_C, \"qcm\", ex_content=\"\", params=params)\n",
    "ex_C_5 = Exercise(237956, KC_C, \"qcm\", ex_content=\"\", params=params)\n",
    "\n",
    "\n",
    "ex_D_1 = Exercise(225183, KC_D, \"qcm\", ex_content=\"\", params=params)\n",
    "ex_D_2 = Exercise(225184, KC_D, \"qcm\", ex_content=\"\", params=params)\n",
    "ex_D_3 = Exercise(225185, KC_D, \"qcm\", ex_content=\"\", params=params)\n",
    "ex_D_4 = Exercise(225186, KC_D, \"qcm\", ex_content=\"\", params=params)\n",
    "ex_D_5 = Exercise(225187, KC_D, \"qcm\", ex_content=\"\", params=params)\n",
    "\n",
    "ex_E_1 = Exercise(225165, KC_E, \"qcm\", ex_content=\"\", params=params)\n",
    "ex_E_2 = Exercise(225166, KC_E, \"qcm\", ex_content=\"\", params=params)\n",
    "ex_E_3 = Exercise(225167, KC_E, \"qcm\", ex_content=\"\", params=params)\n",
    "ex_E_4 = Exercise(225168, KC_E, \"qcm\", ex_content=\"\", params=params)\n",
    "ex_E_5 = Exercise(225169, KC_E, \"qcm\", ex_content=\"\", params=params)\n",
    "\n",
    "def get_KC_from_exercise_id(exercise_id):\n",
    "    if exercise_id in range(237957, 237962):\n",
    "        return KC_A\n",
    "    elif exercise_id in range(237947, 237952):\n",
    "        return KC_B\n",
    "    elif exercise_id in range(237952, 237957):\n",
    "        return KC_C\n",
    "    elif exercise_id in range(225183, 225188):\n",
    "        return KC_D\n",
    "    else:\n",
    "        return KC_E"
   ]
  },
  {
   "cell_type": "markdown",
   "id": "cd236dbb",
   "metadata": {},
   "source": [
    "## Clean the data"
   ]
  },
  {
   "cell_type": "markdown",
   "id": "66fe5da8",
   "metadata": {},
   "source": [
    "## Define train and test datasets"
   ]
  },
  {
   "cell_type": "code",
   "execution_count": 3,
   "id": "a6132b81",
   "metadata": {
    "scrolled": false
   },
   "outputs": [
    {
     "name": "stdout",
     "output_type": "stream",
     "text": [
      "         idx  doc_id  exercise_id  evaluation_id  success  user_id  \\\n",
      "0          1   50988       225183      109276367        0   757204   \n",
      "1          2   50988       225183      109293461        1  2052585   \n",
      "2          3   50988       225183      109293517        1  2052585   \n",
      "3          4   50988       225183      109293574        1  2052585   \n",
      "4          5   50988       225183      109307385        1  1896564   \n",
      "...      ...     ...          ...            ...      ...      ...   \n",
      "42478  42479   55365       237961      151659716        1  1278392   \n",
      "42479  42480   55365       237961      151664581        1  3926123   \n",
      "42480  42481   55365       237961      151667070        1  3275043   \n",
      "42481  42482   55365       237961      151667191        1  3275043   \n",
      "42482  42483   55365       237961      151669835        1  1699544   \n",
      "\n",
      "                 createdAt  \n",
      "0      2019-08-12 12:57:49  \n",
      "1      2019-08-12 19:18:03  \n",
      "2      2019-08-12 19:20:45  \n",
      "3      2019-08-12 19:23:40  \n",
      "4      2019-08-13 11:16:49  \n",
      "...                    ...  \n",
      "42478  2021-09-15 15:40:56  \n",
      "42479  2021-09-15 17:48:58  \n",
      "42480  2021-09-15 18:53:20  \n",
      "42481  2021-09-15 18:56:27  \n",
      "42482  2021-09-15 20:34:52  \n",
      "\n",
      "[42483 rows x 7 columns]\n"
     ]
    }
   ],
   "source": []
  },
  {
   "cell_type": "markdown",
   "id": "efc534fd",
   "metadata": {},
   "source": [
    "## Learn the BKT parameters from the train dataset"
   ]
  },
  {
   "cell_type": "code",
   "execution_count": 4,
   "id": "48d1c9ea",
   "metadata": {},
   "outputs": [],
   "source": [
    "from pyBKT.models import Model\n",
    "import pandas as pd\n",
    "\n",
    "def get_strongest_folds(full, axis=\"user_id\", nb_folds=5):\n",
    "    all_elements = full[axis].unique()\n",
    "\n",
    "    kfold = KFold(nb_folds, shuffle=True)\n",
    "    folds = []\n",
    "    for i, (train, test) in enumerate(kfold.split(all_elements)):\n",
    "        list_of_test_ids = []\n",
    "        for element_id in test:\n",
    "            list_of_test_ids += list(full.query(f'{axis} == {all_elements[element_id]}').index)\n",
    "        folds.append(np.array(list_of_test_ids))\n",
    "    \n",
    "    return folds\n",
    "\n",
    "folds = get_strongest_folds(df, \"user_id\", 2)\n",
    "test_ids = folds[0]\n",
    "\n",
    "train_ids = list(set(list(df.index.values)) - set(test_ids))\n",
    "\n",
    "df_train = df[df.index.isin(train_ids)]\n",
    "df_test = df[df.index.isin(test_ids)]\n",
    "\n",
    "\n",
    "# Initialize the model with an optional seed\n",
    "model = Model(seed = 42, num_fits = 1)\n",
    "defaults = {'order_id': 'idx', 'skill_name': 'doc_id', 'correct': 'success'}\n",
    "\n",
    "model.fit(data = df_train, defaults = defaults)\n",
    "preds_df = model.predict(data=df_test)\n",
    "\n",
    "expected_values = df_test[\"success\"]\n",
    "predicted_values = list(preds_df[\"correct_predictions\"])\n",
    "print('ACC', model.evaluate(data = df_test, metric = 'accuracy'))\n",
    "print('AUC', model.evaluate(data = df_test, metric = 'auc'))\n",
    "print('kappa', sk_metrics.cohen_kappa_score(np.array(expected_values), [1 if predicted_values[i]>.6 else 0 for i in range(len(predicted_values))]))"
   ]
  },
  {
   "cell_type": "markdown",
   "id": "8707d26e",
   "metadata": {},
   "source": [
    "### Score with pyBKT"
   ]
  },
  {
   "cell_type": "code",
   "execution_count": 5,
   "id": "9ce7b7c6",
   "metadata": {},
   "outputs": [
    {
     "name": "stdout",
     "output_type": "stream",
     "text": [
      "ACC 0.7362683438155136\n",
      "AUC 0.69986070273449\n",
      "kappa 0.24418008730785223\n"
     ]
    }
   ],
   "source": []
  },
  {
   "cell_type": "markdown",
   "id": "9fd2c89e",
   "metadata": {},
   "source": [
    "## Compute the score of MSKT on the test dataset with trained BKT parameters"
   ]
  },
  {
   "cell_type": "code",
   "execution_count": 6,
   "id": "4d1af8b4",
   "metadata": {},
   "outputs": [
    {
     "ename": "SyntaxError",
     "evalue": "invalid syntax (<ipython-input-6-c12fc3b10d7c>, line 31)",
     "output_type": "error",
     "traceback": [
      "\u001b[0;36m  File \u001b[0;32m\"<ipython-input-6-c12fc3b10d7c>\"\u001b[0;36m, line \u001b[0;32m31\u001b[0m\n\u001b[0;31m    print(\"learner traces:\", [trace[0].name, trace[1] for trace in learner_traces])\u001b[0m\n\u001b[0m                                                      ^\u001b[0m\n\u001b[0;31mSyntaxError\u001b[0m\u001b[0;31m:\u001b[0m invalid syntax\n"
     ]
    }
   ],
   "source": [
    "def get_predictions_from_dataset(dataset, learner_pool, floor_idx=0, verbose=False):\n",
    "    \"\"\"\n",
    "    Computes the prediction performance of the MSKT.\n",
    "    :param metrics: list or str, the metrics that are computed to measure the prediction performance\n",
    "    :param dataset: pandas DataFrame, the dataset on which the performance is computed\n",
    "    :param floor_index: int, the minimal number of steps from which the performance is computed\n",
    "    :param verbose: bool, verbose info\n",
    "    :return the value of the metrics on the dataset\n",
    "    \"\"\"\n",
    "    all_exp, all_pred = [], []\n",
    "    for learner_id in tqdm.tqdm(dataset[\"user_id\"].unique()[:100]):\n",
    "        learner = Learner(learner_id, learner_pool)\n",
    "        learner_df = dataset[dataset[\"user_id\"] == learner_id]\n",
    "\n",
    "        if len(learner_df[\"doc_id\"].unique()) > 1:\n",
    "            learner_traces = [\n",
    "                [get_KC_from_exercise_id(row[\"exercise_id\"]), row[\"success\"]] for i, row in learner_df.iterrows()]\n",
    "\n",
    "            n_traces = len(learner_traces)\n",
    "            key_idx = [i for i in range(1, n_traces) if learner_traces[i-1][0] is not learner_traces[i][0]]\n",
    "            \n",
    "            expected_values = [trace[1] for trace in np.array(learner_traces)[key_idx]]\n",
    "            predicted_values = learner.predict_sequence(learner_traces, floor_idx, verbose)\n",
    "            predicted_values = [predicted_values[f\"eval({learner_traces[j][0].name}){j}\"] for j in key_idx]\n",
    "            \n",
    "            all_exp.append(expected_values)\n",
    "            all_pred.append(predicted_values)\n",
    "            \n",
    "            if verbose:\n",
    "                print(f\"learner #{learner.id}\")\n",
    "                print(\"learner traces:\", [trace[0].name, trace[1] for trace in learner_traces])\n",
    "                print(\"key indices\", key_idx)\n",
    "                print(\"predicted values\", predicted_values)\n",
    "    return all_exp, all_pred\n",
    "\n",
    "\n",
    "def get_prediction_performance(metrics, dataset, learner_pool, floor_idx=0, verbose=False):\n",
    "    if not isinstance(metrics, list):\n",
    "        if isinstance(metrics, str):\n",
    "            metrics = [metrics]\n",
    "    for metric in metrics:\n",
    "        assert metric in ('roc_auc', 'accuracy', 'cohen_kappa'), f\"Metric {metric} not handled: only AUC, ACC, \" \\\n",
    "                                                                  f\"and Cohen Kappa can be considered.\"\n",
    "\n",
    "    all_exp, all_pred = get_predictions_from_dataset(dataset, learner_pool, floor_idx, verbose)\n",
    "    res = [getattr(sk_metrics, f'{metric}_score')(all_exp, all_pred) for metric in metrics if metric!='cohen_kappa']\n",
    "    return res"
   ]
  },
  {
   "cell_type": "markdown",
   "id": "b7009fd8",
   "metadata": {},
   "source": [
    "### No linking -- should be equivalent to BKT"
   ]
  },
  {
   "cell_type": "code",
   "execution_count": null,
   "id": "f1455466",
   "metadata": {
    "scrolled": false
   },
   "outputs": [],
   "source": [
    "no_linking = {KC_A: {KC_C: 'not existing'}, KC_B:{KC_C: 'not existing'}, \n",
    "                  KC_C: {KC_A: 'not existing', KC_B:'not existing', KC_D: 'not existing', KC_E:'not existing'},\n",
    "                  KC_D: {KC_C: 'not existing'}, KC_E:{KC_C: 'not existing'}}\n",
    "learner_pool = LearnerPool(domain, no_linking, 'no links')\n",
    "\n",
    "for kc in learner_pool.get_knowledge_components():\n",
    "    learner_pool.set_learn(kc, model.params().loc[f'{kc.id}', 'learns', 'default'].value)\n",
    "    learner_pool.set_prior(kc, model.params().loc[f'{kc.id}', 'prior', 'default'].value)\n",
    "    learner_pool.set_slip(kc, model.params().loc[f'{kc.id}', 'slips', 'default'].value)\n",
    "    learner_pool.set_guess(kc, model.params().loc[f'{kc.id}', 'guesses', 'default'].value)\n",
    "    learner_pool.set_forget(kc, model.params().loc[f'{kc.id}', 'forgets', 'default'].value)\n",
    "    print(model.params().loc[f'{kc.id}', 'prior', 'default'].value)\n",
    "\n",
    "    \n",
    "metrics = ['accuracy', 'roc_auc', 'cohen_kappa']\n",
    "\n",
    "all_exp, all_pred = get_predictions_from_dataset(df, learner_pool, floor_idx=0, verbose=False)"
   ]
  },
  {
   "cell_type": "code",
   "execution_count": null,
   "id": "d2f9f702",
   "metadata": {},
   "outputs": [],
   "source": [
    "acc = sk_metrics.accuracy_score(all_exp, [1 if all_pred[i]>.5 else 0 for i in range(len(all_pred))])\n",
    "auc = sk_metrics.roc_auc_score(all_exp, all_pred)\n",
    "cohen_kappa = sk_metrics.cohen_kappa_score(np.array(all_exp), [1 if all_pred[i]>.6 else 0 for i in range(len(all_pred))])\n",
    "\n",
    "print(acc, auc, cohen_kappa)"
   ]
  },
  {
   "cell_type": "code",
   "execution_count": null,
   "id": "d6f1f779",
   "metadata": {
    "scrolled": false
   },
   "outputs": [],
   "source": [
    "import sys \n",
    "np.set_printoptions(threshold=sys.maxsize)\n",
    "print(df[df[\"user_id\"].isin(df[\"user_id\"].unique()[:100])])\n",
    "print(np.array(all_exp), np.array(all_pred))"
   ]
  },
  {
   "cell_type": "markdown",
   "id": "9c4cbe6b",
   "metadata": {},
   "source": [
    "ACC 0.7314253222137983\n",
    "AUC 0.6760619811530224\n",
    "MAE 0.37621672612561663\n"
   ]
  },
  {
   "cell_type": "markdown",
   "id": "0006c9a1",
   "metadata": {},
   "source": [
    "### Weak linking"
   ]
  },
  {
   "cell_type": "code",
   "execution_count": null,
   "id": "52867488",
   "metadata": {},
   "outputs": [],
   "source": [
    "weak_linking = {KC_A: {KC_C: 'weak'}, KC_B:{KC_C: 'weak'}, \n",
    "                  KC_C:{KC_A: 'weak', KC_B:'weak', KC_D: 'weak', KC_E:'weak'},\n",
    "                  KC_D: {KC_C: 'weak'}, KC_E:{KC_C: 'weak'}}\n",
    "learner_pool = LearnerPool(domain, weak_linking, 'weak')\n",
    "\n",
    "for kc in learner_pool.get_knowledge_components():\n",
    "    learner_pool.set_learn(kc, model.params().loc[f'{kc.id}', 'learns', 'default'].value)\n",
    "    learner_pool.set_prior(kc, model.params().loc[f'{kc.id}', 'prior', 'default'].value)\n",
    "    learner_pool.set_slip(kc, model.params().loc[f'{kc.id}', 'slips', 'default'].value)\n",
    "    learner_pool.set_guess(kc, model.params().loc[f'{kc.id}', 'guesses', 'default'].value)\n",
    "    learner_pool.set_forget(kc, model.params().loc[f'{kc.id}', 'forgets', 'default'].value)\n",
    "\n",
    "\n",
    "all_exp, all_pred = get_predictions_from_dataset(df, learner_pool, floor_idx=0, verbose=True)\n",
    "\n",
    "acc = sk_metrics.accuracy_score(all_exp, [1 if all_pred[i]>.5 else 0 for i in range(len(all_pred))])\n",
    "auc = sk_metrics.roc_auc_score(all_exp, all_pred)\n",
    "cohen_kappa = sk_metrics.cohen_kappa_score(np.array(all_exp), [1 if all_pred[i]>.6 else 0 for i in range(len(all_pred))])\n",
    "\n",
    "print(acc, auc, cohen_kappa)"
   ]
  },
  {
   "cell_type": "code",
   "execution_count": null,
   "id": "129726d8",
   "metadata": {},
   "outputs": [],
   "source": [
    "import sys\n",
    "np.set_printoptions(threshold=sys.maxsize)\n",
    "print(np.array(all_exp), np.array(all_pred))"
   ]
  },
  {
   "cell_type": "markdown",
   "id": "32070f2c",
   "metadata": {},
   "source": [
    "spread au moment de regarder la next step\n",
    "\n",
    "ACC 0.7332687159604911\n",
    "AUC 0.689356682892977\n",
    "MAE 0.367123167694489\n",
    "\n",
    "avnt\n",
    "ACC 0.7314253222137983\n",
    "AUC 0.688447139953072\n",
    "MAE 0.3572016288976596\n"
   ]
  },
  {
   "cell_type": "markdown",
   "id": "1f0a2bb3",
   "metadata": {},
   "source": [
    "### Strong linking"
   ]
  },
  {
   "cell_type": "code",
   "execution_count": null,
   "id": "e1e3968e",
   "metadata": {},
   "outputs": [],
   "source": [
    "strong_linking = {KC_A: {KC_C: 'strong'}, KC_B:{KC_C: 'strong'}, \n",
    "                  KC_C:{KC_A: 'strong', KC_B:'strong', KC_D: 'strong', KC_E:'strong'},\n",
    "                  KC_D: {KC_C: 'strong'}, KC_E:{KC_C: 'strong'}}\n",
    "learner_pool = LearnerPool(domain, strong_linking, 'strong')\n",
    "\n",
    "for kc in learner_pool.get_knowledge_components():\n",
    "    learner_pool.set_learn(kc, model.params().loc[f'{kc.id}', 'learns', 'default'].value)\n",
    "    learner_pool.set_prior(kc, 0)\n",
    "    learner_pool.set_slip(kc, model.params().loc[f'{kc.id}', 'slips', 'default'].value)\n",
    "    learner_pool.set_guess(kc, model.params().loc[f'{kc.id}', 'guesses', 'default'].value)\n",
    "    learner_pool.set_forget(kc, model.params().loc[f'{kc.id}', 'forgets', 'default'].value)\n",
    "\n",
    "    \n",
    "student_df = df[df[\"user_id\"] == np.unique(df[\"user_id\"])[1]]\n",
    "all_exp, all_pred = get_predictions_from_dataset(student_df, learner_pool, floor_idx=0, verbose=True)\n",
    "\n",
    "acc = sk_metrics.accuracy_score(all_exp, [1 if all_pred[i]>.5 else 0 for i in range(len(all_pred))])\n",
    "auc = sk_metrics.roc_auc_score(all_exp, all_pred)\n",
    "cohen_kappa = sk_metrics.cohen_kappa_score(np.array(all_exp), [1 if all_pred[i]>.6 else 0 for i in range(len(all_pred))])\n",
    "\n",
    "print(acc, auc, cohen_kappa)"
   ]
  },
  {
   "cell_type": "code",
   "execution_count": null,
   "id": "2b4009c1",
   "metadata": {},
   "outputs": [],
   "source": [
    "import sys \n",
    "np.set_printoptions(threshold=sys.maxsize)\n",
    "print(np.array(all_exp), np.array(all_pred))"
   ]
  },
  {
   "cell_type": "markdown",
   "id": "21c0c12d",
   "metadata": {},
   "source": [
    "spread au momentde la préd\n",
    "\n",
    "ACC 0.7332687159604911\n",
    "AUC 0.6889450343589241\n",
    "MAE 0.3671020179386424\n",
    "\n",
    "\n",
    "\n",
    "ACC 0.7314253222137983\n",
    "AUC 0.6884344591123446\n",
    "MAE 0.3571178246783089\n"
   ]
  }
 ],
 "metadata": {
  "kernelspec": {
   "display_name": "Python 3",
   "language": "python",
   "name": "python3"
  },
  "language_info": {
   "codemirror_mode": {
    "name": "ipython",
    "version": 3
   },
   "file_extension": ".py",
   "mimetype": "text/x-python",
   "name": "python",
   "nbconvert_exporter": "python",
   "pygments_lexer": "ipython3",
   "version": "3.9.2"
  }
 },
 "nbformat": 4,
 "nbformat_minor": 5
}
