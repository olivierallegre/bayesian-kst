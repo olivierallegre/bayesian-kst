{
 "cells": [
  {
   "cell_type": "markdown",
   "id": "1fd256a5",
   "metadata": {},
   "source": [
    "# HOW TO: dynamically infer the learner knowledge states "
   ]
  },
  {
   "cell_type": "markdown",
   "id": "06a084cd",
   "metadata": {},
   "source": [
    "### Package importation"
   ]
  },
  {
   "cell_type": "code",
   "execution_count": 1,
   "id": "fc1230f8",
   "metadata": {},
   "outputs": [],
   "source": [
    "import sys\n",
    "sys.path.append(\"/Users/olivier/PycharmProjects/bayesian-kst/\")  # for mac\n",
    "\n",
    "import pyAgrum as gum\n",
    "from kgraph.expert_layer.domain import Domain\n",
    "from kgraph.expert_layer.knowledge_components import KnowledgeComponent\n",
    "from kgraph.expert_layer.link import Link\n",
    "from kgraph.resources_layer.exercise import Exercise\n",
    "from kgraph.learner_layer.answer import LearnerAnswer\n",
    "from kgraph.learner_layer.learner import Learner\n",
    "from kgraph.learner_layer.learner_pool import LearnerPool\n",
    "from kgraph.helpers.truthtable import truthtable\n",
    "from math import floor\n",
    "import pyAgrum.lib.notebook as gnb\n",
    "import pyAgrum.lib.dynamicBN as gdyn\n",
    "import random\n",
    "import itertools\n",
    "import numpy as np\n",
    "from sklearn.metrics import roc_auc_score"
   ]
  },
  {
   "cell_type": "markdown",
   "id": "5731fce8",
   "metadata": {},
   "source": [
    "## Modélisation du réseau bayésien dynamique à partir du modèle du domaine"
   ]
  },
  {
   "cell_type": "markdown",
   "id": "ea1b92bc",
   "metadata": {},
   "source": [
    "Exporting the domain from dataset"
   ]
  },
  {
   "cell_type": "markdown",
   "id": "940808fb",
   "metadata": {},
   "source": [
    "### Defining the domain\n",
    "\n",
    "We consider the following domain: \n",
    "- KC A : \"Déterminer l'appartenance d'un nombre réel à un intervalle fini\"\n",
    "- KC B : \"Déterminer l'appartenance d'un nombre réel à un intervalle infini\"\n",
    "- KC C : \"Déterminer l'appartenance d'un nombre réel à un intervalle simple\"\n",
    "- KC D : \"Déterminer l'appartenance d'un nombre réel à une intersection d'intervalles de R\"\n",
    "- KC E : \"Déterminer l'appartenance d'un nombre réel à une réunion d'intervalles de R\""
   ]
  },
  {
   "cell_type": "code",
   "execution_count": 2,
   "id": "d44a282c",
   "metadata": {},
   "outputs": [],
   "source": [
    "# we define the KCs\n",
    "\n",
    "KC_A = KnowledgeComponent(55365, \"Déterminer l'appartenance d'un nombre réel à un intervalle fini\")\n",
    "KC_B = KnowledgeComponent(55363, \"Déterminer l'appartenance d'un nombre réel à un intervalle infini\")\n",
    "KC_C = KnowledgeComponent(55364, \"Déterminer l'appartenance d'un nombre réel à un intervalle simple\")\n",
    "KC_D = KnowledgeComponent(50988, \"Déterminer l'appartenance d'un nombre réel à une intersection d'intervalles de R\")\n",
    "KC_E = KnowledgeComponent(50989, \"Déterminer l'appartenance d'un nombre réel à une réunion d'intervalles de R\")\n",
    "\n",
    "A_2_C = Link(source=KC_A, target=KC_C)\n",
    "B_2_C = Link(source=KC_B, target=KC_C)\n",
    "C_2_D = Link(source=KC_C, target=KC_D)\n",
    "C_2_E = Link(source=KC_C, target=KC_E)\n",
    "domain = Domain([KC_A, KC_B, KC_C, KC_D, KC_E], [A_2_C, B_2_C, C_2_D, C_2_E])\n",
    "\n",
    "params = {\"slip\": .01, \"guess\":.01}\n",
    "\n",
    "# there are 5 exercises corresponding to KC A\n",
    "ex_A_1 = Exercise(237957, KC_A, \"qcm\", ex_content=\"\", params=params)\n",
    "ex_A_2 = Exercise(237958, KC_A, \"qcm\", ex_content=\"\", params=params)\n",
    "ex_A_3 = Exercise(237959, KC_A, \"qcm\", ex_content=\"\", params=params)\n",
    "ex_A_4 = Exercise(237960, KC_A, \"qcm\", ex_content=\"\", params=params)\n",
    "ex_A_5 = Exercise(237961, KC_A, \"qcm\", ex_content=\"\", params=params)\n",
    "\n",
    "# there are also 5 exercises corresponding to KC B\n",
    "ex_B_1 = Exercise(237947, KC_B, \"qcm\", ex_content=\"\", params=params)\n",
    "ex_B_2 = Exercise(237948, KC_B, \"qcm\", ex_content=\"\", params=params)\n",
    "ex_B_3 = Exercise(237949, KC_B, \"qcm\", ex_content=\"\", params=params)\n",
    "ex_B_4 = Exercise(237950, KC_B, \"qcm\", ex_content=\"\", params=params)\n",
    "ex_B_5 = Exercise(237951, KC_B, \"qcm\", ex_content=\"\", params=params)\n",
    "\n",
    "ex_C_1 = Exercise(237952, KC_C, \"qcm\", ex_content=\"\", params=params)\n",
    "ex_C_2 = Exercise(237953, KC_C, \"qcm\", ex_content=\"\", params=params)\n",
    "ex_C_3 = Exercise(237954, KC_C, \"qcm\", ex_content=\"\", params=params)\n",
    "ex_C_4 = Exercise(237955, KC_C, \"qcm\", ex_content=\"\", params=params)\n",
    "ex_C_5 = Exercise(237956, KC_C, \"qcm\", ex_content=\"\", params=params)\n",
    "\n",
    "\n",
    "ex_D_1 = Exercise(225183, KC_D, \"qcm\", ex_content=\"\", params=params)\n",
    "ex_D_2 = Exercise(225184, KC_D, \"qcm\", ex_content=\"\", params=params)\n",
    "ex_D_3 = Exercise(225185, KC_D, \"qcm\", ex_content=\"\", params=params)\n",
    "ex_D_4 = Exercise(225186, KC_D, \"qcm\", ex_content=\"\", params=params)\n",
    "ex_D_5 = Exercise(225187, KC_D, \"qcm\", ex_content=\"\", params=params)\n",
    "\n",
    "ex_E_1 = Exercise(225165, KC_E, \"qcm\", ex_content=\"\", params=params)\n",
    "ex_E_2 = Exercise(225166, KC_E, \"qcm\", ex_content=\"\", params=params)\n",
    "ex_E_3 = Exercise(225167, KC_E, \"qcm\", ex_content=\"\", params=params)\n",
    "ex_E_4 = Exercise(225168, KC_E, \"qcm\", ex_content=\"\", params=params)\n",
    "ex_E_5 = Exercise(225169, KC_E, \"qcm\", ex_content=\"\", params=params)\n",
    "\n",
    "def get_KC_from_exercise_id(exercise_id):\n",
    "    if exercise_id in range(237957, 237962):\n",
    "        return KC_A\n",
    "    elif exercise_id in range(237947, 237952):\n",
    "        return KC_B\n",
    "    elif exercise_id in range(237952, 237957):\n",
    "        return KC_C\n",
    "    elif exercise_id in range(225183, 225188):\n",
    "        return KC_D\n",
    "    else:\n",
    "        return KC_E\n",
    "    "
   ]
  },
  {
   "cell_type": "markdown",
   "id": "89e68a49",
   "metadata": {},
   "source": [
    "## Modélisation de l'apprentissage de l'apprenant à partir d'ajout de preuves au modèle du domaine"
   ]
  },
  {
   "cell_type": "code",
   "execution_count": 3,
   "id": "a5520f3a",
   "metadata": {},
   "outputs": [
    {
     "name": "stdout",
     "output_type": "stream",
     "text": [
      "       exercise_id  evaluation_id  success  user_id            createdAt\n",
      "0           225183      109276367        0   757204  2019-08-12 12:57:49\n",
      "1           225183      109293461        1  2052585  2019-08-12 19:18:03\n",
      "2           225183      109293517        1  2052585  2019-08-12 19:20:45\n",
      "3           225183      109293574        1  2052585  2019-08-12 19:23:40\n",
      "4           225183      109307385        1  1896564  2019-08-13 11:16:49\n",
      "...            ...            ...      ...      ...                  ...\n",
      "42006       237961      151532622        1  3940614  2021-09-08 12:49:53\n",
      "42007       237961      151546756        1  1970804  2021-09-08 23:48:52\n",
      "42008       237961      151546760        1  1970804  2021-09-08 23:49:21\n",
      "42009       237961      151549675        1  3943368  2021-09-09 11:07:45\n",
      "42010       237961      151549982        0  3940672  2021-09-09 11:22:25\n",
      "\n",
      "[42011 rows x 5 columns]\n"
     ]
    }
   ],
   "source": [
    "import pandas as pd\n",
    "\n",
    "df = pd.read_csv(\"5_KCs_example_data.csv\")\n",
    "\n",
    "print(df)"
   ]
  },
  {
   "cell_type": "markdown",
   "id": "560e3c62",
   "metadata": {},
   "source": [
    "### Data cleaning"
   ]
  },
  {
   "cell_type": "code",
   "execution_count": 4,
   "id": "6b0720c2",
   "metadata": {},
   "outputs": [],
   "source": [
    "g = df.groupby('user_id')\n",
    "df = g.filter(lambda x: len(x) > 10)\n"
   ]
  },
  {
   "cell_type": "code",
   "execution_count": 5,
   "id": "ae9da4b2",
   "metadata": {},
   "outputs": [
    {
     "name": "stdout",
     "output_type": "stream",
     "text": [
      "1220158 55\n"
     ]
    }
   ],
   "source": [
    "strong_linking = {KC_A: {KC_C: 'strong'}, KC_B:{KC_C: 'strong'}, \n",
    "                  KC_C:{KC_A: 'strong', KC_B:'strong', KC_D: 'strong', KC_E:'strong'},\n",
    "                  KC_D: {KC_C: 'strong'}, KC_E:{KC_C: 'strong'}}\n",
    "learner_pool = LearnerPool(domain, strong_linking, 'strong')\n",
    "\n",
    "random_learner_id = random.choice(df[\"user_id\"].unique())\n",
    "learner = Learner(random_learner_id, learner_pool)\n",
    "\n",
    "learner_evals = df[df[\"user_id\"]==random_learner_id]\n",
    "print(random_learner_id, len(learner_evals.index))"
   ]
  },
  {
   "cell_type": "markdown",
   "id": "86a487e5",
   "metadata": {},
   "source": [
    "## Compute learner answers prediction"
   ]
  },
  {
   "cell_type": "code",
   "execution_count": 6,
   "id": "c6cd4d24",
   "metadata": {
    "scrolled": false
   },
   "outputs": [
    {
     "name": "stdout",
     "output_type": "stream",
     "text": [
      "The answers of the learner are: [[\"Déterminer l'appartenance d'un nombre réel à une intersection d'intervalles de R\", 0], [\"Déterminer l'appartenance d'un nombre réel à une intersection d'intervalles de R\", 0], [\"Déterminer l'appartenance d'un nombre réel à une intersection d'intervalles de R\", 0], [\"Déterminer l'appartenance d'un nombre réel à une intersection d'intervalles de R\", 1], [\"Déterminer l'appartenance d'un nombre réel à une intersection d'intervalles de R\", 1], [\"Déterminer l'appartenance d'un nombre réel à une intersection d'intervalles de R\", 1], [\"Déterminer l'appartenance d'un nombre réel à une intersection d'intervalles de R\", 0], [\"Déterminer l'appartenance d'un nombre réel à une intersection d'intervalles de R\", 1], [\"Déterminer l'appartenance d'un nombre réel à une intersection d'intervalles de R\", 1], [\"Déterminer l'appartenance d'un nombre réel à une intersection d'intervalles de R\", 1], [\"Déterminer l'appartenance d'un nombre réel à une intersection d'intervalles de R\", 1], [\"Déterminer l'appartenance d'un nombre réel à une intersection d'intervalles de R\", 1], [\"Déterminer l'appartenance d'un nombre réel à une intersection d'intervalles de R\", 1], [\"Déterminer l'appartenance d'un nombre réel à une intersection d'intervalles de R\", 1], [\"Déterminer l'appartenance d'un nombre réel à une intersection d'intervalles de R\", 0], [\"Déterminer l'appartenance d'un nombre réel à une intersection d'intervalles de R\", 1], [\"Déterminer l'appartenance d'un nombre réel à une intersection d'intervalles de R\", 0], [\"Déterminer l'appartenance d'un nombre réel à une intersection d'intervalles de R\", 1], [\"Déterminer l'appartenance d'un nombre réel à une intersection d'intervalles de R\", 1], [\"Déterminer l'appartenance d'un nombre réel à une intersection d'intervalles de R\", 1], [\"Déterminer l'appartenance d'un nombre réel à une intersection d'intervalles de R\", 1], [\"Déterminer l'appartenance d'un nombre réel à une intersection d'intervalles de R\", 1], [\"Déterminer l'appartenance d'un nombre réel à une intersection d'intervalles de R\", 1], [\"Déterminer l'appartenance d'un nombre réel à une intersection d'intervalles de R\", 1], [\"Déterminer l'appartenance d'un nombre réel à une intersection d'intervalles de R\", 1], [\"Déterminer l'appartenance d'un nombre réel à une réunion d'intervalles de R\", 0], [\"Déterminer l'appartenance d'un nombre réel à une réunion d'intervalles de R\", 1], [\"Déterminer l'appartenance d'un nombre réel à une réunion d'intervalles de R\", 1], [\"Déterminer l'appartenance d'un nombre réel à une réunion d'intervalles de R\", 1], [\"Déterminer l'appartenance d'un nombre réel à une réunion d'intervalles de R\", 1], [\"Déterminer l'appartenance d'un nombre réel à une réunion d'intervalles de R\", 1], [\"Déterminer l'appartenance d'un nombre réel à une réunion d'intervalles de R\", 1], [\"Déterminer l'appartenance d'un nombre réel à une réunion d'intervalles de R\", 1], [\"Déterminer l'appartenance d'un nombre réel à une réunion d'intervalles de R\", 1], [\"Déterminer l'appartenance d'un nombre réel à une réunion d'intervalles de R\", 0], [\"Déterminer l'appartenance d'un nombre réel à une réunion d'intervalles de R\", 0], [\"Déterminer l'appartenance d'un nombre réel à une réunion d'intervalles de R\", 1], [\"Déterminer l'appartenance d'un nombre réel à une réunion d'intervalles de R\", 0], [\"Déterminer l'appartenance d'un nombre réel à une réunion d'intervalles de R\", 1], [\"Déterminer l'appartenance d'un nombre réel à une réunion d'intervalles de R\", 1], [\"Déterminer l'appartenance d'un nombre réel à une réunion d'intervalles de R\", 0], [\"Déterminer l'appartenance d'un nombre réel à une réunion d'intervalles de R\", 0], [\"Déterminer l'appartenance d'un nombre réel à une réunion d'intervalles de R\", 0], [\"Déterminer l'appartenance d'un nombre réel à une réunion d'intervalles de R\", 1], [\"Déterminer l'appartenance d'un nombre réel à une réunion d'intervalles de R\", 1], [\"Déterminer l'appartenance d'un nombre réel à une réunion d'intervalles de R\", 0], [\"Déterminer l'appartenance d'un nombre réel à une réunion d'intervalles de R\", 1], [\"Déterminer l'appartenance d'un nombre réel à une réunion d'intervalles de R\", 1], [\"Déterminer l'appartenance d'un nombre réel à une réunion d'intervalles de R\", 1], [\"Déterminer l'appartenance d'un nombre réel à une réunion d'intervalles de R\", 1], [\"Déterminer l'appartenance d'un nombre réel à une réunion d'intervalles de R\", 1], [\"Déterminer l'appartenance d'un nombre réel à une réunion d'intervalles de R\", 0], [\"Déterminer l'appartenance d'un nombre réel à une réunion d'intervalles de R\", 0], [\"Déterminer l'appartenance d'un nombre réel à une réunion d'intervalles de R\", 1], [\"Déterminer l'appartenance d'un nombre réel à une réunion d'intervalles de R\", 1]] \n",
      "\n",
      "Elapsed time for prediction:  0.43160414695739746 \n",
      "\n",
      "We store all the information from the prediction:\n",
      "{\"(Déterminer l'appartenance d'un nombre réel à un intervalle fini)1\": 0.748501869455259, \"(Déterminer l'appartenance d'un nombre réel à un intervalle infini)1\": 0.748501869455259, \"(Déterminer l'appartenance d'un nombre réel à un intervalle simple)1\": 0.7218886295304638} ...\n",
      "\n",
      "But the real prediction information is predicted success on evaluated KCs :\n",
      "[[0.         0.10871988]\n",
      " [0.         0.11431934]\n",
      " [0.         0.18422776]\n",
      " [1.         0.81326385]\n",
      " [1.         0.88212691]\n",
      " [1.         0.88585607]\n",
      " [0.         0.84835548]\n",
      " [1.         0.89407529]\n",
      " [1.         0.89886427]\n",
      " [1.         0.89936696]\n",
      " [1.         0.89941198]\n",
      " [1.         0.89934144]\n",
      " [1.         0.89861179]\n",
      " [1.         0.89158272]\n",
      " [0.         0.82376562]\n",
      " [1.         0.85714074]\n",
      " [0.         0.82375164]\n",
      " [1.         0.89157665]\n",
      " [1.         0.89861014]\n",
      " [1.         0.8993411 ]\n",
      " [1.         0.89941674]\n",
      " [1.         0.89942025]\n",
      " [1.         0.89937889]\n",
      " [1.         0.89897344]\n",
      " [1.         0.89506601]\n",
      " [0.         0.62082693]\n",
      " [1.         0.8702612 ]\n",
      " [1.         0.89637024]\n",
      " [1.         0.89910043]\n",
      " [1.         0.89938147]\n",
      " [1.         0.89936454]\n",
      " [1.         0.89891658]\n",
      " [1.         0.89460738]\n",
      " [1.         0.85342256]\n",
      " [0.         0.45927338]\n",
      " [0.         0.43110651]\n",
      " [1.         0.57997821]\n",
      " [0.         0.54495718]\n",
      " [1.         0.68353611]\n",
      " [1.         0.65550929]\n",
      " [0.         0.24479603]\n",
      " [0.         0.20382042]\n",
      " [0.         0.25989693]\n",
      " [1.         0.78694599]\n",
      " [1.         0.83813765]\n",
      " [0.         0.80735605]\n",
      " [1.         0.88976793]\n",
      " [1.         0.89832784]\n",
      " [1.         0.89893515]\n",
      " [1.         0.8962546 ]\n",
      " [1.         0.86963809]\n",
      " [0.         0.61358648]\n",
      " [0.         0.61132434]\n",
      " [1.         0.84744054]\n",
      " [1.         0.8679847 ]]\n"
     ]
    }
   ],
   "source": [
    "answers = [[get_KC_from_exercise_id(row[\"exercise_id\"]), row[\"success\"]] for i, row in learner_evals.iterrows()]\n",
    "\n",
    "import time\n",
    "\n",
    "\n",
    "print(\"The answers of the learner are:\", [[answers[i][0].name, answers[i][1]] for i in range(len(answers))], \"\\n\")\n",
    "start = time.time()\n",
    "\n",
    "predicted_answers = learner.predict_answers(answers, verbose=False)\n",
    "end = time.time()\n",
    "print(\"Elapsed time for prediction: \", end - start, \"\\n\")\n",
    "\n",
    "print(\"We store all the information from the prediction:\")\n",
    "print(dict(list(predicted_answers[0].items())[:3]), \"...\\n\")\n",
    "\n",
    "print(\"But the real prediction information is predicted success on evaluated KCs :\")\n",
    "print(np.array([[answers[i][1], predicted_answers[1][i]] for i in range(len(predicted_answers[1]))]))"
   ]
  },
  {
   "cell_type": "markdown",
   "id": "c07be569",
   "metadata": {},
   "source": [
    "## Compute the score of the prediction "
   ]
  },
  {
   "cell_type": "code",
   "execution_count": 7,
   "id": "7ebbb935",
   "metadata": {},
   "outputs": [
    {
     "name": "stdout",
     "output_type": "stream",
     "text": [
      "3164637 13\n",
      "[0, 1, 0, 0]\n",
      "[0.8353156042617215, 0.8786627262377198, 0.6204869125702017, 0.6200218596878533]\n"
     ]
    }
   ],
   "source": [
    "def compute_score(learner, evaluations):\n",
    "    n_eval = len(evaluations)\n",
    "    train_idx = random.sample(range(n_eval), floor(.7*n_eval))\n",
    "    train_evaluations = [evaluations[i] for i in train_idx]\n",
    "    test_idx = [x for x in range(n_eval) if x not in train_idx]\n",
    "    test_evaluations = [evaluations[j] for j in test_idx]\n",
    "    predicted_states, predicted_answers = learner.predict_answers_with_partial_evidences(\n",
    "        evaluations, train_idx, verbose=True)\n",
    "    expected_test_answers = [evaluations[i][1] for i in test_idx]\n",
    "    predicted_test_answers = [predicted_answers[i] for i in test_idx]\n",
    "    print(expected_test_answers) \n",
    "    print(predicted_test_answers)\n",
    "    return roc_auc_score(expected_test_answers, predicted_test_answers)\n",
    "\n",
    "def find_learner_id(df):\n",
    "    g = df.groupby('user_id')\n",
    "    df = g.filter(lambda x: len(x) < 20 )\n",
    "    random_learner_id = random.choice(df[\"user_id\"].unique())\n",
    "    while (df[df[\"user_id\"] == random_learner_id][\"success\"].sum()) > 0.9*len(\n",
    "        df[df[\"user_id\"] == random_learner_id].index):\n",
    "        random_learner_id = random.choice(df[\"user_id\"].unique())\n",
    "    return random_learner_id\n",
    "\n",
    "random_learner_id = find_learner_id(df)\n",
    "learner = Learner(random_learner_id, learner_pool)\n",
    "learner_evals = df[df[\"user_id\"]==random_learner_id]\n",
    "print(random_learner_id, len(learner_evals.index))\n",
    "answers = [[get_KC_from_exercise_id(row[\"exercise_id\"]), row[\"success\"]] for i, row in learner_evals.iterrows()]\n",
    "\n",
    "\n",
    "predicted_answers = compute_score(learner, answers)"
   ]
  },
  {
   "cell_type": "code",
   "execution_count": 14,
   "id": "e05d640d",
   "metadata": {},
   "outputs": [],
   "source": [
    "\n",
    "def compute_score_2(learner, evaluations):\n",
    "    n_eval = len(evaluations)\n",
    "    floor_idx = 0  # floor(.7*n_eval)\n",
    "    print(n_eval, floor_idx)\n",
    "    expected_values = []\n",
    "    predicted_values = []\n",
    "    for i in range(floor_idx, n_eval):\n",
    "        y, pred = learner.predict_answers(evaluations[:i+1], verbose=False)\n",
    "        predicted_values.append(y[f\"eval({evaluations[i][0].name}){i+1}\"])\n",
    "        expected_values.append(evaluations[i][1])\n",
    "        \n",
    "    print(expected_values) \n",
    "    print(predicted_values)\n",
    "    return roc_auc_score(expected_values, predicted_values)\n",
    "\n",
    "def compute_score_4(learner, evaluations):\n",
    "    n_eval = len(evaluations)\n",
    "    floor_idx = floor(.7*n_eval)\n",
    "    print(n_eval, floor_idx)\n",
    "    expected_values = []\n",
    "    predicted_values = []\n",
    "    for i in range(floor_idx, n_eval):\n",
    "        y, pred = learner.predict_answers_without_evidences(evaluations[:i+1], verbose=False)\n",
    "        predicted_values.append(y[f\"eval({evaluations[i][0].name}){i+1}\"])\n",
    "        expected_values.append(evaluations[i][1])\n",
    "        \n",
    "    print(expected_values) \n",
    "    print(predicted_values)\n",
    "    return roc_auc_score(expected_values, predicted_values)\n",
    "\n",
    "def compute_score_3(learner, evaluations, floor_idx=0):\n",
    "    print(floor_idx, len(evaluations))\n",
    "    n_eval = len(evaluations)\n",
    "    expected_values = []\n",
    "    predicted_values = []\n",
    "    for i in range(floor_idx, n_eval):\n",
    "        y, pred = learner.predict_answers_with_partial_evidences(evaluations[:i+1], range(i), verbose=False)\n",
    "        predicted_values.append(y[f\"eval({evaluations[i][0].name}){i}\"])\n",
    "        expected_values.append(evaluations[i][1])\n",
    "        \n",
    "    print(\"Expected values\", expected_values) \n",
    "    print(\"\\n\",\"Predicted values\", predicted_values)\n",
    "    print(\"\\n AUC\",roc_auc_score(expected_values, predicted_values))\n",
    "    cond_pbas = []\n",
    "    for i in range(len(expected_values)):\n",
    "        cond_pbas.append(predicted_values[i] if expected_values[i] == 1 else 1 - predicted_values[i])\n",
    "\n",
    "    return - np.log(sum(cond_pbas))"
   ]
  },
  {
   "cell_type": "code",
   "execution_count": 15,
   "id": "9f7cd7d6",
   "metadata": {},
   "outputs": [],
   "source": [
    "def predict_next_step(learner, evaluations, floor_idx=0):\n",
    "\n",
    "    n_eval = len(evaluations)\n",
    "    expected_values = []\n",
    "    predicted_values = []\n",
    "    for i in range(floor_idx, n_eval):\n",
    "        y, pred = learner.predict_answers_with_partial_evidences(evaluations[:i+1], range(i), verbose=False)\n",
    "        predicted_values.append(y[f\"eval({evaluations[i][0].name}){i+1}\"])\n",
    "        expected_values.append(evaluations[i][1])\n",
    "        \n",
    "    return (expected_values, predicted_values)"
   ]
  },
  {
   "cell_type": "code",
   "execution_count": null,
   "id": "aaaad519",
   "metadata": {},
   "outputs": [],
   "source": []
  },
  {
   "cell_type": "code",
   "execution_count": null,
   "id": "c26d1432",
   "metadata": {},
   "outputs": [],
   "source": []
  },
  {
   "cell_type": "code",
   "execution_count": 16,
   "id": "8705625d",
   "metadata": {
    "scrolled": false
   },
   "outputs": [
    {
     "name": "stdout",
     "output_type": "stream",
     "text": [
      "44 0\n",
      "[1, 0, 1, 1, 1, 1, 0, 1, 1, 1, 1, 1, 1, 1, 1, 0, 1, 0, 1, 1, 0, 1, 1, 1, 0, 1, 0, 1, 0, 0, 1, 1, 1, 1, 0, 1, 1, 1, 0, 1, 1, 0, 1, 1]\n",
      "[0.6659341964603872, 0.254723174172434, 0.672977007057434, 0.8624030701895619, 0.8910516368599408, 0.8943821730667172, 0.6213795168838097, 0.8550783277130423, 0.8904291853193443, 0.8943384715798663, 0.8947547313422837, 0.8947989954967125, 0.8948037432317323, 0.8948042820100396, 0.8948043674955837, 0.623049059019062, 0.8554809684525783, 0.5050407496218405, 0.8272826413037162, 0.8871471018019846, 0.231774379588024, 0.6880292204097812, 0.8673764299549153, 0.8918357443608754, 0.6122884034755395, 0.8533653554371166, 0.5001346004391779, 0.8260523120904328, 0.4424108280451418, 0.1690013859155085, 0.612312473509592, 0.8530778897578327, 0.890191628767715, 0.8943131665116809, 0.6212338850502988, 0.8551378437757434, 0.8904478483324965, 0.894342400568891, 0.6213467377949624, 0.8551572883568849, 0.8904494301795018, 0.607321996783112, 0.8522784034540107, 0.8901170139703157]\n",
      "0.9895833333333334\n",
      "22 44\n",
      "Expected values [1, 1, 0, 1, 0, 1, 0, 0, 1, 1, 1, 1, 0, 1, 1, 1, 0, 1, 1, 0, 1, 1]\n",
      "\n",
      " Predicted values [0.6880292204097812, 0.8673764299549154, 0.8918357443608754, 0.6122884034755394, 0.8533653554371164, 0.5001346004391778, 0.826052312090433, 0.44241082804514176, 0.1690013859155085, 0.612312473509592, 0.8530778897578327, 0.890191628767715, 0.8943131665116809, 0.6212338850502988, 0.8551378437757433, 0.8904478483324965, 0.894342400568891, 0.6213467377949625, 0.855157288356885, 0.8904494301795018, 0.607321996783112, 0.8522784034540107]\n",
      "\n",
      " AUC 0.24761904761904763\n",
      "-2.4683170331201434\n",
      "44 30\n",
      "[1, 1, 1, 1, 0, 1, 1, 1, 0, 1, 1, 0, 1, 1]\n",
      "[0.5115402227704262, 0.5153747678683306, 0.5190218105624206, 0.5224889871855275, 0.5257838513818169, 0.5289138364523386, 0.5318862244723246, 0.5347081214612179, 0.5373864378977026, 0.5399278739047274, 0.542338908475292, 0.544625792162573, 0.5467945427135845, 0.5488509431811173]\n",
      "0.393939393939394\n"
     ]
    }
   ],
   "source": [
    "# score with all evidences \n",
    "print(compute_score_2(learner, answers))\n",
    "\n",
    "# score with partial evidences on t-1 time steps\n",
    "print(compute_score_3(learner, answers, floor_idx=floor(.5*len(answers))))\n",
    "\n",
    "# score without evidences\n",
    "print(compute_score_4(learner, answers))"
   ]
  },
  {
   "cell_type": "code",
   "execution_count": 17,
   "id": "b2e6b64c",
   "metadata": {},
   "outputs": [
    {
     "name": "stdout",
     "output_type": "stream",
     "text": [
      "44 30\n",
      "[1, 1, 1, 1, 0, 1, 1, 1, 0, 1, 1, 0, 1, 1]\n",
      "[0.5115402227704262, 0.5153747678683306, 0.5190218105624206, 0.5224889871855275, 0.5257838513818169, 0.5289138364523386, 0.5318862244723246, 0.5347081214612179, 0.5373864378977026, 0.5399278739047274, 0.542338908475292, 0.544625792162573, 0.5467945427135845, 0.5488509431811174]\n",
      "0.393939393939394\n",
      "1034821 35\n"
     ]
    },
    {
     "ename": "TypeError",
     "evalue": "compute_score_4() got an unexpected keyword argument 'floor_idx'",
     "output_type": "error",
     "traceback": [
      "\u001b[0;31m---------------------------------------------------------------------------\u001b[0m",
      "\u001b[0;31mTypeError\u001b[0m                                 Traceback (most recent call last)",
      "\u001b[0;32m<ipython-input-17-dcd0dfb5bb10>\u001b[0m in \u001b[0;36m<module>\u001b[0;34m\u001b[0m\n\u001b[1;32m     14\u001b[0m \u001b[0mlearner_evals\u001b[0m \u001b[0;34m=\u001b[0m \u001b[0mdf\u001b[0m\u001b[0;34m[\u001b[0m\u001b[0mdf\u001b[0m\u001b[0;34m[\u001b[0m\u001b[0;34m\"user_id\"\u001b[0m\u001b[0;34m]\u001b[0m\u001b[0;34m==\u001b[0m\u001b[0mrandom_learner_id\u001b[0m\u001b[0;34m]\u001b[0m\u001b[0;34m\u001b[0m\u001b[0;34m\u001b[0m\u001b[0m\n\u001b[1;32m     15\u001b[0m \u001b[0mprint\u001b[0m\u001b[0;34m(\u001b[0m\u001b[0mrandom_learner_id\u001b[0m\u001b[0;34m,\u001b[0m \u001b[0mlen\u001b[0m\u001b[0;34m(\u001b[0m\u001b[0mlearner_evals\u001b[0m\u001b[0;34m.\u001b[0m\u001b[0mindex\u001b[0m\u001b[0;34m)\u001b[0m\u001b[0;34m)\u001b[0m\u001b[0;34m\u001b[0m\u001b[0;34m\u001b[0m\u001b[0m\n\u001b[0;32m---> 16\u001b[0;31m \u001b[0mprint\u001b[0m\u001b[0;34m(\u001b[0m\u001b[0mcompute_score_4\u001b[0m\u001b[0;34m(\u001b[0m\u001b[0mlearner_2\u001b[0m\u001b[0;34m,\u001b[0m \u001b[0manswers_2\u001b[0m\u001b[0;34m,\u001b[0m \u001b[0mfloor_idx\u001b[0m\u001b[0;34m=\u001b[0m\u001b[0mfloor\u001b[0m\u001b[0;34m(\u001b[0m\u001b[0;36m.5\u001b[0m\u001b[0;34m*\u001b[0m\u001b[0mlen\u001b[0m\u001b[0;34m(\u001b[0m\u001b[0manswers_2\u001b[0m\u001b[0;34m)\u001b[0m\u001b[0;34m)\u001b[0m\u001b[0;34m)\u001b[0m\u001b[0;34m)\u001b[0m\u001b[0;34m\u001b[0m\u001b[0;34m\u001b[0m\u001b[0m\n\u001b[0m",
      "\u001b[0;31mTypeError\u001b[0m: compute_score_4() got an unexpected keyword argument 'floor_idx'"
     ]
    }
   ],
   "source": [
    "print(compute_score_4(learner, answers))\n",
    "\n",
    "link_strength_combinations = {}\n",
    "\n",
    "weak_linking = {KC_A: {KC_C: 'weak'}, KC_B:{KC_C: 'weak'}, \n",
    "                  KC_C:{KC_A: 'weak', KC_B:'weak', KC_D: 'weak', KC_E:'weak'},\n",
    "                  KC_D: {KC_C: 'weak'}, KC_E:{KC_C: 'weak'}}\n",
    "learner_pool_2 = LearnerPool(domain, weak_linking, 'weak')\n",
    "\n",
    "random_learner_id = random.choice(df[\"user_id\"].unique())\n",
    "learner_2 = Learner(random_learner_id, learner_pool_2)\n",
    "answers_2 = [[get_KC_from_exercise_id(row[\"exercise_id\"]), row[\"success\"]] for i, row in learner_evals.iterrows()]\n",
    "\n",
    "learner_evals = df[df[\"user_id\"]==random_learner_id]\n",
    "print(random_learner_id, len(learner_evals.index))\n",
    "print(compute_score_4(learner_2, answers_2, floor_idx=floor(.5*len(answers_2))))\n"
   ]
  },
  {
   "cell_type": "code",
   "execution_count": null,
   "id": "8c2d1892",
   "metadata": {},
   "outputs": [],
   "source": []
  },
  {
   "cell_type": "code",
   "execution_count": null,
   "id": "38b24498",
   "metadata": {},
   "outputs": [],
   "source": []
  },
  {
   "cell_type": "code",
   "execution_count": 12,
   "id": "3f12ce10",
   "metadata": {},
   "outputs": [
    {
     "ename": "KeyboardInterrupt",
     "evalue": "",
     "output_type": "error",
     "traceback": [
      "\u001b[0;31m---------------------------------------------------------------------------\u001b[0m",
      "\u001b[0;31mKeyboardInterrupt\u001b[0m                         Traceback (most recent call last)",
      "\u001b[0;32m<ipython-input-12-1d217f8d35dc>\u001b[0m in \u001b[0;36m<module>\u001b[0;34m\u001b[0m\n\u001b[1;32m      5\u001b[0m     \u001b[0mlearner_evals\u001b[0m \u001b[0;34m=\u001b[0m \u001b[0mdf\u001b[0m\u001b[0;34m[\u001b[0m\u001b[0mdf\u001b[0m\u001b[0;34m[\u001b[0m\u001b[0;34m\"user_id\"\u001b[0m\u001b[0;34m]\u001b[0m \u001b[0;34m==\u001b[0m \u001b[0mlearner_id\u001b[0m\u001b[0;34m]\u001b[0m\u001b[0;34m\u001b[0m\u001b[0;34m\u001b[0m\u001b[0m\n\u001b[1;32m      6\u001b[0m     \u001b[0manswers\u001b[0m \u001b[0;34m=\u001b[0m \u001b[0;34m[\u001b[0m\u001b[0;34m[\u001b[0m\u001b[0mget_KC_from_exercise_id\u001b[0m\u001b[0;34m(\u001b[0m\u001b[0mrow\u001b[0m\u001b[0;34m[\u001b[0m\u001b[0;34m\"exercise_id\"\u001b[0m\u001b[0;34m]\u001b[0m\u001b[0;34m)\u001b[0m\u001b[0;34m,\u001b[0m \u001b[0mrow\u001b[0m\u001b[0;34m[\u001b[0m\u001b[0;34m\"success\"\u001b[0m\u001b[0;34m]\u001b[0m\u001b[0;34m]\u001b[0m \u001b[0;32mfor\u001b[0m \u001b[0mi\u001b[0m\u001b[0;34m,\u001b[0m \u001b[0mrow\u001b[0m \u001b[0;32min\u001b[0m \u001b[0mlearner_evals\u001b[0m\u001b[0;34m.\u001b[0m\u001b[0miterrows\u001b[0m\u001b[0;34m(\u001b[0m\u001b[0;34m)\u001b[0m\u001b[0;34m]\u001b[0m\u001b[0;34m\u001b[0m\u001b[0;34m\u001b[0m\u001b[0m\n\u001b[0;32m----> 7\u001b[0;31m     \u001b[0mexpected_values\u001b[0m\u001b[0;34m,\u001b[0m \u001b[0mpredicted_values\u001b[0m \u001b[0;34m=\u001b[0m \u001b[0mpredict_next_step\u001b[0m\u001b[0;34m(\u001b[0m\u001b[0mlearner\u001b[0m\u001b[0;34m,\u001b[0m \u001b[0manswers\u001b[0m\u001b[0;34m,\u001b[0m \u001b[0;36m1\u001b[0m\u001b[0;34m)\u001b[0m\u001b[0;34m\u001b[0m\u001b[0;34m\u001b[0m\u001b[0m\n\u001b[0m\u001b[1;32m      8\u001b[0m     \u001b[0mexp\u001b[0m \u001b[0;34m=\u001b[0m \u001b[0mnp\u001b[0m\u001b[0;34m.\u001b[0m\u001b[0mconcatenate\u001b[0m\u001b[0;34m(\u001b[0m\u001b[0;34m(\u001b[0m\u001b[0mexp\u001b[0m\u001b[0;34m,\u001b[0m \u001b[0mexpected_values\u001b[0m\u001b[0;34m)\u001b[0m\u001b[0;34m)\u001b[0m\u001b[0;34m\u001b[0m\u001b[0;34m\u001b[0m\u001b[0m\n\u001b[1;32m      9\u001b[0m     \u001b[0mpred\u001b[0m \u001b[0;34m=\u001b[0m \u001b[0mnp\u001b[0m\u001b[0;34m.\u001b[0m\u001b[0mconcatenate\u001b[0m\u001b[0;34m(\u001b[0m\u001b[0;34m(\u001b[0m\u001b[0mpred\u001b[0m\u001b[0;34m,\u001b[0m \u001b[0mpredicted_values\u001b[0m\u001b[0;34m)\u001b[0m\u001b[0;34m)\u001b[0m\u001b[0;34m\u001b[0m\u001b[0;34m\u001b[0m\u001b[0m\n",
      "\u001b[0;32m<ipython-input-9-ef5a02b86415>\u001b[0m in \u001b[0;36mpredict_next_step\u001b[0;34m(learner, evaluations, floor_idx)\u001b[0m\n\u001b[1;32m      5\u001b[0m     \u001b[0mpredicted_values\u001b[0m \u001b[0;34m=\u001b[0m \u001b[0;34m[\u001b[0m\u001b[0;34m]\u001b[0m\u001b[0;34m\u001b[0m\u001b[0;34m\u001b[0m\u001b[0m\n\u001b[1;32m      6\u001b[0m     \u001b[0;32mfor\u001b[0m \u001b[0mi\u001b[0m \u001b[0;32min\u001b[0m \u001b[0mrange\u001b[0m\u001b[0;34m(\u001b[0m\u001b[0mfloor_idx\u001b[0m\u001b[0;34m,\u001b[0m \u001b[0mn_eval\u001b[0m\u001b[0;34m)\u001b[0m\u001b[0;34m:\u001b[0m\u001b[0;34m\u001b[0m\u001b[0;34m\u001b[0m\u001b[0m\n\u001b[0;32m----> 7\u001b[0;31m         \u001b[0my\u001b[0m\u001b[0;34m,\u001b[0m \u001b[0mpred\u001b[0m \u001b[0;34m=\u001b[0m \u001b[0mlearner\u001b[0m\u001b[0;34m.\u001b[0m\u001b[0mpredict_answers_with_partial_evidences\u001b[0m\u001b[0;34m(\u001b[0m\u001b[0mevaluations\u001b[0m\u001b[0;34m[\u001b[0m\u001b[0;34m:\u001b[0m\u001b[0mi\u001b[0m\u001b[0;34m+\u001b[0m\u001b[0;36m1\u001b[0m\u001b[0;34m]\u001b[0m\u001b[0;34m,\u001b[0m \u001b[0mrange\u001b[0m\u001b[0;34m(\u001b[0m\u001b[0mi\u001b[0m\u001b[0;34m)\u001b[0m\u001b[0;34m,\u001b[0m \u001b[0mverbose\u001b[0m\u001b[0;34m=\u001b[0m\u001b[0;32mFalse\u001b[0m\u001b[0;34m)\u001b[0m\u001b[0;34m\u001b[0m\u001b[0;34m\u001b[0m\u001b[0m\n\u001b[0m\u001b[1;32m      8\u001b[0m         \u001b[0mpredicted_values\u001b[0m\u001b[0;34m.\u001b[0m\u001b[0mappend\u001b[0m\u001b[0;34m(\u001b[0m\u001b[0my\u001b[0m\u001b[0;34m[\u001b[0m\u001b[0;34mf\"eval({evaluations[i][0].name}){i+1}\"\u001b[0m\u001b[0;34m]\u001b[0m\u001b[0;34m)\u001b[0m\u001b[0;34m\u001b[0m\u001b[0;34m\u001b[0m\u001b[0m\n\u001b[1;32m      9\u001b[0m         \u001b[0mexpected_values\u001b[0m\u001b[0;34m.\u001b[0m\u001b[0mappend\u001b[0m\u001b[0;34m(\u001b[0m\u001b[0mevaluations\u001b[0m\u001b[0;34m[\u001b[0m\u001b[0mi\u001b[0m\u001b[0;34m]\u001b[0m\u001b[0;34m[\u001b[0m\u001b[0;36m1\u001b[0m\u001b[0;34m]\u001b[0m\u001b[0;34m)\u001b[0m\u001b[0;34m\u001b[0m\u001b[0;34m\u001b[0m\u001b[0m\n",
      "\u001b[0;32m~/PycharmProjects/bayesian-kst/kgraph/learner_layer/learner.py\u001b[0m in \u001b[0;36mpredict_answers_with_partial_evidences\u001b[0;34m(self, evaluations, indices, verbose)\u001b[0m\n\u001b[1;32m    122\u001b[0m                 \u001b[0mgnb\u001b[0m\u001b[0;34m.\u001b[0m\u001b[0mshowInference\u001b[0m\u001b[0;34m(\u001b[0m\u001b[0munrolled_bn\u001b[0m\u001b[0;34m,\u001b[0m \u001b[0mevs\u001b[0m\u001b[0;34m=\u001b[0m\u001b[0mevidences\u001b[0m\u001b[0;34m)\u001b[0m\u001b[0;34m\u001b[0m\u001b[0;34m\u001b[0m\u001b[0m\n\u001b[1;32m    123\u001b[0m \u001b[0;34m\u001b[0m\u001b[0m\n\u001b[0;32m--> 124\u001b[0;31m         predicted_states = [\n\u001b[0m\u001b[1;32m    125\u001b[0m             {**{f\"({kc.name}){i + 1}\": ie.posterior(unrolled_bn.idFromName(f\"({kc.name}){i + 1}\"))[1] for kc in\n\u001b[1;32m    126\u001b[0m                 knowledge_components},\n",
      "\u001b[0;32m~/PycharmProjects/bayesian-kst/kgraph/learner_layer/learner.py\u001b[0m in \u001b[0;36m<listcomp>\u001b[0;34m(.0)\u001b[0m\n\u001b[1;32m    123\u001b[0m \u001b[0;34m\u001b[0m\u001b[0m\n\u001b[1;32m    124\u001b[0m         predicted_states = [\n\u001b[0;32m--> 125\u001b[0;31m             {**{f\"({kc.name}){i + 1}\": ie.posterior(unrolled_bn.idFromName(f\"({kc.name}){i + 1}\"))[1] for kc in\n\u001b[0m\u001b[1;32m    126\u001b[0m                 knowledge_components},\n\u001b[1;32m    127\u001b[0m              **{f\"eval({kc.name}){i + 1}\": ie.posterior(unrolled_bn.idFromName(f\"eval({kc.name}){i + 1}\"))[1] for kc in\n",
      "\u001b[0;32m~/PycharmProjects/bayesian-kst/kgraph/learner_layer/learner.py\u001b[0m in \u001b[0;36m<dictcomp>\u001b[0;34m(.0)\u001b[0m\n\u001b[1;32m    123\u001b[0m \u001b[0;34m\u001b[0m\u001b[0m\n\u001b[1;32m    124\u001b[0m         predicted_states = [\n\u001b[0;32m--> 125\u001b[0;31m             {**{f\"({kc.name}){i + 1}\": ie.posterior(unrolled_bn.idFromName(f\"({kc.name}){i + 1}\"))[1] for kc in\n\u001b[0m\u001b[1;32m    126\u001b[0m                 knowledge_components},\n\u001b[1;32m    127\u001b[0m              **{f\"eval({kc.name}){i + 1}\": ie.posterior(unrolled_bn.idFromName(f\"eval({kc.name}){i + 1}\"))[1] for kc in\n",
      "\u001b[0;32m/opt/homebrew/Caskroom/miniforge/base/envs/bayesian-kst/lib/python3.9/site-packages/pyAgrum/pyAgrum.py\u001b[0m in \u001b[0;36mposterior\u001b[0;34m(self, *args)\u001b[0m\n\u001b[1;32m  13818\u001b[0m \u001b[0;34m\u001b[0m\u001b[0m\n\u001b[1;32m  13819\u001b[0m         \"\"\"\n\u001b[0;32m> 13820\u001b[0;31m         \u001b[0;32mreturn\u001b[0m \u001b[0m_pyAgrum\u001b[0m\u001b[0;34m.\u001b[0m\u001b[0mLazyPropagation_posterior\u001b[0m\u001b[0;34m(\u001b[0m\u001b[0mself\u001b[0m\u001b[0;34m,\u001b[0m \u001b[0;34m*\u001b[0m\u001b[0margs\u001b[0m\u001b[0;34m)\u001b[0m\u001b[0;34m\u001b[0m\u001b[0;34m\u001b[0m\u001b[0m\n\u001b[0m\u001b[1;32m  13821\u001b[0m \u001b[0;34m\u001b[0m\u001b[0m\n\u001b[1;32m  13822\u001b[0m     \u001b[0;32mdef\u001b[0m \u001b[0meraseAllJointTargets\u001b[0m\u001b[0;34m(\u001b[0m\u001b[0mself\u001b[0m\u001b[0;34m)\u001b[0m \u001b[0;34m->\u001b[0m \u001b[0;34m\"void\"\u001b[0m\u001b[0;34m:\u001b[0m\u001b[0;34m\u001b[0m\u001b[0;34m\u001b[0m\u001b[0m\n",
      "\u001b[0;31mKeyboardInterrupt\u001b[0m: "
     ]
    }
   ],
   "source": [
    "print(roc_auc_score(exp, pred))"
   ]
  },
  {
   "cell_type": "code",
   "execution_count": null,
   "id": "49ceb4e2",
   "metadata": {},
   "outputs": [],
   "source": [
    "\n",
    "learner = Learner(2, learner_pool)\n",
    "compute_score_2(learner, [[KC_A, True] for _ in range(5)] \n",
    "                + [[KC_C, True] if i!=2 else [KC_C, False] for i in range(5)]\n",
    "                + [[KC_E, False], [KC_E, False], [KC_E, True], [KC_E, False], [KC_E, True]])\n",
    "\n"
   ]
  },
  {
   "cell_type": "code",
   "execution_count": null,
   "id": "e3353e7b",
   "metadata": {},
   "outputs": [],
   "source": [
    "print(compute_score_2_bis(learner, answers))"
   ]
  }
 ],
 "metadata": {
  "kernelspec": {
   "display_name": "Python 3",
   "language": "python",
   "name": "python3"
  },
  "language_info": {
   "codemirror_mode": {
    "name": "ipython",
    "version": 3
   },
   "file_extension": ".py",
   "mimetype": "text/x-python",
   "name": "python",
   "nbconvert_exporter": "python",
   "pygments_lexer": "ipython3",
   "version": "3.9.2"
  }
 },
 "nbformat": 4,
 "nbformat_minor": 5
}
