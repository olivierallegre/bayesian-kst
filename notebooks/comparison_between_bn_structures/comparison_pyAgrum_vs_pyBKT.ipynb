{
 "cells": [
  {
   "cell_type": "markdown",
   "id": "03ef1ab1",
   "metadata": {},
   "source": [
    "# Comparison between pyBKT and BKT with pyAgrum\n",
    "In this notebook, we want to make sure that the way we implement BKT with pyAgrum corresponds to the values obtained by pyBKT. "
   ]
  },
  {
   "cell_type": "code",
   "execution_count": 1,
   "id": "a8b7dda5",
   "metadata": {},
   "outputs": [],
   "source": [
    "import sys\n",
    "sys.path.append(\"/Users/olivier/PycharmProjects/bayesian-kst/\")  # for mac\n",
    "\n",
    "import pyAgrum as gum\n",
    "from kgraph.expert_layer.domain import Domain\n",
    "from kgraph.expert_layer.knowledge_components import KnowledgeComponent\n",
    "from kgraph.expert_layer.link import Link\n",
    "from kgraph.resources_layer.exercise import Exercise\n",
    "from kgraph.learner_layer.answer import LearnerAnswer\n",
    "from kgraph.learner_layer.learner import Learner\n",
    "from kgraph.learner_layer.learner_pool import LearnerPool\n",
    "from kgraph.helpers.truthtable import truthtable\n",
    "from math import floor\n",
    "import pyAgrum.lib.notebook as gnb\n",
    "import pyAgrum.lib.dynamicBN as gdyn\n",
    "import random\n",
    "import itertools\n",
    "import numpy as np\n",
    "import tqdm\n",
    "\n",
    "from sklearn.metrics import roc_auc_score, accuracy_score\n",
    "from sklearn.model_selection import KFold\n",
    "\n",
    "def get_strongest_folds(full, axis=\"user_id\", nb_folds=5):\n",
    "    all_elements = full[axis].unique()\n",
    "\n",
    "    kfold = KFold(nb_folds, shuffle=True)\n",
    "    folds = []\n",
    "    for i, (train, test) in enumerate(kfold.split(all_elements)):\n",
    "        list_of_test_ids = []\n",
    "        for element_id in test:\n",
    "            list_of_test_ids += list(full.query(f'{axis} == {all_elements[element_id]}').index)\n",
    "        folds.append(np.array(list_of_test_ids))\n",
    "    \n",
    "    return folds\n",
    "\n",
    "def mae(true_vals, pred_vals):\n",
    "    \"\"\" Calculates the mean absolute error. \"\"\"\n",
    "    return np.mean(np.abs(true_vals - pred_vals))\n"
   ]
  },
  {
   "cell_type": "markdown",
   "id": "ef20d0eb",
   "metadata": {},
   "source": [
    "## Define the domain knowledge model"
   ]
  },
  {
   "cell_type": "code",
   "execution_count": 2,
   "id": "e206400c",
   "metadata": {},
   "outputs": [],
   "source": [
    "\n",
    "# we define the KCs\n",
    "\n",
    "KC_A = KnowledgeComponent(55365, \"Déterminer l'appartenance d'un nombre réel à un intervalle fini\")\n",
    "KC_B = KnowledgeComponent(55363, \"Déterminer l'appartenance d'un nombre réel à un intervalle infini\")\n",
    "KC_C = KnowledgeComponent(55364, \"Déterminer l'appartenance d'un nombre réel à un intervalle simple\")\n",
    "KC_D = KnowledgeComponent(50988, \"Déterminer l'appartenance d'un nombre réel à une intersection d'intervalles de R\")\n",
    "KC_E = KnowledgeComponent(50989, \"Déterminer l'appartenance d'un nombre réel à une réunion d'intervalles de R\")\n",
    "\n",
    "def get_KC_from_exercise_id(exercise_id):\n",
    "    if exercise_id in range(237957, 237962):\n",
    "        return KC_A\n",
    "    elif exercise_id in range(237947, 237952):\n",
    "        return KC_B\n",
    "    elif exercise_id in range(237952, 237957):\n",
    "        return KC_C\n",
    "    elif exercise_id in range(225183, 225188):\n",
    "        return KC_D\n",
    "    else:\n",
    "        return KC_E\n",
    "    "
   ]
  },
  {
   "cell_type": "markdown",
   "id": "e948db0a",
   "metadata": {},
   "source": [
    "## Import the data"
   ]
  },
  {
   "cell_type": "code",
   "execution_count": 3,
   "id": "4e9c3a42",
   "metadata": {},
   "outputs": [
    {
     "name": "stdout",
     "output_type": "stream",
     "text": [
      "       exercise_id  evaluation_id  success  user_id            createdAt  \\\n",
      "0           225183      109276367        0   757204  2019-08-12 12:57:49   \n",
      "1           225183      109293461        1  2052585  2019-08-12 19:18:03   \n",
      "2           225183      109293517        1  2052585  2019-08-12 19:20:45   \n",
      "3           225183      109293574        1  2052585  2019-08-12 19:23:40   \n",
      "4           225183      109307385        1  1896564  2019-08-13 11:16:49   \n",
      "...            ...            ...      ...      ...                  ...   \n",
      "42006       237961      151532622        1  3940614  2021-09-08 12:49:53   \n",
      "42007       237961      151546756        1  1970804  2021-09-08 23:48:52   \n",
      "42008       237961      151546760        1  1970804  2021-09-08 23:49:21   \n",
      "42009       237961      151549675        1  3943368  2021-09-09 11:07:45   \n",
      "42010       237961      151549982        0  3940672  2021-09-09 11:22:25   \n",
      "\n",
      "       kc_id  \n",
      "0      50988  \n",
      "1      50988  \n",
      "2      50988  \n",
      "3      50988  \n",
      "4      50988  \n",
      "...      ...  \n",
      "42006  55365  \n",
      "42007  55365  \n",
      "42008  55365  \n",
      "42009  55365  \n",
      "42010  55365  \n",
      "\n",
      "[42011 rows x 6 columns]\n"
     ]
    }
   ],
   "source": [
    "import pandas as pd\n",
    "\n",
    "df = pd.read_csv(\"5_KCs_example_data.csv\")\n",
    "\n",
    "kc_ids = []\n",
    "for i, row in df.iterrows():\n",
    "    kc_ids.append(get_KC_from_exercise_id(row['exercise_id']).id)\n",
    "    \n",
    "df['kc_id'] = kc_ids\n",
    "\n",
    "print(df)\n",
    "\n",
    "folds = get_strongest_folds(df, \"user_id\", 2)\n",
    "test_ids = folds[0]\n",
    "\n",
    "train_ids = list(set(list(df.index.values)) - set(test_ids))\n",
    "\n",
    "df_train = df[df.index.isin(train_ids)]\n",
    "df_test = df[df.index.isin(test_ids)]"
   ]
  },
  {
   "cell_type": "code",
   "execution_count": 4,
   "id": "32d0e123",
   "metadata": {},
   "outputs": [
    {
     "name": "stdout",
     "output_type": "stream",
     "text": [
      "Domain on 5 KCs:\n",
      "- KC 50988: 50988\n",
      "- KC 50989: 50989\n",
      "- KC 55363: 55363\n",
      "- KC 55364: 55364\n",
      "- KC 55365: 55365\n",
      "\n"
     ]
    }
   ],
   "source": [
    "from kgraph.helpers.import_dataset import *\n",
    "defaults = {'learner_id': 'user_id', 'kc_id': 'kc_id', 'exercise_id': 'exercise_id', 'success':'success'}\n",
    "domain, exercises = setup_domain_and_resources_from_dataset(df_test, defaults)\n",
    "print(domain)"
   ]
  },
  {
   "cell_type": "markdown",
   "id": "3f2dc34e",
   "metadata": {},
   "source": [
    "## Learn parameters with pyBKT\n",
    "We learn the parameters of the bayesian network with pyBKT (EM algorithm) on the train dataset. "
   ]
  },
  {
   "cell_type": "code",
   "execution_count": 5,
   "id": "9c13c684",
   "metadata": {
    "scrolled": false
   },
   "outputs": [
    {
     "name": "stdout",
     "output_type": "stream",
     "text": [
      "                        value\n",
      "skill param   class          \n",
      "50988 prior   default 0.18099\n",
      "      learns  default 0.22086\n",
      "      guesses 225183  0.15588\n",
      "              225184  0.07036\n",
      "              225185  0.20044\n",
      "...                       ...\n",
      "55364 slips   237953  0.01315\n",
      "              237954  0.04170\n",
      "              237955  0.02209\n",
      "              237956  0.05330\n",
      "      forgets default 0.00000\n",
      "\n",
      "[65 rows x 1 columns]\n"
     ]
    }
   ],
   "source": [
    "from pyBKT.models import Model\n",
    "\n",
    "# Initialize the model with an optional seed\n",
    "model = Model(seed = 42, num_fits = 1)\n",
    "pybkt_defaults = {'order_id': 'evaluation_id',\n",
    "            'skill_name': 'kc_id',\n",
    "            'correct': 'success',\n",
    "            'user_id': 'user_id',\n",
    "            'multigs': 'exercise_id',\n",
    "            'folds': 'user_id'\n",
    "           }\n",
    "\n",
    "model.fit(data = df_train, defaults = pybkt_defaults, multigs = True)\n",
    "\n",
    "\n",
    "def set_learning_pool_parameters_from_bkt_parameters(learner_pool, bkt_params):\n",
    "    for kc in learner_pool.get_knowledge_components():\n",
    "        learner_pool.set_prior(kc, model.params().loc[f'{kc.id}', 'prior', 'default'].value)\n",
    "        \n",
    "        learner_pool.set_learn(kc, model.params().loc[f'{kc.id}', 'learns', 'default'].value)\n",
    "        learner_pool.set_forget(kc, model.params().loc[f'{kc.id}', 'forgets', 'default'].value)\n",
    "        \n",
    "        for exercise in kc.get_exercises():\n",
    "            learner_pool.set_guess(exercise, model.params().loc[f'{kc.id}', 'guesses', f'{exercise.id}'].value)\n",
    "            learner_pool.set_slip(exercise, model.params().loc[f'{kc.id}', 'slips', f'{exercise.id}'].value)\n",
    "    return learner_pool\n",
    "\n",
    "params = model.params()\n",
    "print(params)\n",
    "learner_pool = LearnerPool(domain, {})\n",
    "learner_pool = set_learning_pool_parameters_from_bkt_parameters(learner_pool, params)\n",
    "\n"
   ]
  },
  {
   "cell_type": "code",
   "execution_count": 6,
   "id": "28d132bb",
   "metadata": {},
   "outputs": [
    {
     "name": "stdout",
     "output_type": "stream",
     "text": [
      "20554\n"
     ]
    },
    {
     "data": {
      "text/html": [
       "<div>\n",
       "<style scoped>\n",
       "    .dataframe tbody tr th:only-of-type {\n",
       "        vertical-align: middle;\n",
       "    }\n",
       "\n",
       "    .dataframe tbody tr th {\n",
       "        vertical-align: top;\n",
       "    }\n",
       "\n",
       "    .dataframe thead th {\n",
       "        text-align: right;\n",
       "    }\n",
       "</style>\n",
       "<table border=\"1\" class=\"dataframe\">\n",
       "  <thead>\n",
       "    <tr style=\"text-align: right;\">\n",
       "      <th></th>\n",
       "      <th>exercise_id</th>\n",
       "      <th>evaluation_id</th>\n",
       "      <th>success</th>\n",
       "      <th>user_id</th>\n",
       "      <th>createdAt</th>\n",
       "      <th>kc_id</th>\n",
       "    </tr>\n",
       "  </thead>\n",
       "  <tbody>\n",
       "    <tr>\n",
       "      <th>0</th>\n",
       "      <td>225183</td>\n",
       "      <td>109276367</td>\n",
       "      <td>0</td>\n",
       "      <td>757204</td>\n",
       "      <td>2019-08-12 12:57:49</td>\n",
       "      <td>50988</td>\n",
       "    </tr>\n",
       "    <tr>\n",
       "      <th>4</th>\n",
       "      <td>225183</td>\n",
       "      <td>109307385</td>\n",
       "      <td>1</td>\n",
       "      <td>1896564</td>\n",
       "      <td>2019-08-13 11:16:49</td>\n",
       "      <td>50988</td>\n",
       "    </tr>\n",
       "    <tr>\n",
       "      <th>5</th>\n",
       "      <td>225183</td>\n",
       "      <td>109320794</td>\n",
       "      <td>1</td>\n",
       "      <td>2623038</td>\n",
       "      <td>2019-08-13 15:41:35</td>\n",
       "      <td>50988</td>\n",
       "    </tr>\n",
       "    <tr>\n",
       "      <th>18</th>\n",
       "      <td>225183</td>\n",
       "      <td>109636965</td>\n",
       "      <td>1</td>\n",
       "      <td>1578689</td>\n",
       "      <td>2019-08-21 11:19:01</td>\n",
       "      <td>50988</td>\n",
       "    </tr>\n",
       "    <tr>\n",
       "      <th>21</th>\n",
       "      <td>225183</td>\n",
       "      <td>109648375</td>\n",
       "      <td>0</td>\n",
       "      <td>2015032</td>\n",
       "      <td>2019-08-21 14:14:01</td>\n",
       "      <td>50988</td>\n",
       "    </tr>\n",
       "  </tbody>\n",
       "</table>\n",
       "</div>"
      ],
      "text/plain": [
       "    exercise_id  evaluation_id  success  user_id            createdAt  kc_id\n",
       "0        225183      109276367        0   757204  2019-08-12 12:57:49  50988\n",
       "4        225183      109307385        1  1896564  2019-08-13 11:16:49  50988\n",
       "5        225183      109320794        1  2623038  2019-08-13 15:41:35  50988\n",
       "18       225183      109636965        1  1578689  2019-08-21 11:19:01  50988\n",
       "21       225183      109648375        0  2015032  2019-08-21 14:14:01  50988"
      ]
     },
     "execution_count": 6,
     "metadata": {},
     "output_type": "execute_result"
    }
   ],
   "source": [
    "print(len(df_test.index))\n",
    "df_test.head()"
   ]
  },
  {
   "cell_type": "markdown",
   "id": "10cfebe2",
   "metadata": {},
   "source": [
    "## Check prediction performance of pyBKT model\n",
    "We then check how the prediction is performed with pyBKT and the learned parameters."
   ]
  },
  {
   "cell_type": "code",
   "execution_count": 7,
   "id": "bcdd1acd",
   "metadata": {},
   "outputs": [
    {
     "name": "stdout",
     "output_type": "stream",
     "text": [
      "       exercise_id  evaluation_id  success  user_id            createdAt  \\\n",
      "11471       225186      116645380        0    76926  2019-12-15 19:37:52   \n",
      "1320        225183      116645707        0    76926  2019-12-15 19:40:44   \n",
      "24346       225168      116645842        0    76926  2019-12-15 19:41:50   \n",
      "4247        225184      110931718        0   119344  2019-09-20 10:35:07   \n",
      "10692       225186      110931729        0   119344  2019-09-20 10:35:25   \n",
      "...            ...            ...      ...      ...                  ...   \n",
      "19001       225165      151549833        1  3940614  2021-09-09 11:13:37   \n",
      "23628       225167      151549840        0  3940614  2021-09-09 11:14:03   \n",
      "21396       225166      151549853        1  3940614  2021-09-09 11:14:47   \n",
      "27889       225169      151549867        1  3940614  2021-09-09 11:15:24   \n",
      "25838       225168      151549873        1  3940614  2021-09-09 11:16:07   \n",
      "\n",
      "       kc_id  correct_predictions  state_predictions  \n",
      "11471  50988              0.24882            0.18099  \n",
      "1320   50988              0.34125            0.27734  \n",
      "24346  50989              0.42782            0.32438  \n",
      "4247   50988              0.19104            0.18099  \n",
      "10692  50988              0.29595            0.26668  \n",
      "...      ...                  ...                ...  \n",
      "19001  50989              0.52614            0.32438  \n",
      "23628  50989              0.57106            0.67608  \n",
      "21396  50989              0.44243            0.50007  \n",
      "27889  50989              0.75065            0.91198  \n",
      "25838  50989              0.66635            0.99065  \n",
      "\n",
      "[20554 rows x 8 columns]\n",
      "ACC 0.7652038532645714\n",
      "AUC 0.7687374929949665\n",
      "MAE 0.32626612751493683\n"
     ]
    }
   ],
   "source": [
    "print(model.predict(data=df_test))\n",
    "\n",
    "print('ACC', model.evaluate(data = df_test, metric = 'accuracy'))\n",
    "print('AUC', model.evaluate(data = df_test, metric = 'auc'))\n",
    "print('MAE', model.evaluate(data = df_test, metric = mae))"
   ]
  },
  {
   "cell_type": "markdown",
   "id": "6f62e004",
   "metadata": {},
   "source": [
    "## Check prediction performance of BKT with pyAgrum library\n",
    "We setup the same process for BKT with pyAgrum, with parameters computed thanks to pyBKT. "
   ]
  },
  {
   "cell_type": "code",
   "execution_count": 8,
   "id": "a4cc2bce",
   "metadata": {},
   "outputs": [],
   "source": [
    "def get_bkt_net(kc, learner, learner_traces):\n",
    "    bkt_net = gum.BayesNet('BKT')\n",
    "    \n",
    "    learn = learner.learner_pool.get_learn(kc)\n",
    "    prior = learner.learner_pool.get_prior(kc)\n",
    "    forget = learner.learner_pool.get_forget(kc)\n",
    "\n",
    "    bkt_net.add(gum.LabelizedVariable(f\"({kc.name})0\", '', 2))\n",
    "    bkt_net.cpt(f\"({kc.name})0\").fillWith([1-prior, prior])\n",
    "\n",
    "    bkt_net.add(gum.LabelizedVariable(f\"({kc.name})t\", '', 2))\n",
    "    for exercise in kc.get_exercises():\n",
    "        bkt_net.add(gum.LabelizedVariable(f\"exercise({exercise.id})0\", '', 2))\n",
    "        bkt_net.addArc(*(f\"({kc.name})0\", f\"exercise({exercise.id})0\"))\n",
    "\n",
    "        bkt_net.add(gum.LabelizedVariable(f\"exercise({exercise.id})t\", '', 2))\n",
    "        bkt_net.addArc(*(f\"({kc.name})t\", f\"exercise({exercise.id})t\"))\n",
    "\n",
    "        guess = learner.learner_pool.get_guess(exercise)\n",
    "        slip = learner.learner_pool.get_slip(exercise)\n",
    "        bkt_net.cpt(f\"exercise({exercise.id})0\")[{f\"({kc.name})0\": False}] = [1-guess, guess]\n",
    "        bkt_net.cpt(f\"exercise({exercise.id})0\")[{f\"({kc.name})0\": True}] = [slip, 1-slip]\n",
    "\n",
    "        bkt_net.cpt(f\"exercise({exercise.id})t\")[{f\"({kc.name})t\": False}] = [1-guess, guess]\n",
    "        bkt_net.cpt(f\"exercise({exercise.id})t\")[{f\"({kc.name})t\": True}] = [slip, 1-slip]\n",
    "\n",
    "    bkt_net.addArc(*(f\"({kc.name})0\", f\"({kc.name})t\"))\n",
    "    bkt_net.cpt(f\"({kc.name})t\")[{f\"({kc.name})0\": False}] = [1-learn, learn]\n",
    "    bkt_net.cpt(f\"({kc.name})t\")[{f\"({kc.name})0\": True}] = [forget, 1-forget]\n",
    "\n",
    "    n_eval = len(learner_traces)\n",
    "    return gdyn.unroll2TBN(bkt_net, n_eval+1)\n",
    "\n",
    "\n",
    "\n",
    "def get_bkt_net_bis(kc, learner, learner_traces):\n",
    "    bkt_net = gum.BayesNet('BKT')\n",
    "    \n",
    "    learn = learner.learner_pool.get_learn(kc)\n",
    "    prior = learner.learner_pool.get_prior(kc)\n",
    "    forget = learner.learner_pool.get_forget(kc)\n",
    "\n",
    "    bkt_net.add(gum.LabelizedVariable(f\"({kc.name})0\", '', 2))\n",
    "    bkt_net.cpt(f\"({kc.name})0\").fillWith([1-prior, prior])\n",
    "\n",
    "    bkt_net.addAND(gum.LabelizedVariable(f\"({kc.name})t\", '', 2))\n",
    "    for exercise in kc.get_exercises():\n",
    "        bkt_net.add(gum.LabelizedVariable(f\"exercise({exercise.id})0\", '', 2))\n",
    "        bkt_net.addArc(*(f\"({kc.name})0\", f\"exercise({exercise.id})0\"))\n",
    "\n",
    "        bkt_net.add(gum.LabelizedVariable(f\"exercise({exercise.id})t\", '', 2))\n",
    "        bkt_net.addArc(*(f\"({kc.name})t\", f\"exercise({exercise.id})t\"))\n",
    "\n",
    "        guess = learner.learner_pool.get_guess(exercise)\n",
    "        slip = learner.learner_pool.get_slip(exercise)\n",
    "        bkt_net.cpt(f\"exercise({exercise.id})0\")[{f\"({kc.name})0\": False}] = [1-guess, guess]\n",
    "        bkt_net.cpt(f\"exercise({exercise.id})0\")[{f\"({kc.name})0\": True}] = [slip, 1-slip]\n",
    "\n",
    "        bkt_net.cpt(f\"exercise({exercise.id})t\")[{f\"({kc.name})t\": False}] = [1-guess, guess]\n",
    "        bkt_net.cpt(f\"exercise({exercise.id})t\")[{f\"({kc.name})t\": True}] = [slip, 1-slip]\n",
    "\n",
    "        \n",
    "    bkt_net.add(gum.LabelizedVariable(f\"Z[({kc.name})_0 -> ({kc.name})_t]t\", '', 2))\n",
    "\n",
    "    bkt_net.addArc(*(f\"({kc.name})0\", f\"Z[({kc.name})_0 -> ({kc.name})_t]t\"))\n",
    "    bkt_net.addArc(*(f\"Z[({kc.name})_0 -> ({kc.name})_t]t\", f\"({kc.name})t\"))\n",
    "\n",
    "    bkt_net.cpt(f\"Z[({kc.name})_0 -> ({kc.name})_t]t\")[{f\"({kc.name})0\": False}] = [1-learn, learn]\n",
    "    bkt_net.cpt(f\"Z[({kc.name})_0 -> ({kc.name})_t]t\")[{f\"({kc.name})0\": True}] = [forget, 1-forget]\n",
    "\n",
    "    n_eval = len(learner_traces)\n",
    "    return gdyn.unroll2TBN(bkt_net, n_eval+1)\n",
    "\n",
    "\n",
    "def evaluate_learner_bkt(learner_traces):\n",
    "    n_eval = len(learner_traces)\n",
    "    evaluated_kc = learner_traces[0].get_kc()\n",
    "    learner = learner_traces[0].get_learner()\n",
    "    \n",
    "    floor_idx = 0\n",
    "    expected_values = []\n",
    "    predicted_values = []\n",
    "    \n",
    "    for i in range(len(learner_traces)):\n",
    "\n",
    "        bn = get_bkt_net(evaluated_kc, learner, learner_traces[:i])\n",
    "\n",
    "        ie=gum.LazyPropagation(bn)\n",
    "\n",
    "        if i > 0:\n",
    "            ie.setEvidence({\n",
    "                f\"exercise({learner_traces[j].get_exercise().id}){j}\": learner_traces[j].get_success() for j in range(i)\n",
    "            })\n",
    "        ie.makeInference()\n",
    "        predicted_values.append(ie.posterior(f\"exercise({learner_traces[i].get_exercise().id}){i}\")[:][1])\n",
    "        expected_values.append(learner_traces[i].get_success())\n",
    "        \n",
    "    return (expected_values, predicted_values)\n",
    "\n",
    "def evaluate_learner_bkt_bis(learner_traces):\n",
    "    n_eval = len(learner_traces)\n",
    "    evaluated_kc = learner_traces[0].get_kc()\n",
    "    learner = learner_traces[0].get_learner()\n",
    "    \n",
    "    floor_idx = 0\n",
    "    expected_values = []\n",
    "    predicted_values = []\n",
    "    \n",
    "    for i in range(len(learner_traces)):\n",
    "\n",
    "        bn = get_bkt_net_bis(evaluated_kc, learner, learner_traces[:i])\n",
    "\n",
    "        ie=gum.LazyPropagation(bn)\n",
    "\n",
    "        if i > 0:\n",
    "            ie.setEvidence({\n",
    "                f\"exercise({learner_traces[j].get_exercise().id}){j}\": learner_traces[j].get_success() for j in range(i)\n",
    "            })\n",
    "        ie.makeInference()\n",
    "        predicted_values.append(ie.posterior(f\"exercise({learner_traces[i].get_exercise().id}){i}\")[:][1])\n",
    "        expected_values.append(learner_traces[i].get_success())\n",
    "        \n",
    "    return (expected_values, predicted_values)\n"
   ]
  },
  {
   "cell_type": "code",
   "execution_count": null,
   "id": "d9963cff",
   "metadata": {},
   "outputs": [],
   "source": []
  },
  {
   "cell_type": "code",
   "execution_count": 9,
   "id": "b13da5fd",
   "metadata": {
    "scrolled": false
   },
   "outputs": [
    {
     "name": "stderr",
     "output_type": "stream",
     "text": [
      "100%|██████████| 1107/1107 [04:38<00:00,  3.98it/s]"
     ]
    },
    {
     "name": "stdout",
     "output_type": "stream",
     "text": [
      "ACC 0.7652038532645714\n",
      "AUC 0.7687374177840008\n",
      "MAE 0.3262661275149369\n"
     ]
    },
    {
     "name": "stderr",
     "output_type": "stream",
     "text": [
      "\n"
     ]
    }
   ],
   "source": [
    "### Score with pyAgrum\n",
    "\n",
    "learner_traces = deduce_learner_traces_from_dataset(df_test, exercises, learner_pool, defaults)\n",
    "\n",
    "expected_values = []\n",
    "predicted_values = []\n",
    "\n",
    "\n",
    "for learner in tqdm.tqdm(list(learner_traces.keys())):\n",
    "    for kc in list({object_.id: object_ for object_ in [trace.get_kc() for trace in learner_traces[learner]]}.values()):\n",
    "        kc_learner_evals = [trace for trace in learner_traces[learner] if trace.get_kc() is kc]\n",
    "        floor_idx = 0\n",
    "        if kc_learner_evals:\n",
    "            exp_vals, pred_vals = evaluate_learner_bkt(kc_learner_evals)\n",
    "            predicted_values = np.concatenate((predicted_values, pred_vals))\n",
    "            expected_values = np.concatenate((expected_values, exp_vals))\n",
    "\n",
    "print('ACC', accuracy_score(expected_values, [1 if x>.5 else 0 for x in predicted_values]))\n",
    "print('AUC', roc_auc_score(expected_values, predicted_values))\n",
    "print('MAE', mae(expected_values, predicted_values))\n"
   ]
  },
  {
   "cell_type": "code",
   "execution_count": null,
   "id": "70787d49",
   "metadata": {},
   "outputs": [],
   "source": []
  },
  {
   "cell_type": "code",
   "execution_count": 10,
   "id": "3bf291ed",
   "metadata": {},
   "outputs": [
    {
     "name": "stderr",
     "output_type": "stream",
     "text": [
      "100%|██████████| 1107/1107 [04:53<00:00,  3.77it/s]"
     ]
    },
    {
     "name": "stdout",
     "output_type": "stream",
     "text": [
      "[0.24882399 0.34124782 0.42781673 ... 0.44242548 0.75064631 0.66635083]\n",
      "ACC 0.7652038532645714\n",
      "AUC 0.7687374177840008\n",
      "MAE 0.3262661275149369\n"
     ]
    },
    {
     "name": "stderr",
     "output_type": "stream",
     "text": [
      "\n"
     ]
    }
   ],
   "source": [
    "### Score with pyAgrum\n",
    "\n",
    "learner_traces = deduce_learner_traces_from_dataset(df_test, exercises, learner_pool, defaults)\n",
    "\n",
    "expected_values = []\n",
    "predicted_values = []\n",
    "\n",
    "\n",
    "for learner in tqdm.tqdm(list(learner_traces.keys())):\n",
    "    for kc in list({object_.id: object_ for object_ in [trace.get_kc() for trace in learner_traces[learner]]}.values()):\n",
    "        kc_learner_evals = [trace for trace in learner_traces[learner] if trace.get_kc() is kc]\n",
    "        floor_idx = 0\n",
    "        if kc_learner_evals:\n",
    "            exp_vals, pred_vals = evaluate_learner_bkt_bis(kc_learner_evals)\n",
    "            predicted_values = np.concatenate((predicted_values, pred_vals))\n",
    "            expected_values = np.concatenate((expected_values, exp_vals))\n",
    "\n",
    "print(predicted_values)\n",
    "print('ACC', accuracy_score(expected_values, [1 if x>.5 else 0 for x in predicted_values]))\n",
    "print('AUC', roc_auc_score(expected_values, predicted_values))\n",
    "print('MAE', mae(expected_values, predicted_values))\n"
   ]
  },
  {
   "cell_type": "markdown",
   "id": "0b9cb0a4",
   "metadata": {},
   "source": [
    "Conclusion: same results but a way longer compute time"
   ]
  },
  {
   "cell_type": "code",
   "execution_count": 11,
   "id": "3a219247",
   "metadata": {
    "scrolled": false
   },
   "outputs": [
    {
     "name": "stderr",
     "output_type": "stream",
     "text": [
      "100%|██████████| 1107/1107 [23:36<00:00,  1.28s/it] "
     ]
    },
    {
     "name": "stdout",
     "output_type": "stream",
     "text": [
      "[0.24882399 0.34871695 0.42781673 ... 0.43156513 0.75450268 0.6668405 ] [0. 0. 0. ... 1. 1. 1.]\n",
      "ACC 0.7666634231779702\n",
      "AUC 0.7462365358486472\n",
      "MAE 0.3473110640592006\n"
     ]
    },
    {
     "name": "stderr",
     "output_type": "stream",
     "text": [
      "\n"
     ]
    }
   ],
   "source": [
    "predicted_values, expected_values = [], []\n",
    "for learner in tqdm.tqdm(list(learner_traces.keys())):\n",
    "    expected_values = np.concatenate((expected_values,\n",
    "                                      [int(trace.get_success()) for trace in learner_traces[learner]]))\n",
    "    predicted_values = np.concatenate((predicted_values, \n",
    "                                       learner.predict_sequence(learner_traces[learner], {}, {})))\n",
    "print(predicted_values, expected_values)\n",
    "print('ACC', accuracy_score(expected_values, [1 if x>.5 else 0 for x in predicted_values]))\n",
    "print('AUC', roc_auc_score(expected_values, predicted_values))\n",
    "print('MAE', mae(expected_values, predicted_values))"
   ]
  }
 ],
 "metadata": {
  "kernelspec": {
   "display_name": "Python 3",
   "language": "python",
   "name": "python3"
  },
  "language_info": {
   "codemirror_mode": {
    "name": "ipython",
    "version": 3
   },
   "file_extension": ".py",
   "mimetype": "text/x-python",
   "name": "python",
   "nbconvert_exporter": "python",
   "pygments_lexer": "ipython3",
   "version": "3.9.2"
  }
 },
 "nbformat": 4,
 "nbformat_minor": 5
}
