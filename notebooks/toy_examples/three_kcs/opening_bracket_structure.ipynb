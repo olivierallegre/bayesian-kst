{
 "cells": [
  {
   "cell_type": "markdown",
   "id": "c44b33b2",
   "metadata": {},
   "source": [
    "# Impact of KCs children on the KC mastery  \n",
    "In this notebook we will study a toy example of a 3 KCs domain knowledge model. The purpose of this example is to understand the impact children have on their parents.\n",
    "\n",
    "## Domain knowledge model\n",
    "We denote A, B and C the three studied KCs and we will suppose they are related with two prerequisite links A -> B and A -> C."
   ]
  },
  {
   "cell_type": "code",
   "execution_count": 1,
   "id": "d360fca6",
   "metadata": {},
   "outputs": [],
   "source": [
    "import sys\n",
    "sys.path.append(\"/Users/olivier/PycharmProjects/bayesian-kst/\")  # for mac\n",
    "sys.path.append(\"/home/olivier/PycharmProjects/bayesian-kst/\")  # for ubuntu\n",
    "\n",
    "from kgraph.expert_layer.domain import Domain\n",
    "from kgraph.expert_layer.knowledge_components import KnowledgeComponent\n",
    "from kgraph.expert_layer.link import Link\n",
    "from kgraph.resources_layer.exercise import Exercise\n",
    "from kgraph.learner_layer.answer import LearnerAnswer\n",
    "from kgraph.learner_layer.learner import Learner\n",
    "from kgraph.learner_layer.learner_pool import LearnerPool\n",
    "from kgraph.helpers.truthtable import truthtable\n",
    "import pyAgrum as gum\n",
    "import pyAgrum.lib.notebook as gnb\n",
    "import pyAgrum.lib.dynamicBN as gdyn\n",
    "import random\n",
    "import itertools\n",
    "import numpy as np\n",
    "from sklearn.metrics import roc_auc_score\n",
    "\n",
    "KC_A = KnowledgeComponent(1, \"A\")\n",
    "KC_B = KnowledgeComponent(2, \"B\")\n",
    "KC_C = KnowledgeComponent(3, \"C\")\n",
    "\n",
    "A_2_B = Link(source=KC_A, target=KC_B)\n",
    "A_2_C = Link(source=KC_A, target=KC_C)\n",
    "\n",
    "domain = Domain([KC_A, KC_B, KC_C], [A_2_B, A_2_C])\n",
    "\n",
    "params = {\"slip\": .01, \"guess\":.01}\n",
    "\n",
    "# there are 5 exercises corresponding to KC A\n",
    "ex_1 = Exercise(1, KC_A, \"qcm\", ex_content=\"\", params=params)\n",
    "ex_2 = Exercise(2, KC_B, \"qcm\", ex_content=\"\", params=params)\n",
    "ex_3 = Exercise(3, KC_C, \"qcm\", ex_content=\"\", params=params)\n",
    "\n",
    "priors = {'A': 0.1, 'B': 0.1, 'C': 0.1}\n"
   ]
  },
  {
   "cell_type": "markdown",
   "id": "b79e5fdc",
   "metadata": {},
   "source": [
    "## Learner knowledge model\n",
    "### No prerequisite links\n",
    "In a first place, in order to differenciate the effect of evaluations and the impact of the prerequisite links, we study how the model behave to learner traces when we don't declare any prerequisite links."
   ]
  },
  {
   "cell_type": "code",
   "execution_count": 2,
   "id": "c16e7cdd",
   "metadata": {},
   "outputs": [],
   "source": [
    "prereqs = {KC_A: {KC_B: 'not existing', KC_C:'not existing'}, \n",
    "           KC_B: {KC_A: 'not existing'}, \n",
    "           KC_C: {KC_A: 'not existing'}}\n",
    "\n",
    "learner_pool = LearnerPool(domain, prereqs)\n",
    "\n",
    "for kc in learner_pool.get_knowledge_components():\n",
    "    learner_pool.set_learn(kc, .1)\n",
    "    learner_pool.set_prior(kc, .1)\n",
    "    learner_pool.set_slip(kc, .1)\n",
    "    learner_pool.set_guess(kc, .25)\n",
    "    learner_pool.set_forget(kc, 0)"
   ]
  },
  {
   "cell_type": "code",
   "execution_count": 3,
   "id": "8c00f3ea",
   "metadata": {},
   "outputs": [
    {
     "name": "stdout",
     "output_type": "stream",
     "text": [
      "Results from a succeeded exercise done on KC A:\n",
      "\n",
      "The knowledge state before doing the exercise is:  {'A': 0.1, 'B': 0.1, 'C': 0.1}\n",
      "The knowledge state after the exercise is:  {'A': 0.41304347826086957, 'B': 0.1, 'C': 0.1, 'eval(A)': 0.5184782608695652, 'eval(B)': 0.315, 'eval(C)': 0.315}\n"
     ]
    }
   ],
   "source": [
    "learner = Learner(1, learner_pool)\n",
    "answer = [KC_A, True]\n",
    "\n",
    "print(\"Results from a succeeded exercise done on KC A:\\n\")\n",
    "print(\"The knowledge state before doing the exercise is: \",priors)\n",
    "knowledge_state = learner.predict_next_step(priors, evaluation=answer, pred_mode='one_kc')\n",
    "#knowledge_state = learner.predict_next_step(knowledge_state, evaluation=None, pred_mode='all')\n",
    "print(\"The knowledge state after the exercise is: \",knowledge_state)"
   ]
  },
  {
   "cell_type": "code",
   "execution_count": 4,
   "id": "4babc679",
   "metadata": {},
   "outputs": [
    {
     "name": "stdout",
     "output_type": "stream",
     "text": [
      "Results from an unsuccueeded exercise done on KC A:\n",
      "\n",
      "The knowledge state before doing the exercise is:  {'A': 0.1, 'B': 0.1, 'C': 0.1}\n",
      "The knowledge state after the exercise is:  {'A': 0.02540106951871658, 'B': 0.1, 'C': 0.1, 'eval(A)': 0.26651069518716575, 'eval(B)': 0.315, 'eval(C)': 0.315}\n"
     ]
    }
   ],
   "source": [
    "learner = Learner(1, learner_pool)\n",
    "answer = [KC_A, False]\n",
    "\n",
    "print(\"Results from an unsuccueeded exercise done on KC A:\\n\")\n",
    "print(\"The knowledge state before doing the exercise is: \",priors)\n",
    "knowledge_state = learner.predict_next_step(priors, evaluation=answer, pred_mode='one_kc')\n",
    "#knowledge_state = learner.predict_next_step(knowledge_state, evaluation=None, pred_mode='all')\n",
    "print(\"The knowledge state after the exercise is: \",knowledge_state)"
   ]
  },
  {
   "cell_type": "code",
   "execution_count": 5,
   "id": "54390026",
   "metadata": {},
   "outputs": [
    {
     "name": "stdout",
     "output_type": "stream",
     "text": [
      "Results from a succeeded exercise done on KC B:\n",
      "\n",
      "The knowledge state before doing the exercise is:  {'A': 0.1, 'B': 0.1, 'C': 0.1}\n",
      "The knowledge state after the exercise is:  {'A': 0.1, 'B': 0.41304347826086957, 'C': 0.1, 'eval(A)': 0.315, 'eval(B)': 0.5184782608695652, 'eval(C)': 0.315}\n"
     ]
    }
   ],
   "source": [
    "learner = Learner(1, learner_pool)\n",
    "answer = [KC_B, True]\n",
    "\n",
    "print(\"Results from a succeeded exercise done on KC B:\\n\")\n",
    "print(\"The knowledge state before doing the exercise is: \",priors)\n",
    "knowledge_state = learner.predict_next_step(priors, evaluation=answer, pred_mode='one_kc')\n",
    "#knowledge_state = learner.predict_next_step(knowledge_state, evaluation=None, pred_mode='all')\n",
    "print(\"The knowledge state after the exercise is: \",knowledge_state)"
   ]
  },
  {
   "cell_type": "code",
   "execution_count": 6,
   "id": "c03cbb1d",
   "metadata": {},
   "outputs": [
    {
     "name": "stdout",
     "output_type": "stream",
     "text": [
      "Results from an unsuccueeded exercise done on KC B:\n",
      "\n",
      "The knowledge state before doing the exercise is:  {'A': 0.1, 'B': 0.1, 'C': 0.1}\n",
      "The knowledge state after the exercise is:  {'A': 0.1, 'B': 0.02540106951871658, 'C': 0.1, 'eval(A)': 0.315, 'eval(B)': 0.26651069518716575, 'eval(C)': 0.315}\n"
     ]
    }
   ],
   "source": [
    "learner = Learner(1, learner_pool)\n",
    "answer = [KC_B, False]\n",
    "\n",
    "print(\"Results from an unsuccueeded exercise done on KC B:\\n\")\n",
    "print(\"The knowledge state before doing the exercise is: \",priors)\n",
    "knowledge_state = learner.predict_next_step(priors, evaluation=answer, pred_mode='one_kc')\n",
    "#knowledge_state = learner.predict_next_step(knowledge_state, evaluation=None, pred_mode='all')\n",
    "print(\"The knowledge state after the exercise is: \",knowledge_state)"
   ]
  },
  {
   "cell_type": "code",
   "execution_count": 7,
   "id": "c674092f",
   "metadata": {},
   "outputs": [
    {
     "name": "stdout",
     "output_type": "stream",
     "text": [
      "Results from a succeeded exercise done on KC C:\n",
      "\n",
      "The knowledge state before doing the exercise is:  {'A': 0.1, 'B': 0.1, 'C': 0.1}\n",
      "The knowledge state after the exercise is:  {'A': 0.1, 'B': 0.1, 'C': 0.41304347826086957, 'eval(A)': 0.315, 'eval(B)': 0.315, 'eval(C)': 0.5184782608695652}\n"
     ]
    }
   ],
   "source": [
    "learner = Learner(1, learner_pool)\n",
    "answer = [KC_C, True]\n",
    "\n",
    "print(\"Results from a succeeded exercise done on KC C:\\n\")\n",
    "print(\"The knowledge state before doing the exercise is: \",priors)\n",
    "knowledge_state = learner.predict_next_step(priors, evaluation=answer, pred_mode='one_kc')\n",
    "#knowledge_state = learner.predict_next_step(knowledge_state, evaluation=None, pred_mode='all')\n",
    "print(\"The knowledge state after the exercise is: \",knowledge_state)"
   ]
  },
  {
   "cell_type": "code",
   "execution_count": 8,
   "id": "96706576",
   "metadata": {},
   "outputs": [
    {
     "name": "stdout",
     "output_type": "stream",
     "text": [
      "Results from an unsuccueeded exercise done on KC C:\n",
      "\n",
      "The knowledge state before doing the exercise is:  {'A': 0.1, 'B': 0.1, 'C': 0.1}\n",
      "The knowledge state after the exercise is:  {'A': 0.1, 'B': 0.1, 'C': 0.02540106951871658, 'eval(A)': 0.315, 'eval(B)': 0.315, 'eval(C)': 0.26651069518716575}\n"
     ]
    }
   ],
   "source": [
    "learner = Learner(1, learner_pool)\n",
    "answer = [KC_C, False]\n",
    "\n",
    "print(\"Results from an unsuccueeded exercise done on KC C:\\n\")\n",
    "print(\"The knowledge state before doing the exercise is: \",priors)\n",
    "knowledge_state = learner.predict_next_step(priors, evaluation=answer, pred_mode='one_kc')\n",
    "#knowledge_state = learner.predict_next_step(knowledge_state, evaluation=None, pred_mode='all')\n",
    "print(\"The knowledge state after the exercise is: \",knowledge_state)"
   ]
  },
  {
   "cell_type": "markdown",
   "id": "1b4008d5",
   "metadata": {},
   "source": [
    "### Strong prerequisite links\n",
    "In a first place, in order to differenciate the effect of evaluations and the impact of the prerequisite links, we study how the model behave to learner traces when we don't declare any prerequisite links."
   ]
  },
  {
   "cell_type": "code",
   "execution_count": 9,
   "id": "c213621f",
   "metadata": {},
   "outputs": [],
   "source": [
    "prereqs = {KC_A: {KC_B: 'strong', KC_C:'weak'}, \n",
    "           KC_B: {KC_A: 'strong'}, \n",
    "           KC_C: {KC_A: 'weak'}}\n",
    "learner_pool = LearnerPool(domain, prereqs)\n",
    "\n",
    "for kc in learner_pool.get_knowledge_components():\n",
    "    learner_pool.set_learn(kc, .1)\n",
    "    learner_pool.set_prior(kc, .1)\n",
    "    learner_pool.set_slip(kc, .1)\n",
    "    learner_pool.set_guess(kc, .25)\n",
    "    learner_pool.set_forget(kc, 0)"
   ]
  },
  {
   "cell_type": "code",
   "execution_count": 10,
   "id": "0d8920d2",
   "metadata": {},
   "outputs": [
    {
     "name": "stdout",
     "output_type": "stream",
     "text": [
      "Results from a succeeded exercise done on KC A:\n",
      "\n",
      "The knowledge state before doing the exercise is:  {'A': 0.1, 'B': 0.1, 'C': 0.1}\n",
      "The knowledge state after the exercise is:  {'A': 0.5747594374537379, 'B': 0.1739452257586973, 'C': 0.15396002960769795, 'eval(A)': 0.6235936343449296, 'eval(B)': 0.3630643967431532, 'eval(C)': 0.3500740192450037}\n"
     ]
    }
   ],
   "source": [
    "learner = Learner(1, learner_pool)\n",
    "priors = learner.get_priors()\n",
    "answer = [KC_A, True]\n",
    "\n",
    "print(\"Results from a succeeded exercise done on KC A:\\n\")\n",
    "print(\"The knowledge state before doing the exercise is: \",priors)\n",
    "knowledge_state = learner.predict_next_step(priors, evaluation=answer, pred_mode='one_kc')\n",
    "#knowledge_state = learner.predict_next_step(knowledge_state, evaluation=None, pred_mode='all')\n",
    "print(\"The knowledge state after the exercise is: \",knowledge_state)"
   ]
  },
  {
   "cell_type": "code",
   "execution_count": 11,
   "id": "f427010a",
   "metadata": {},
   "outputs": [
    {
     "name": "stdout",
     "output_type": "stream",
     "text": [
      "Results from an unsuccueeded exercise done on KC A:\n",
      "\n",
      "The knowledge state before doing the exercise is:  {'A': 0.1, 'B': 0.1, 'C': 0.1}\n",
      "The knowledge state after the exercise is:  {'A': 0.04767313359528488, 'B': 0.026399803536345773, 'C': 0.046291748526522604, 'eval(A)': 0.28098753683693517, 'eval(B)': 0.26715987229862476, 'eval(C)': 0.2800896365422397}\n"
     ]
    }
   ],
   "source": [
    "learner = Learner(1, learner_pool)\n",
    "priors = learner.get_priors()\n",
    "answer = [KC_A, False]\n",
    "\n",
    "print(\"Results from an unsuccueeded exercise done on KC A:\\n\")\n",
    "print(\"The knowledge state before doing the exercise is: \",priors)\n",
    "knowledge_state = learner.predict_next_step(priors, evaluation=answer, pred_mode='one_kc')\n",
    "#knowledge_state = learner.predict_next_step(knowledge_state, evaluation=None, pred_mode='all')\n",
    "print(\"The knowledge state after the exercise is: \",knowledge_state)"
   ]
  },
  {
   "cell_type": "code",
   "execution_count": 12,
   "id": "1dd32a1b",
   "metadata": {},
   "outputs": [
    {
     "name": "stdout",
     "output_type": "stream",
     "text": [
      "Results from a succeeded exercise done on KC B:\n",
      "\n",
      "The knowledge state before doing the exercise is:  {'A': 0.1, 'B': 0.1, 'C': 0.1}\n",
      "The knowledge state after the exercise is:  {'A': 0.3706637297376235, 'B': 0.28304045173538434, 'C': 0.1, 'eval(A)': 0.4909314243294553, 'eval(B)': 0.43397629362799983, 'eval(C)': 0.31499999999999995}\n"
     ]
    }
   ],
   "source": [
    "learner = Learner(1, learner_pool)\n",
    "priors = learner.get_priors()\n",
    "answer = [KC_B, True]\n",
    "\n",
    "print(\"Results from a succeeded exercise done on KC B:\\n\")\n",
    "print(\"The knowledge state before doing the exercise is: \",priors)\n",
    "knowledge_state = learner.predict_next_step(priors, evaluation=answer, pred_mode='one_kc')\n",
    "#knowledge_state = learner.predict_next_step(knowledge_state, evaluation=None, pred_mode='all')\n",
    "print(\"The knowledge state after the exercise is: \",knowledge_state)"
   ]
  },
  {
   "cell_type": "code",
   "execution_count": 13,
   "id": "a820d657",
   "metadata": {},
   "outputs": [
    {
     "name": "stdout",
     "output_type": "stream",
     "text": [
      "Results from an unsuccueeded exercise done on KC B:\n",
      "\n",
      "The knowledge state before doing the exercise is:  {'A': 0.1, 'B': 0.1, 'C': 0.1}\n",
      "The knowledge state after the exercise is:  {'A': 0.16621084107424336, 'B': 0.014410732519752951, 'C': 0.1, 'eval(A)': 0.3580370466982582, 'eval(B)': 0.2593669761378395, 'eval(C)': 0.315}\n"
     ]
    }
   ],
   "source": [
    "learner = Learner(1, learner_pool)\n",
    "priors = learner.get_priors()\n",
    "answer = [KC_B, False]\n",
    "\n",
    "print(\"Results from an unsuccueeded exercise done on KC B:\\n\")\n",
    "print(\"The knowledge state before doing the exercise is: \",priors)\n",
    "knowledge_state = learner.predict_next_step(priors, evaluation=answer, pred_mode='one_kc')\n",
    "#knowledge_state = learner.predict_next_step(knowledge_state, evaluation=None, pred_mode='all')\n",
    "print(\"The knowledge state after the exercise is: \",knowledge_state)"
   ]
  },
  {
   "cell_type": "code",
   "execution_count": 14,
   "id": "56048adb",
   "metadata": {},
   "outputs": [
    {
     "name": "stdout",
     "output_type": "stream",
     "text": [
      "Results from a succeeded exercise done on KC C:\n",
      "\n",
      "The knowledge state before doing the exercise is:  {'A': 0.1, 'B': 0.1, 'C': 0.1}\n",
      "The knowledge state after the exercise is:  {'A': 0.34424288310115075, 'B': 0.09999999999999998, 'C': 0.2886129618413083, 'eval(A)': 0.47375787401574804, 'eval(B)': 0.31499999999999995, 'eval(C)': 0.4375984251968504}\n"
     ]
    }
   ],
   "source": [
    "learner = Learner(1, learner_pool)\n",
    "priors = learner.get_priors()\n",
    "answer = [KC_C, True]\n",
    "\n",
    "print(\"Results from a succeeded exercise done on KC C:\\n\")\n",
    "print(\"The knowledge state before doing the exercise is: \",priors)\n",
    "knowledge_state = learner.predict_next_step(priors, evaluation=answer, pred_mode='one_kc')\n",
    "#knowledge_state = learner.predict_next_step(knowledge_state, evaluation=None, pred_mode='all')\n",
    "print(\"The knowledge state after the exercise is: \",knowledge_state)"
   ]
  },
  {
   "cell_type": "code",
   "execution_count": 15,
   "id": "51f75617",
   "metadata": {},
   "outputs": [
    {
     "name": "stdout",
     "output_type": "stream",
     "text": [
      "Results from an unsuccueeded exercise done on KC C:\n",
      "\n",
      "The knowledge state before doing the exercise is:  {'A': 0.1, 'B': 0.1, 'C': 0.1}\n",
      "The knowledge state after the exercise is:  {'A': 0.18242683608798316, 'B': 0.09999999999999999, 'C': 0.01480365353547906, 'eval(A)': 0.368577443457189, 'eval(B)': 0.315, 'eval(C)': 0.2596223747980614}\n"
     ]
    }
   ],
   "source": [
    "learner = Learner(1, learner_pool)\n",
    "priors = learner.get_priors()\n",
    "answer = [KC_C, False]\n",
    "\n",
    "print(\"Results from an unsuccueeded exercise done on KC C:\\n\")\n",
    "print(\"The knowledge state before doing the exercise is: \",priors)\n",
    "knowledge_state = learner.predict_next_step(priors, evaluation=answer, pred_mode='one_kc')\n",
    "#knowledge_state = learner.predict_next_step(knowledge_state, evaluation=None, pred_mode='all')\n",
    "print(\"The knowledge state after the exercise is: \",knowledge_state)"
   ]
  }
 ],
 "metadata": {
  "kernelspec": {
   "display_name": "Python 3",
   "language": "python",
   "name": "python3"
  },
  "language_info": {
   "codemirror_mode": {
    "name": "ipython",
    "version": 3
   },
   "file_extension": ".py",
   "mimetype": "text/x-python",
   "name": "python",
   "nbconvert_exporter": "python",
   "pygments_lexer": "ipython3",
   "version": "3.9.2"
  }
 },
 "nbformat": 4,
 "nbformat_minor": 5
}
