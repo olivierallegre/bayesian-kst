{
 "cells": [
  {
   "cell_type": "markdown",
   "id": "c44b33b2",
   "metadata": {},
   "source": [
    "# Impact of KCs parents on the KC mastery  \n",
    "In this notebook we will study a toy example of a 3 KCs domain knowledge model. The purpose of this example is to understand the impact parents have on their children.\n",
    "\n",
    "## Domain knowledge model\n",
    "We denote A, B and C the three studied KCs and we will suppose they are related with two prerequisite links A -> C and B -> C."
   ]
  },
  {
   "cell_type": "code",
   "execution_count": 1,
   "id": "d360fca6",
   "metadata": {},
   "outputs": [],
   "source": [
    "import sys\n",
    "sys.path.append(\"/Users/olivier/PycharmProjects/bayesian-kst/\")  # for mac\n",
    "sys.path.append(\"/home/olivier/PycharmProjects/bayesian-kst/\")  # for ubuntu\n",
    "\n",
    "from kgraph.expert_layer.domain import Domain\n",
    "from kgraph.expert_layer.knowledge_components import KnowledgeComponent\n",
    "from kgraph.expert_layer.link import Link\n",
    "from kgraph.resources_layer.exercise import Exercise\n",
    "from kgraph.learner_layer.evaluation import LearnerTrace\n",
    "from kgraph.learner_layer.learner import Learner\n",
    "from kgraph.learner_layer.learner_pool import LearnerPool\n",
    "from kgraph.helpers.truthtable import truthtable\n",
    "import pyAgrum as gum\n",
    "import pyAgrum.lib.notebook as gnb\n",
    "import pyAgrum.lib.dynamicBN as gdyn\n",
    "import random\n",
    "import itertools\n",
    "import numpy as np\n",
    "from sklearn.metrics import roc_auc_score\n",
    "\n",
    "KC_A = KnowledgeComponent(1, \"A\")\n",
    "KC_B = KnowledgeComponent(2, \"B\")\n",
    "KC_C = KnowledgeComponent(3, \"C\")\n",
    "\n",
    "A_2_C = Link(source=KC_A, target=KC_C)\n",
    "B_2_C = Link(source=KC_B, target=KC_C)\n",
    "\n",
    "domain = Domain([KC_A, KC_B, KC_C], [A_2_C, B_2_C])\n",
    "\n",
    "params = {\"slip\": .01, \"guess\":.01}\n",
    "priors = {'A': 0.1, 'B': 0.1, 'C': 0.1}\n",
    "# there are 5 exercises corresponding to KC A\n",
    "ex_1 = Exercise(1, KC_A, \"qcm\", ex_content=\"\", params=params)\n",
    "ex_2 = Exercise(2, KC_B, \"qcm\", ex_content=\"\", params=params)\n",
    "ex_3 = Exercise(3, KC_C, \"qcm\", ex_content=\"\", params=params)"
   ]
  },
  {
   "cell_type": "markdown",
   "id": "b79e5fdc",
   "metadata": {},
   "source": [
    "## Learner knowledge model\n",
    "### No prerequisite links\n",
    "In a first place, in order to differenciate the effect of evaluations and the impact of the prerequisite links, we study how the model behave to learner traces when we don't declare any prerequisite links."
   ]
  },
  {
   "cell_type": "code",
   "execution_count": 2,
   "id": "f025d88b",
   "metadata": {},
   "outputs": [],
   "source": [
    "prereqs = {KC_A: {KC_C: 'not existing'}, \n",
    "           KC_B: {KC_C: 'not existing'}, \n",
    "           KC_C: {KC_A: 'not existing', KC_B:'not existing'}}\n",
    "learner_pool = LearnerPool(domain, prereqs)\n",
    "\n",
    "for kc in learner_pool.get_knowledge_components():\n",
    "    learner_pool.set_learn(kc, .1)\n",
    "    learner_pool.set_prior(kc, .1)\n",
    "    learner_pool.set_forget(kc, 0)\n",
    "    \n",
    "for ex in [ex_1, ex_2, ex_3]:\n",
    "    learner_pool.set_slip(ex, .1)\n",
    "    learner_pool.set_guess(ex, .25)\n"
   ]
  },
  {
   "cell_type": "code",
   "execution_count": 3,
   "id": "8c00f3ea",
   "metadata": {},
   "outputs": [
    {
     "name": "stdout",
     "output_type": "stream",
     "text": [
      "Results from a succeeded exercise done on KC A:\n",
      "\n",
      "The knowledge state before doing the exercise is:  {'A': 0.1, 'B': 0.1, 'C': 0.1}\n",
      "The knowledge state after the exercise is:  [0.315]\n"
     ]
    }
   ],
   "source": [
    "learner = Learner(1, learner_pool)\n",
    "answer = [KC_A, True]\n",
    "learner_traces = [LearnerTrace(learner, ex_1, True)]\n",
    "print(\"Results from a succeeded exercise done on KC A:\\n\")\n",
    "print(\"The knowledge state before doing the exercise is: \",priors)\n",
    "knowledge_state = learner.predict_sequence(learner_traces)\n",
    "#knowledge_state = learner.predict_next_step(knowledge_state, evaluation=None, pred_mode='all')\n",
    "print(\"The knowledge state after the exercise is: \",knowledge_state)"
   ]
  },
  {
   "cell_type": "code",
   "execution_count": 4,
   "id": "4babc679",
   "metadata": {},
   "outputs": [
    {
     "name": "stdout",
     "output_type": "stream",
     "text": [
      "Results from an unsuccueeded exercise done on KC A:\n",
      "\n",
      "The knowledge state before doing the exercise is:  {'A': 0.1, 'B': 0.1, 'C': 0.1}\n"
     ]
    },
    {
     "ename": "AttributeError",
     "evalue": "'Learner' object has no attribute 'predict_next_step'",
     "output_type": "error",
     "traceback": [
      "\u001b[0;31m---------------------------------------------------------------------------\u001b[0m",
      "\u001b[0;31mAttributeError\u001b[0m                            Traceback (most recent call last)",
      "\u001b[0;32m<ipython-input-4-73fe143578f5>\u001b[0m in \u001b[0;36m<module>\u001b[0;34m\u001b[0m\n\u001b[1;32m      4\u001b[0m \u001b[0mprint\u001b[0m\u001b[0;34m(\u001b[0m\u001b[0;34m\"Results from an unsuccueeded exercise done on KC A:\\n\"\u001b[0m\u001b[0;34m)\u001b[0m\u001b[0;34m\u001b[0m\u001b[0;34m\u001b[0m\u001b[0m\n\u001b[1;32m      5\u001b[0m \u001b[0mprint\u001b[0m\u001b[0;34m(\u001b[0m\u001b[0;34m\"The knowledge state before doing the exercise is: \"\u001b[0m\u001b[0;34m,\u001b[0m\u001b[0mpriors\u001b[0m\u001b[0;34m)\u001b[0m\u001b[0;34m\u001b[0m\u001b[0;34m\u001b[0m\u001b[0m\n\u001b[0;32m----> 6\u001b[0;31m \u001b[0mknowledge_state\u001b[0m \u001b[0;34m=\u001b[0m \u001b[0mlearner\u001b[0m\u001b[0;34m.\u001b[0m\u001b[0mpredict_next_step\u001b[0m\u001b[0;34m(\u001b[0m\u001b[0mpriors\u001b[0m\u001b[0;34m,\u001b[0m \u001b[0mevaluation\u001b[0m\u001b[0;34m=\u001b[0m\u001b[0manswer\u001b[0m\u001b[0;34m,\u001b[0m \u001b[0mpred_mode\u001b[0m\u001b[0;34m=\u001b[0m\u001b[0;34m'one_kc'\u001b[0m\u001b[0;34m)\u001b[0m\u001b[0;34m\u001b[0m\u001b[0;34m\u001b[0m\u001b[0m\n\u001b[0m\u001b[1;32m      7\u001b[0m \u001b[0;31m#knowledge_state = learner.predict_next_step(knowledge_state, evaluation=None, pred_mode='all')\u001b[0m\u001b[0;34m\u001b[0m\u001b[0;34m\u001b[0m\u001b[0;34m\u001b[0m\u001b[0m\n\u001b[1;32m      8\u001b[0m \u001b[0mprint\u001b[0m\u001b[0;34m(\u001b[0m\u001b[0;34m\"The knowledge state after the exercise is: \"\u001b[0m\u001b[0;34m,\u001b[0m\u001b[0mknowledge_state\u001b[0m\u001b[0;34m)\u001b[0m\u001b[0;34m\u001b[0m\u001b[0;34m\u001b[0m\u001b[0m\n",
      "\u001b[0;31mAttributeError\u001b[0m: 'Learner' object has no attribute 'predict_next_step'"
     ]
    }
   ],
   "source": [
    "learner = Learner(1, learner_pool)\n",
    "answer = [KC_A, False]\n",
    "\n",
    "print(\"Results from an unsuccueeded exercise done on KC A:\\n\")\n",
    "print(\"The knowledge state before doing the exercise is: \",priors)\n",
    "knowledge_state = learner.predict_next_step(priors, evaluation=answer, pred_mode='one_kc')\n",
    "#knowledge_state = learner.predict_next_step(knowledge_state, evaluation=None, pred_mode='all')\n",
    "print(\"The knowledge state after the exercise is: \",knowledge_state)"
   ]
  },
  {
   "cell_type": "code",
   "execution_count": null,
   "id": "501d7611",
   "metadata": {},
   "outputs": [],
   "source": [
    "learner = Learner(1, learner_pool)\n",
    "answer = [KC_B, True]\n",
    "\n",
    "print(\"Results from a succeeded exercise done on KC B:\\n\")\n",
    "print(\"The knowledge state before doing the exercise is: \",priors)\n",
    "knowledge_state = learner.predict_next_step(priors, evaluation=answer, pred_mode='one_kc')\n",
    "#knowledge_state = learner.predict_next_step(knowledge_state, evaluation=None, pred_mode='all')\n",
    "print(\"The knowledge state after the exercise is: \",knowledge_state)"
   ]
  },
  {
   "cell_type": "code",
   "execution_count": null,
   "id": "9047fdc6",
   "metadata": {},
   "outputs": [],
   "source": [
    "learner = Learner(1, learner_pool)\n",
    "answer = [KC_B, False]\n",
    "\n",
    "print(\"Results from an unsuccueeded exercise done on KC B:\\n\")\n",
    "print(\"The knowledge state before doing the exercise is: \",priors)\n",
    "knowledge_state = learner.predict_next_step(priors, evaluation=answer, pred_mode='one_kc')\n",
    "#knowledge_state = learner.predict_next_step(knowledge_state, evaluation=None, pred_mode='all')\n",
    "print(\"The knowledge state after the exercise is: \",knowledge_state)"
   ]
  },
  {
   "cell_type": "code",
   "execution_count": null,
   "id": "74abbdf7",
   "metadata": {},
   "outputs": [],
   "source": [
    "learner = Learner(1, learner_pool)\n",
    "answer = [KC_C, True]\n",
    "\n",
    "print(\"Results from a succeeded exercise done on KC C:\\n\")\n",
    "print(\"The knowledge state before doing the exercise is: \",priors)\n",
    "knowledge_state = learner.predict_next_step(priors, evaluation=answer, pred_mode='one_kc')\n",
    "#knowledge_state = learner.predict_next_step(knowledge_state, evaluation=None, pred_mode='all')\n",
    "print(\"The knowledge state after the exercise is: \",knowledge_state)"
   ]
  },
  {
   "cell_type": "code",
   "execution_count": null,
   "id": "8629b5d8",
   "metadata": {},
   "outputs": [],
   "source": [
    "learner = Learner(1, learner_pool)\n",
    "answer = [KC_C, False]\n",
    "\n",
    "print(\"Results from an unsuccueeded exercise done on KC C:\\n\")\n",
    "print(\"The knowledge state before doing the exercise is: \",priors)\n",
    "knowledge_state = learner.predict_next_step(priors, evaluation=answer, pred_mode='one_kc')\n",
    "#knowledge_state = learner.predict_next_step(knowledge_state, evaluation=None, pred_mode='all')\n",
    "print(\"The knowledge state after the exercise is: \",knowledge_state)"
   ]
  },
  {
   "cell_type": "markdown",
   "id": "5fd47017",
   "metadata": {},
   "source": [
    "### Existing prerequisite link structure\n",
    "Now we study the impact of the prerequisite links, we study how the model behave to learner traces when we don't declare any prerequisite links."
   ]
  },
  {
   "cell_type": "code",
   "execution_count": null,
   "id": "5e9a2e2b",
   "metadata": {},
   "outputs": [],
   "source": [
    "prereqs = {KC_A: {KC_C: 'strong'}, \n",
    "           KC_B: {KC_C: 'weak'}, \n",
    "           KC_C: {KC_A: 'strong', KC_B:'weak'}}\n",
    "learner_pool = LearnerPool(domain, prereqs)\n",
    "\n",
    "for kc in learner_pool.get_knowledge_components():\n",
    "    learner_pool.set_learn(kc, .1)\n",
    "    learner_pool.set_prior(kc, .1)\n",
    "    learner_pool.set_slip(kc, .1)\n",
    "    learner_pool.set_guess(kc, .25)\n",
    "    learner_pool.set_forget(kc, 0)"
   ]
  },
  {
   "cell_type": "code",
   "execution_count": null,
   "id": "ed410920",
   "metadata": {},
   "outputs": [],
   "source": [
    "learner = Learner(1, learner_pool)\n",
    "priors = learner.get_priors()\n",
    "answer = [KC_A, True]\n",
    "\n",
    "print(\"Results from a succeeded exercise done on KC A:\\n\")\n",
    "print(\"The knowledge state before doing the exercise is: \",priors)\n",
    "knowledge_state = learner.predict_next_step(priors, evaluation=answer, pred_mode='one_kc')\n",
    "#knowledge_state = learner.predict_next_step(knowledge_state, evaluation=None, pred_mode='all')\n",
    "print(\"The knowledge state after the exercise is: \",knowledge_state)"
   ]
  },
  {
   "cell_type": "code",
   "execution_count": null,
   "id": "7e352fc5",
   "metadata": {},
   "outputs": [],
   "source": [
    "learner = Learner(1, learner_pool)\n",
    "priors = learner.get_priors()\n",
    "answer = [KC_A, False]\n",
    "\n",
    "print(\"Results from an unsuccueeded exercise done on KC A:\\n\")\n",
    "print(\"The knowledge state before doing the exercise is: \",priors)\n",
    "knowledge_state = learner.predict_next_step(priors, evaluation=answer, pred_mode='one_kc')\n",
    "#knowledge_state = learner.predict_next_step(knowledge_state, evaluation=None, pred_mode='all')\n",
    "print(\"The knowledge state after the exercise is: \",knowledge_state)"
   ]
  },
  {
   "cell_type": "code",
   "execution_count": null,
   "id": "b3e6fdd1",
   "metadata": {},
   "outputs": [],
   "source": [
    "learner = Learner(1, learner_pool)\n",
    "priors = learner.get_priors()\n",
    "answer = [KC_B, True]\n",
    "\n",
    "print(\"Results from a succeeded exercise done on KC B:\\n\")\n",
    "print(\"The knowledge state before doing the exercise is: \",priors)\n",
    "knowledge_state = learner.predict_next_step(priors, evaluation=answer, pred_mode='one_kc')\n",
    "#knowledge_state = learner.predict_next_step(knowledge_state, evaluation=None, pred_mode='all')\n",
    "print(\"The knowledge state after the exercise is: \",knowledge_state)"
   ]
  },
  {
   "cell_type": "code",
   "execution_count": null,
   "id": "fc769ced",
   "metadata": {},
   "outputs": [],
   "source": [
    "learner = Learner(1, learner_pool)\n",
    "priors = learner.get_priors()\n",
    "answer = [KC_B, False]\n",
    "\n",
    "print(\"Results from an unsuccueeded exercise done on KC B:\\n\")\n",
    "print(\"The knowledge state before doing the exercise is: \",priors)\n",
    "knowledge_state = learner.predict_next_step(priors, evaluation=answer, pred_mode='one_kc')\n",
    "#knowledge_state = learner.predict_next_step(knowledge_state, evaluation=None, pred_mode='all')\n",
    "print(\"The knowledge state after the exercise is: \",knowledge_state)"
   ]
  },
  {
   "cell_type": "code",
   "execution_count": null,
   "id": "13060107",
   "metadata": {},
   "outputs": [],
   "source": [
    "learner = Learner(1, learner_pool)\n",
    "priors = learner.get_priors()\n",
    "answer = [KC_C, True]\n",
    "\n",
    "print(\"Results from a succeeded exercise done on KC C:\\n\")\n",
    "print(\"The knowledge state before doing the exercise is: \",priors)\n",
    "knowledge_state = learner.predict_next_step(priors, evaluation=answer, pred_mode='one_kc')\n",
    "#knowledge_state = learner.predict_next_step(knowledge_state, evaluation=None, pred_mode='all')\n",
    "print(\"The knowledge state after the exercise is: \",knowledge_state)"
   ]
  },
  {
   "cell_type": "code",
   "execution_count": null,
   "id": "2cb0281d",
   "metadata": {},
   "outputs": [],
   "source": [
    "learner = Learner(1, learner_pool)\n",
    "priors = learner.get_priors()\n",
    "answer = [KC_C, False]\n",
    "\n",
    "print(\"Results from an unsuccueeded exercise done on KC C:\\n\")\n",
    "print(\"The knowledge state before doing the exercise is: \",priors)\n",
    "knowledge_state = learner.predict_next_step(priors, evaluation=answer, pred_mode='one_kc')\n",
    "#knowledge_state = learner.predict_next_step(knowledge_state, evaluation=None, pred_mode='all')\n",
    "print(\"The knowledge state after the exercise is: \",knowledge_state)"
   ]
  }
 ],
 "metadata": {
  "kernelspec": {
   "display_name": "Python 3",
   "language": "python",
   "name": "python3"
  },
  "language_info": {
   "codemirror_mode": {
    "name": "ipython",
    "version": 3
   },
   "file_extension": ".py",
   "mimetype": "text/x-python",
   "name": "python",
   "nbconvert_exporter": "python",
   "pygments_lexer": "ipython3",
   "version": "3.9.2"
  }
 },
 "nbformat": 4,
 "nbformat_minor": 5
}
