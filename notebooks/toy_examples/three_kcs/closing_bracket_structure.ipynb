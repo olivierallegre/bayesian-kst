{
 "cells": [
  {
   "cell_type": "markdown",
   "id": "c44b33b2",
   "metadata": {},
   "source": [
    "# Impact of KCs parents on the KC mastery  \n",
    "In this notebook we will study a toy example of a 3 KCs domain knowledge model. The purpose of this example is to understand the impact parents have on their children.\n",
    "\n",
    "## Domain knowledge model\n",
    "We denote A, B and C the three studied KCs and we will suppose they are related with two prerequisite links A -> C and B -> C."
   ]
  },
  {
   "cell_type": "code",
   "execution_count": 1,
   "id": "d360fca6",
   "metadata": {},
   "outputs": [],
   "source": [
    "import sys\n",
    "sys.path.append(\"/Users/olivier/PycharmProjects/bayesian-kst/\")  # for mac\n",
    "sys.path.append(\"/home/olivier/PycharmProjects/bayesian-kst/\")  # for ubuntu\n",
    "\n",
    "from kgraph.expert_layer.domain import Domain\n",
    "from kgraph.expert_layer.knowledge_components import KnowledgeComponent\n",
    "from kgraph.expert_layer.link import Link\n",
    "from kgraph.resources_layer.exercise import Exercise\n",
    "from kgraph.learner_layer.answer import LearnerAnswer\n",
    "from kgraph.learner_layer.learner import Learner\n",
    "from kgraph.learner_layer.learner_pool import LearnerPool\n",
    "from kgraph.helpers.truthtable import truthtable\n",
    "import pyAgrum as gum\n",
    "import pyAgrum.lib.notebook as gnb\n",
    "import pyAgrum.lib.dynamicBN as gdyn\n",
    "import random\n",
    "import itertools\n",
    "import numpy as np\n",
    "from sklearn.metrics import roc_auc_score\n",
    "\n",
    "KC_A = KnowledgeComponent(1, \"A\")\n",
    "KC_B = KnowledgeComponent(2, \"B\")\n",
    "KC_C = KnowledgeComponent(3, \"C\")\n",
    "\n",
    "A_2_C = Link(source=KC_A, target=KC_C)\n",
    "B_2_C = Link(source=KC_B, target=KC_C)\n",
    "\n",
    "domain = Domain([KC_A, KC_B, KC_C], [A_2_C, B_2_C])\n",
    "\n",
    "params = {\"slip\": .01, \"guess\":.01}\n",
    "priors = {'A': 0.1, 'B': 0.1, 'C': 0.1}\n",
    "# there are 5 exercises corresponding to KC A\n",
    "ex_1 = Exercise(1, KC_A, \"qcm\", ex_content=\"\", params=params)\n",
    "ex_2 = Exercise(2, KC_B, \"qcm\", ex_content=\"\", params=params)\n",
    "ex_3 = Exercise(3, KC_C, \"qcm\", ex_content=\"\", params=params)"
   ]
  },
  {
   "cell_type": "markdown",
   "id": "b79e5fdc",
   "metadata": {},
   "source": [
    "## Learner knowledge model\n",
    "### No prerequisite links\n",
    "In a first place, in order to differenciate the effect of evaluations and the impact of the prerequisite links, we study how the model behave to learner traces when we don't declare any prerequisite links."
   ]
  },
  {
   "cell_type": "code",
   "execution_count": 2,
   "id": "f025d88b",
   "metadata": {},
   "outputs": [],
   "source": [
    "prereqs = {KC_A: {KC_C: 'not existing'}, \n",
    "           KC_B: {KC_C: 'not existing'}, \n",
    "           KC_C: {KC_A: 'not existing', KC_B:'not existing'}}\n",
    "learner_pool = LearnerPool(domain, prereqs)\n"
   ]
  },
  {
   "cell_type": "code",
   "execution_count": 3,
   "id": "8c00f3ea",
   "metadata": {},
   "outputs": [
    {
     "name": "stdout",
     "output_type": "stream",
     "text": [
      "Results from a succeeded exercise done on KC A:\n",
      "\n",
      "The knowledge state before doing the exercise is:  {'A': 0.1, 'B': 0.1, 'C': 0.1}\n",
      "{'(A)t': [0.1, 0.9]}\n",
      "The knowledge state after the exercise is:  {'A': 0.6713709677419355, 'B': 0.095, 'C': 0.095, 'eval(A)': 0.6370967741935484, 'eval(B)': 0.17600000000000002, 'eval(C)': 0.17600000000000002}\n"
     ]
    }
   ],
   "source": [
    "learner = Learner(1, learner_pool)\n",
    "answer = [KC_A, True]\n",
    "\n",
    "print(\"Results from a succeeded exercise done on KC A:\\n\")\n",
    "print(\"The knowledge state before doing the exercise is: \",priors)\n",
    "knowledge_state = learner.predict_next_step(priors, evaluation=answer, pred_mode='one_kc')\n",
    "#knowledge_state = learner.predict_next_step(knowledge_state, evaluation=None, pred_mode='all')\n",
    "print(\"The knowledge state after the exercise is: \",knowledge_state)"
   ]
  },
  {
   "cell_type": "code",
   "execution_count": 4,
   "id": "4babc679",
   "metadata": {},
   "outputs": [
    {
     "name": "stdout",
     "output_type": "stream",
     "text": [
      "Results from an unsuccueeded exercise done on KC A:\n",
      "\n",
      "The knowledge state before doing the exercise is:  {'A': 0.1, 'B': 0.1, 'C': 0.1}\n",
      "{'(A)t': [0.9, 0.1]}\n",
      "The knowledge state after the exercise is:  {'A': 0.02460106382978723, 'B': 0.095, 'C': 0.095, 'eval(A)': 0.11968085106382981, 'eval(B)': 0.17600000000000002, 'eval(C)': 0.17600000000000002}\n"
     ]
    }
   ],
   "source": [
    "learner = Learner(1, learner_pool)\n",
    "answer = [KC_A, False]\n",
    "\n",
    "print(\"Results from an unsuccueeded exercise done on KC A:\\n\")\n",
    "print(\"The knowledge state before doing the exercise is: \",priors)\n",
    "knowledge_state = learner.predict_next_step(priors, evaluation=answer, pred_mode='one_kc')\n",
    "#knowledge_state = learner.predict_next_step(knowledge_state, evaluation=None, pred_mode='all')\n",
    "print(\"The knowledge state after the exercise is: \",knowledge_state)"
   ]
  },
  {
   "cell_type": "code",
   "execution_count": 5,
   "id": "501d7611",
   "metadata": {},
   "outputs": [
    {
     "name": "stdout",
     "output_type": "stream",
     "text": [
      "Results from a succeeded exercise done on KC B:\n",
      "\n",
      "The knowledge state before doing the exercise is:  {'A': 0.1, 'B': 0.1, 'C': 0.1}\n",
      "{'(B)t': [0.1, 0.9]}\n",
      "The knowledge state after the exercise is:  {'A': 0.095, 'B': 0.6713709677419355, 'C': 0.095, 'eval(A)': 0.17600000000000002, 'eval(B)': 0.6370967741935484, 'eval(C)': 0.17600000000000002}\n"
     ]
    }
   ],
   "source": [
    "learner = Learner(1, learner_pool)\n",
    "answer = [KC_B, True]\n",
    "\n",
    "print(\"Results from a succeeded exercise done on KC B:\\n\")\n",
    "print(\"The knowledge state before doing the exercise is: \",priors)\n",
    "knowledge_state = learner.predict_next_step(priors, evaluation=answer, pred_mode='one_kc')\n",
    "#knowledge_state = learner.predict_next_step(knowledge_state, evaluation=None, pred_mode='all')\n",
    "print(\"The knowledge state after the exercise is: \",knowledge_state)"
   ]
  },
  {
   "cell_type": "code",
   "execution_count": 6,
   "id": "9047fdc6",
   "metadata": {},
   "outputs": [
    {
     "name": "stdout",
     "output_type": "stream",
     "text": [
      "Results from an unsuccueeded exercise done on KC B:\n",
      "\n",
      "The knowledge state before doing the exercise is:  {'A': 0.1, 'B': 0.1, 'C': 0.1}\n",
      "{'(B)t': [0.9, 0.1]}\n",
      "The knowledge state after the exercise is:  {'A': 0.095, 'B': 0.02460106382978723, 'C': 0.095, 'eval(A)': 0.17600000000000002, 'eval(B)': 0.11968085106382981, 'eval(C)': 0.17600000000000002}\n"
     ]
    }
   ],
   "source": [
    "learner = Learner(1, learner_pool)\n",
    "answer = [KC_B, False]\n",
    "\n",
    "print(\"Results from an unsuccueeded exercise done on KC B:\\n\")\n",
    "print(\"The knowledge state before doing the exercise is: \",priors)\n",
    "knowledge_state = learner.predict_next_step(priors, evaluation=answer, pred_mode='one_kc')\n",
    "#knowledge_state = learner.predict_next_step(knowledge_state, evaluation=None, pred_mode='all')\n",
    "print(\"The knowledge state after the exercise is: \",knowledge_state)"
   ]
  },
  {
   "cell_type": "code",
   "execution_count": 7,
   "id": "74abbdf7",
   "metadata": {},
   "outputs": [
    {
     "name": "stdout",
     "output_type": "stream",
     "text": [
      "Results from a succeeded exercise done on KC C:\n",
      "\n",
      "The knowledge state before doing the exercise is:  {'A': 0.1, 'B': 0.1, 'C': 0.1}\n",
      "{'(C)t': [0.1, 0.9]}\n",
      "The knowledge state after the exercise is:  {'A': 0.095, 'B': 0.095, 'C': 0.6713709677419355, 'eval(A)': 0.17600000000000002, 'eval(B)': 0.17600000000000002, 'eval(C)': 0.6370967741935484}\n"
     ]
    }
   ],
   "source": [
    "learner = Learner(1, learner_pool)\n",
    "answer = [KC_C, True]\n",
    "\n",
    "print(\"Results from a succeeded exercise done on KC C:\\n\")\n",
    "print(\"The knowledge state before doing the exercise is: \",priors)\n",
    "knowledge_state = learner.predict_next_step(priors, evaluation=answer, pred_mode='one_kc')\n",
    "#knowledge_state = learner.predict_next_step(knowledge_state, evaluation=None, pred_mode='all')\n",
    "print(\"The knowledge state after the exercise is: \",knowledge_state)"
   ]
  },
  {
   "cell_type": "code",
   "execution_count": 8,
   "id": "8629b5d8",
   "metadata": {},
   "outputs": [
    {
     "name": "stdout",
     "output_type": "stream",
     "text": [
      "Results from an unsuccueeded exercise done on KC C:\n",
      "\n",
      "The knowledge state before doing the exercise is:  {'A': 0.1, 'B': 0.1, 'C': 0.1}\n",
      "{'(C)t': [0.9, 0.1]}\n",
      "The knowledge state after the exercise is:  {'A': 0.095, 'B': 0.095, 'C': 0.02460106382978723, 'eval(A)': 0.17600000000000002, 'eval(B)': 0.17600000000000002, 'eval(C)': 0.11968085106382981}\n"
     ]
    }
   ],
   "source": [
    "learner = Learner(1, learner_pool)\n",
    "answer = [KC_C, False]\n",
    "\n",
    "print(\"Results from an unsuccueeded exercise done on KC C:\\n\")\n",
    "print(\"The knowledge state before doing the exercise is: \",priors)\n",
    "knowledge_state = learner.predict_next_step(priors, evaluation=answer, pred_mode='one_kc')\n",
    "#knowledge_state = learner.predict_next_step(knowledge_state, evaluation=None, pred_mode='all')\n",
    "print(\"The knowledge state after the exercise is: \",knowledge_state)"
   ]
  },
  {
   "cell_type": "markdown",
   "id": "5fd47017",
   "metadata": {},
   "source": [
    "### Existing prerequisite link structure\n",
    "Now we study the impact of the prerequisite links, we study how the model behave to learner traces when we don't declare any prerequisite links."
   ]
  },
  {
   "cell_type": "code",
   "execution_count": 9,
   "id": "5e9a2e2b",
   "metadata": {},
   "outputs": [],
   "source": [
    "prereqs = {KC_A: {KC_C: 'strong'}, \n",
    "           KC_B: {KC_C: 'weak'}, \n",
    "           KC_C: {KC_A: 'strong', KC_B:'weak'}}\n",
    "learner_pool = LearnerPool(domain, prereqs)"
   ]
  },
  {
   "cell_type": "code",
   "execution_count": 10,
   "id": "ed410920",
   "metadata": {},
   "outputs": [
    {
     "name": "stdout",
     "output_type": "stream",
     "text": [
      "Results from a succeeded exercise done on KC A:\n",
      "\n",
      "The knowledge state before doing the exercise is:  {'A': 0.1, 'B': 0.1, 'C': 0.1}\n",
      "{'(A)t': [0.1, 0.9]}\n",
      "The knowledge state after the exercise is:  {'A': 0.7545826064372156, 'B': 0.3282591906975911, 'C': 0.2673426871901829, 'eval(A)': 0.7036660851497724, 'eval(B)': 0.36260735255807286, 'eval(C)': 0.31387414975214634}\n"
     ]
    }
   ],
   "source": [
    "learner = Learner(1, learner_pool)\n",
    "answer = [KC_A, True]\n",
    "\n",
    "print(\"Results from a succeeded exercise done on KC A:\\n\")\n",
    "print(\"The knowledge state before doing the exercise is: \",priors)\n",
    "knowledge_state = learner.predict_next_step(priors, evaluation=answer, pred_mode='one_kc')\n",
    "#knowledge_state = learner.predict_next_step(knowledge_state, evaluation=None, pred_mode='all')\n",
    "print(\"The knowledge state after the exercise is: \",knowledge_state)"
   ]
  },
  {
   "cell_type": "code",
   "execution_count": 11,
   "id": "7e352fc5",
   "metadata": {},
   "outputs": [
    {
     "name": "stdout",
     "output_type": "stream",
     "text": [
      "Results from an unsuccueeded exercise done on KC A:\n",
      "\n",
      "The knowledge state before doing the exercise is:  {'A': 0.1, 'B': 0.1, 'C': 0.1}\n",
      "{'(A)t': [0.9, 0.1]}\n",
      "The knowledge state after the exercise is:  {'A': 0.03657094409248947, 'B': 0.19776786724745268, 'C': 0.024798041346535984, 'eval(A)': 0.12925675527399158, 'eval(B)': 0.2582142937979621, 'eval(C)': 0.11983843307722879}\n"
     ]
    }
   ],
   "source": [
    "learner = Learner(1, learner_pool)\n",
    "answer = [KC_A, False]\n",
    "\n",
    "print(\"Results from an unsuccueeded exercise done on KC A:\\n\")\n",
    "print(\"The knowledge state before doing the exercise is: \",priors)\n",
    "knowledge_state = learner.predict_next_step(priors, evaluation=answer, pred_mode='one_kc')\n",
    "#knowledge_state = learner.predict_next_step(knowledge_state, evaluation=None, pred_mode='all')\n",
    "print(\"The knowledge state after the exercise is: \",knowledge_state)"
   ]
  },
  {
   "cell_type": "code",
   "execution_count": 12,
   "id": "b3e6fdd1",
   "metadata": {},
   "outputs": [
    {
     "name": "stdout",
     "output_type": "stream",
     "text": [
      "Results from a succeeded exercise done on KC B:\n",
      "\n",
      "The knowledge state before doing the exercise is:  {'A': 0.1, 'B': 0.1, 'C': 0.1}\n",
      "{'(B)t': [0.1, 0.9]}\n",
      "The knowledge state after the exercise is:  {'A': 0.17559849281206485, 'B': 0.7779196028835986, 'C': 0.059607158058054034, 'eval(A)': 0.24047879424965185, 'eval(B)': 0.722335682306879, 'eval(C)': 0.14768572644644323}\n"
     ]
    }
   ],
   "source": [
    "learner = Learner(1, learner_pool)\n",
    "answer = [KC_B, True]\n",
    "\n",
    "print(\"Results from a succeeded exercise done on KC B:\\n\")\n",
    "print(\"The knowledge state before doing the exercise is: \",priors)\n",
    "knowledge_state = learner.predict_next_step(knowledge_state, evaluation=answer, pred_mode='one_kc')\n",
    "#knowledge_state = learner.predict_next_step(knowledge_state, evaluation=None, pred_mode='all')\n",
    "print(\"The knowledge state after the exercise is: \",knowledge_state)"
   ]
  },
  {
   "cell_type": "code",
   "execution_count": 13,
   "id": "fc769ced",
   "metadata": {},
   "outputs": [
    {
     "name": "stdout",
     "output_type": "stream",
     "text": [
      "Results from an unsuccueeded exercise done on KC B:\n",
      "\n",
      "The knowledge state before doing the exercise is:  {'A': 0.1, 'B': 0.1, 'C': 0.1}\n",
      "{'(B)t': [0.9, 0.1]}\n",
      "The knowledge state after the exercise is:  {'A': 0.21577735274293053, 'B': 0.0334327767756533, 'C': 0.04401072771568357, 'eval(A)': 0.2726218821943444, 'eval(B)': 0.1267462214205227, 'eval(C)': 0.1352085821725468}\n"
     ]
    }
   ],
   "source": [
    "learner = Learner(1, learner_pool)\n",
    "answer = [KC_B, False]\n",
    "\n",
    "print(\"Results from an unsuccueeded exercise done on KC B:\\n\")\n",
    "print(\"The knowledge state before doing the exercise is: \",priors)\n",
    "knowledge_state = learner.predict_next_step(priors, evaluation=answer, pred_mode='one_kc')\n",
    "#knowledge_state = learner.predict_next_step(knowledge_state, evaluation=None, pred_mode='all')\n",
    "print(\"The knowledge state after the exercise is: \",knowledge_state)"
   ]
  },
  {
   "cell_type": "code",
   "execution_count": 14,
   "id": "13060107",
   "metadata": {},
   "outputs": [
    {
     "name": "stdout",
     "output_type": "stream",
     "text": [
      "Results from a succeeded exercise done on KC C:\n",
      "\n",
      "The knowledge state before doing the exercise is:  {'A': 0.1, 'B': 0.1, 'C': 0.1}\n",
      "{'(C)t': [0.1, 0.9]}\n",
      "The knowledge state after the exercise is:  {'A': 0.49607673828783805, 'B': 0.4082221821643873, 'C': 0.495697317716185, 'eval(A)': 0.4968613906302704, 'eval(B)': 0.42657774573150986, 'eval(C)': 0.49655785417294795}\n"
     ]
    }
   ],
   "source": [
    "learner = Learner(1, learner_pool)\n",
    "answer = [KC_C, True]\n",
    "\n",
    "print(\"Results from a succeeded exercise done on KC C:\\n\")\n",
    "print(\"The knowledge state before doing the exercise is: \",priors)\n",
    "knowledge_state = learner.predict_next_step(priors, evaluation=answer, pred_mode='one_kc')\n",
    "#knowledge_state = learner.predict_next_step(knowledge_state, evaluation=None, pred_mode='all')\n",
    "print(\"The knowledge state after the exercise is: \",knowledge_state)"
   ]
  },
  {
   "cell_type": "code",
   "execution_count": 15,
   "id": "2cb0281d",
   "metadata": {},
   "outputs": [
    {
     "name": "stdout",
     "output_type": "stream",
     "text": [
      "Results from an unsuccueeded exercise done on KC C:\n",
      "\n",
      "The knowledge state before doing the exercise is:  {'A': 0.1, 'B': 0.1, 'C': 0.1}\n",
      "{'(C)t': [0.9, 0.1]}\n",
      "The knowledge state after the exercise is:  {'A': 0.10309030245703188, 'B': 0.10125686210951443, 'C': 0.01198952072785394, 'eval(A)': 0.1824722419656255, 'eval(B)': 0.18100548968761154, 'eval(C)': 0.10959161658228316}\n"
     ]
    }
   ],
   "source": [
    "learner = Learner(1, learner_pool)\n",
    "answer = [KC_C, False]\n",
    "\n",
    "print(\"Results from an unsuccueeded exercise done on KC C:\\n\")\n",
    "print(\"The knowledge state before doing the exercise is: \",priors)\n",
    "knowledge_state = learner.predict_next_step(priors, evaluation=answer, pred_mode='one_kc')\n",
    "#knowledge_state = learner.predict_next_step(knowledge_state, evaluation=None, pred_mode='all')\n",
    "print(\"The knowledge state after the exercise is: \",knowledge_state)"
   ]
  }
 ],
 "metadata": {
  "kernelspec": {
   "display_name": "Python 3",
   "language": "python",
   "name": "python3"
  },
  "language_info": {
   "codemirror_mode": {
    "name": "ipython",
    "version": 3
   },
   "file_extension": ".py",
   "mimetype": "text/x-python",
   "name": "python",
   "nbconvert_exporter": "python",
   "pygments_lexer": "ipython3",
   "version": "3.9.2"
  }
 },
 "nbformat": 4,
 "nbformat_minor": 5
}
