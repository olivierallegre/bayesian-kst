{
 "cells": [
  {
   "cell_type": "markdown",
   "id": "a58b39c3",
   "metadata": {},
   "source": [
    "# Notebook: 5 KCs toy example"
   ]
  },
  {
   "cell_type": "markdown",
   "id": "9213f199",
   "metadata": {},
   "source": [
    "## Package import"
   ]
  },
  {
   "cell_type": "code",
   "execution_count": 1,
   "id": "c7f7bc2b",
   "metadata": {},
   "outputs": [],
   "source": [
    "import sys\n",
    "sys.path.append(\"/Users/olivier/PycharmProjects/bayesian-kst/\")  # for mac\n",
    "sys.path.append(\"/home/olivier/PycharmProjects/bayesian-kst/\")  # for ubuntu\n",
    "\n",
    "from kgraph.expert_layer.domain import Domain\n",
    "from kgraph.expert_layer.knowledge_components import KnowledgeComponent\n",
    "from kgraph.expert_layer.link import Link\n",
    "from kgraph.resources_layer.exercise import Exercise\n",
    "from kgraph.resources_layer.exercise_family import ExerciseFamily\n",
    "from kgraph.learner_layer.answer import LearnerAnswer\n",
    "from kgraph.learner_layer.learner import Learner\n",
    "from kgraph.learner_layer.learner_pool import LearnerPool\n",
    "from kgraph.helpers.truthtable import truthtable\n",
    "import pyAgrum as gum\n",
    "import pyAgrum.lib.notebook as gnb\n",
    "import pyAgrum.lib.dynamicBN as gdyn\n",
    "import random\n",
    "import itertools\n",
    "import numpy as np\n",
    "from sklearn.metrics import roc_auc_score\n"
   ]
  },
  {
   "cell_type": "markdown",
   "id": "parliamentary-offense",
   "metadata": {},
   "source": [
    "## Domain knowledge model\n",
    "We define a set of 5 KCs (A, B, C, D and E) and the relationships that rule them ($A \\longrightarrow C$, $B \\longrightarrow C$, $C \\longrightarrow D$, $C \\longrightarrow E$). We suppose that the prerequisites $A \\longrightarrow C$ and $C \\longrightarrow D$ are strong while $B \\longrightarrow C$ and $C \\longrightarrow E$ are weak. Figure \\ref{fig:symbolic_model_5_kcs} represents the domain knowledge model of this 5 KCs example."
   ]
  },
  {
   "cell_type": "code",
   "execution_count": 2,
   "id": "d7cc288e",
   "metadata": {},
   "outputs": [],
   "source": [
    "# we define the KCs\n",
    "KC_A = KnowledgeComponent(1, \"A\")\n",
    "KC_B = KnowledgeComponent(2, \"B\")\n",
    "KC_C = KnowledgeComponent(3, \"C\")\n",
    "KC_D = KnowledgeComponent(4, \"D\")\n",
    "KC_E = KnowledgeComponent(5, \"E\")\n",
    "\n",
    "A_2_C = Link(source=KC_A, target=KC_C)\n",
    "B_2_C = Link(source=KC_B, target=KC_C)\n",
    "C_2_D = Link(source=KC_C, target=KC_D)\n",
    "C_2_E = Link(source=KC_C, target=KC_E)\n",
    "\n",
    "domain = Domain([KC_A, KC_B, KC_C, KC_D, KC_E], [A_2_C, B_2_C, C_2_D, C_2_E])\n",
    "\n",
    "params = {\"slip\": .01, \"guess\":.01}\n",
    "\n",
    "# there are 5 exercises corresponding to KC A\n",
    "ex_1 = Exercise(1, KC_A, \"qcm\", ex_content=\"\", params=params)\n",
    "ef_1 = ExerciseFamily(1, \"ex fam 1\", kc=KC_A, exercise_list=[ex_1])\n",
    "ex_2 = Exercise(2, KC_B, \"qcm\", ex_content=\"\", params=params)\n",
    "ef_2 = ExerciseFamily(2, \"ex fam 2\", kc=KC_B, exercise_list=[ex_2])\n",
    "ex_3 = Exercise(3, KC_C, \"qcm\", ex_content=\"\", params=params)\n",
    "ef_3 = ExerciseFamily(3, \"ex fam 3\", kc=KC_C, exercise_list=[ex_3])\n",
    "ex_4 = Exercise(4, KC_D, \"qcm\", ex_content=\"\", params=params)\n",
    "ef_4 = ExerciseFamily(4, \"ex fam 4\", kc=KC_D, exercise_list=[ex_4])\n",
    "ex_5 = Exercise(5, KC_E, \"qcm\", ex_content=\"\", params=params)\n",
    "ef_5 = ExerciseFamily(5, \"ex fam 5\", kc=KC_E, exercise_list=[ex_5])\n",
    "\n",
    "link_strengths = {KC_A:{KC_C: 'strong'}, KC_B:{KC_C: 'weak'}, KC_C: {\n",
    "    KC_A: 'strong', KC_B: 'weak', KC_D: 'strong', KC_E: 'weak'}, KC_D:{KC_C: 'strong'}, KC_E:{KC_C: 'weak'}}\n",
    "\n",
    "learner_pool = LearnerPool(domain, link_strengths)\n",
    "\n",
    "for kc in learner_pool.get_knowledge_components():\n",
    "    learner_pool.set_learn(kc, .1)\n",
    "    learner_pool.set_prior(kc, .1)\n",
    "    learner_pool.set_slip(kc, .1)\n",
    "    learner_pool.set_guess(kc, .25)\n",
    "    learner_pool.set_forget(kc, 0)"
   ]
  },
  {
   "cell_type": "markdown",
   "id": "0fdd4f28",
   "metadata": {},
   "source": [
    "## Use case 1: learner lacking of prerequisite mastering\n",
    "Let define a learner $L_0$ as following: we suppose $L_0$ greatly masters KC $A$ but because he doesn't master KC $B$, he can't correctly answer to exercises on KC $C$ and, therefore, on KC $D$ and $E$ neither."
   ]
  },
  {
   "cell_type": "code",
   "execution_count": 3,
   "id": "4a4ece7e",
   "metadata": {},
   "outputs": [
    {
     "name": "stdout",
     "output_type": "stream",
     "text": [
      "{'A': 0.6290655221426382, 'B': 0.34519582090800144, 'C': 0.38919971572698636, 'D': 0.15621080794849643, 'E': 0.14266603494885874, 'eval(A)': 0.6588925893927149, 'eval(B)': 0.4743772835902009, 'eval(C)': 0.5029798152225412, 'eval(D)': 0.3515370251665227, 'eval(E)': 0.3427329227167582}\n"
     ]
    }
   ],
   "source": [
    "learner = Learner(1, None)\n",
    "learner_pool.add_learner(learner)\n",
    "priors = learner.get_priors()\n",
    "\n",
    "knowledge_state = learner.predict_next_step(priors, evaluation=[KC_A, True], pred_mode='one_kc')\n",
    "print(knowledge_state)"
   ]
  },
  {
   "cell_type": "code",
   "execution_count": 4,
   "id": "3ac340a2",
   "metadata": {},
   "outputs": [
    {
     "name": "stdout",
     "output_type": "stream",
     "text": [
      "{'A': 0.7404120719900182, 'B': 0.1521183075937299, 'C': 0.3335316507485333, 'D': 0.10633703241854849, 'E': 0.10850215201226064, 'eval(A)': 0.7312678467935119, 'eval(B)': 0.3488768999359244, 'eval(C)': 0.46679557298654656, 'eval(D)': 0.31911907107205645, 'eval(E)': 0.32052639880796946}\n"
     ]
    }
   ],
   "source": [
    "knowledge_state = learner.predict_next_step(knowledge_state, evaluation=[KC_B, False], pred_mode='one_kc')\n",
    "print(knowledge_state)"
   ]
  },
  {
   "cell_type": "code",
   "execution_count": 5,
   "id": "4bee1323",
   "metadata": {},
   "outputs": [
    {
     "name": "stdout",
     "output_type": "stream",
     "text": [
      "{'A': 0.7561314697309712, 'B': 0.19472664917168125, 'C': 0.08426922268628156, 'D': 0.03032696940085968, 'E': 0.050178226377396676, 'eval(A)': 0.7414854553251312, 'eval(B)': 0.37657232196159285, 'eval(C)': 0.304774994746083, 'eval(D)': 0.26971253011055885, 'eval(E)': 0.28261584714530785}\n"
     ]
    }
   ],
   "source": [
    "knowledge_state = learner.predict_next_step(knowledge_state, evaluation=[KC_C, False], pred_mode='one_kc')\n",
    "print(knowledge_state)"
   ]
  },
  {
   "cell_type": "code",
   "execution_count": 6,
   "id": "5ca14d64",
   "metadata": {},
   "outputs": [
    {
     "name": "stdout",
     "output_type": "stream",
     "text": [
      "{'A': 0.7558563362470011, 'B': 0.19625020648260139, 'C': 0.020700783434930748, 'D': 0.006805073698701935, 'E': 0.02049239309658017, 'eval(A)': 0.7413066185605508, 'eval(B)': 0.37756263421369096, 'eval(C)': 0.263455509232705, 'eval(D)': 0.25442329790415624, 'eval(E)': 0.26332005551277715}\n"
     ]
    }
   ],
   "source": [
    "knowledge_state = learner.predict_next_step(knowledge_state, evaluation=[KC_C, False], pred_mode='one_kc')\n",
    "print(knowledge_state)"
   ]
  },
  {
   "cell_type": "markdown",
   "id": "8278ddf2",
   "metadata": {},
   "source": [
    "## Use case 2: learner already mastering the most advanced KCs\n",
    "Let define another learner $L_2$ as following: we suppose $L_1$ has already studied the domain knowledge and therefore greatly masters every KCs but KC $E$ he hasn't studied yet."
   ]
  },
  {
   "cell_type": "code",
   "execution_count": 7,
   "id": "dea8b88d",
   "metadata": {},
   "outputs": [
    {
     "name": "stdout",
     "output_type": "stream",
     "text": [
      "{'A': 0.4940130432260898, 'B': 0.40685083623620877, 'C': 0.4871761869969719, 'D': 0.1904108768445694, 'E': 0.16853388248370393, 'eval(A)': 0.5711084780969584, 'eval(B)': 0.5144530435535357, 'eval(C)': 0.5666645215480317, 'eval(D)': 0.37376706994897013, 'eval(E)': 0.35954702361440755}\n"
     ]
    }
   ],
   "source": [
    "learner = Learner(2, None)\n",
    "learner_pool.add_learner(learner)\n",
    "priors = learner.get_priors()\n",
    "\n",
    "knowledge_state = learner.predict_next_step(priors, evaluation=[KC_C, True], pred_mode='one_kc')\n",
    "print(knowledge_state)"
   ]
  },
  {
   "cell_type": "code",
   "execution_count": 8,
   "id": "a30b3fe8",
   "metadata": {},
   "outputs": [
    {
     "name": "stdout",
     "output_type": "stream",
     "text": [
      "{'A': 0.740187531926506, 'B': 0.6313026792255861, 'C': 0.5405815426767001, 'D': 0.03275546394716906, 'E': 0.16853388248370393, 'eval(A)': 0.7311218957522289, 'eval(B)': 0.660346741496631, 'eval(C)': 0.6013780027398551, 'eval(D)': 0.2712910515656599, 'eval(E)': 0.35954702361440755}\n"
     ]
    }
   ],
   "source": [
    "knowledge_state = learner.predict_next_step(knowledge_state, evaluation=[KC_D, False], pred_mode='one_kc')\n",
    "print(knowledge_state)"
   ]
  },
  {
   "cell_type": "code",
   "execution_count": 9,
   "id": "deb3094d",
   "metadata": {},
   "outputs": [
    {
     "name": "stdout",
     "output_type": "stream",
     "text": [
      "{'A': 0.8670312493404424, 'B': 0.771304758332246, 'C': 0.5424584310303202, 'D': 0.03275546394716906, 'E': 0.030087924825804604, 'eval(A)': 0.8135703120712876, 'eval(B)': 0.7513480929159599, 'eval(C)': 0.6025979801697081, 'eval(D)': 0.2712910515656599, 'eval(E)': 0.2695571511367729}\n"
     ]
    }
   ],
   "source": [
    "knowledge_state = learner.predict_next_step(knowledge_state, evaluation=[KC_E, False], pred_mode='one_kc')\n",
    "print(knowledge_state)"
   ]
  }
 ],
 "metadata": {
  "kernelspec": {
   "display_name": "Python 3",
   "language": "python",
   "name": "python3"
  },
  "language_info": {
   "codemirror_mode": {
    "name": "ipython",
    "version": 3
   },
   "file_extension": ".py",
   "mimetype": "text/x-python",
   "name": "python",
   "nbconvert_exporter": "python",
   "pygments_lexer": "ipython3",
   "version": "3.9.2"
  }
 },
 "nbformat": 4,
 "nbformat_minor": 5
}
