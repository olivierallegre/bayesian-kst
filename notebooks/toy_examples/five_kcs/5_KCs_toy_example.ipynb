{
 "cells": [
  {
   "cell_type": "markdown",
   "id": "a58b39c3",
   "metadata": {},
   "source": [
    "# Notebook: 5 KCs toy example"
   ]
  },
  {
   "cell_type": "markdown",
   "id": "9213f199",
   "metadata": {},
   "source": [
    "## Package import"
   ]
  },
  {
   "cell_type": "code",
   "execution_count": 1,
   "id": "c7f7bc2b",
   "metadata": {},
   "outputs": [],
   "source": [
    "import sys\n",
    "sys.path.append(\"/Users/olivier/PycharmProjects/bayesian-kst/\")  # for mac\n",
    "sys.path.append(\"/home/olivier/PycharmProjects/bayesian-kst/\")  # for ubuntu\n",
    "\n",
    "from kgraph.expert_layer.domain import Domain\n",
    "from kgraph.expert_layer.knowledge_components import KnowledgeComponent\n",
    "from kgraph.expert_layer.link import Link\n",
    "from kgraph.resources_layer.exercise import Exercise\n",
    "from kgraph.resources_layer.exercise_family import ExerciseFamily\n",
    "from kgraph.learner_layer.answer import LearnerAnswer\n",
    "from kgraph.learner_layer.learner import Learner\n",
    "from kgraph.learner_layer.evaluation import Evaluation\n",
    "from kgraph.learner_layer.learner_pool import LearnerPool\n",
    "from kgraph.helpers.truthtable import truthtable\n",
    "import pyAgrum as gum\n",
    "import pyAgrum.lib.notebook as gnb\n",
    "import pyAgrum.lib.dynamicBN as gdyn\n",
    "import random\n",
    "import itertools\n",
    "import numpy as np\n",
    "from sklearn.metrics import roc_auc_score\n"
   ]
  },
  {
   "cell_type": "markdown",
   "id": "parliamentary-offense",
   "metadata": {},
   "source": [
    "## Domain knowledge model\n",
    "We define a set of 5 KCs (A, B, C, D and E) and the relationships that rule them ($A \\longrightarrow C$, $B \\longrightarrow C$, $C \\longrightarrow D$, $C \\longrightarrow E$). We suppose that the prerequisites $A \\longrightarrow C$ and $C \\longrightarrow D$ are strong while $B \\longrightarrow C$ and $C \\longrightarrow E$ are weak. Figure \\ref{fig:symbolic_model_5_kcs} represents the domain knowledge model of this 5 KCs example."
   ]
  },
  {
   "cell_type": "code",
   "execution_count": 2,
   "id": "d7cc288e",
   "metadata": {},
   "outputs": [],
   "source": [
    "# we define the KCs\n",
    "KC_A = KnowledgeComponent(1, \"A\")\n",
    "KC_B = KnowledgeComponent(2, \"B\")\n",
    "KC_C = KnowledgeComponent(3, \"C\")\n",
    "KC_D = KnowledgeComponent(4, \"D\")\n",
    "KC_E = KnowledgeComponent(5, \"E\")\n",
    "\n",
    "A_2_C = Link(source=KC_A, target=KC_C)\n",
    "B_2_C = Link(source=KC_B, target=KC_C)\n",
    "C_2_D = Link(source=KC_C, target=KC_D)\n",
    "C_2_E = Link(source=KC_C, target=KC_E)\n",
    "\n",
    "domain = Domain([KC_A, KC_B, KC_C, KC_D, KC_E], [A_2_C, B_2_C, C_2_D, C_2_E])\n",
    "\n",
    "params = {\"slip\": .01, \"guess\":.01}\n",
    "\n",
    "# there are 5 exercises corresponding to KC A\n",
    "ex_1 = Exercise(1, KC_A, \"qcm\", ex_content=\"\", params=params)\n",
    "ef_1 = ExerciseFamily(1, \"ex fam 1\", kc=KC_A, exercise_list=[ex_1])\n",
    "ex_2 = Exercise(2, KC_B, \"qcm\", ex_content=\"\", params=params)\n",
    "ef_2 = ExerciseFamily(2, \"ex fam 2\", kc=KC_B, exercise_list=[ex_2])\n",
    "ex_3 = Exercise(3, KC_C, \"qcm\", ex_content=\"\", params=params)\n",
    "ef_3 = ExerciseFamily(3, \"ex fam 3\", kc=KC_C, exercise_list=[ex_3])\n",
    "ex_4 = Exercise(4, KC_D, \"qcm\", ex_content=\"\", params=params)\n",
    "ef_4 = ExerciseFamily(4, \"ex fam 4\", kc=KC_D, exercise_list=[ex_4])\n",
    "ex_5 = Exercise(5, KC_E, \"qcm\", ex_content=\"\", params=params)\n",
    "ef_5 = ExerciseFamily(5, \"ex fam 5\", kc=KC_E, exercise_list=[ex_5])\n",
    "\n",
    "link_strengths = {KC_A:{KC_C: 'strong'}, KC_B:{KC_C: 'weak'}, KC_C: {\n",
    "    KC_A: 'strong', KC_B: 'weak', KC_D: 'strong', KC_E: 'weak'}, KC_D:{KC_C: 'strong'}, KC_E:{KC_C: 'weak'}}\n",
    "\n",
    "priors = {'A': 0.1, 'B': 0.1, 'C': 0.1, 'D':.1, 'E':.1}"
   ]
  },
  {
   "cell_type": "markdown",
   "id": "0fdd4f28",
   "metadata": {},
   "source": [
    "## Use case 1: learner lacking of prerequisite mastering\n",
    "Let define a learner $L_0$ as following: we suppose $L_0$ greatly masters KC $A$ but because he doesn't master KC $B$, he can't correctly answer to exercises on KC $C$ and, therefore, on KC $D$ and $E$ neither."
   ]
  },
  {
   "cell_type": "code",
   "execution_count": 9,
   "id": "4a4ece7e",
   "metadata": {},
   "outputs": [
    {
     "name": "stdout",
     "output_type": "stream",
     "text": [
      "{'A': 0.1, 'B': 0.1, 'C': 0.1, 'D': 0.1, 'E': 0.1}\n",
      "{'(A)t': [0.1, 0.9]}\n",
      "{'A': 0.8336986128968591, 'B': 0.46241361880851883, 'C': 0.5150198986265169, 'D': 0.22223177228052968, 'E': 0.20227437401007342, 'eval(A)': 0.7669588903174872, 'eval(B)': 0.4699308950468151, 'eval(C)': 0.5120159189012135, 'eval(D)': 0.2777854178244238, 'eval(E)': 0.26181949920805875}\n"
     ]
    }
   ],
   "source": [
    "learner = Learner(1, None)\n",
    "learner_pool = LearnerPool(domain, link_strengths)\n",
    "learner_pool.add_learner(learner)\n",
    "print(priors)\n",
    "knowledge_state = learner.predict_next_step(priors, evaluation=[KC_A, True], pred_mode='one_kc')\n",
    "print(knowledge_state)"
   ]
  },
  {
   "cell_type": "code",
   "execution_count": 10,
   "id": "3ac340a2",
   "metadata": {},
   "outputs": [
    {
     "name": "stdout",
     "output_type": "stream",
     "text": [
      "{'(B)t': [0.9, 0.1]}\n",
      "{'A': 0.8702216894238379, 'B': 0.2058170645553604, 'C': 0.47107330282888343, 'D': 0.19896133933623222, 'E': 0.19767094166614227, 'eval(A)': 0.7961773515390703, 'eval(B)': 0.26465365164428833, 'eval(C)': 0.47685864226310687, 'eval(D)': 0.25916907146898577, 'eval(E)': 0.25813675333291386}\n"
     ]
    }
   ],
   "source": [
    "knowledge_state = learner.predict_next_step(knowledge_state, evaluation=[KC_B, False], pred_mode='one_kc')\n",
    "print(knowledge_state)"
   ]
  },
  {
   "cell_type": "code",
   "execution_count": 11,
   "id": "4bee1323",
   "metadata": {},
   "outputs": [
    {
     "name": "stdout",
     "output_type": "stream",
     "text": [
      "{'(C)t': [0.9, 0.1]}\n",
      "{'A': 0.8530352642476012, 'B': 0.3375260936560451, 'C': 0.1475153261602272, 'D': 0.08824669955480093, 'E': 0.1210341548035097, 'eval(A)': 0.7824282113980808, 'eval(B)': 0.3700208749248361, 'eval(C)': 0.21801226092818174, 'eval(D)': 0.17059735964384076, 'eval(E)': 0.19682732384280777}\n"
     ]
    }
   ],
   "source": [
    "knowledge_state = learner.predict_next_step(knowledge_state, evaluation=[KC_C, False], pred_mode='one_kc')\n",
    "print(knowledge_state)"
   ]
  },
  {
   "cell_type": "code",
   "execution_count": 87,
   "id": "5ca14d64",
   "metadata": {},
   "outputs": [
    {
     "name": "stdout",
     "output_type": "stream",
     "text": [
      "{'(C)t': [0.9, 0.1]}\n",
      "{'A': 0.6024568063160565, 'B': 0.6051521982968396, 'C': 0.008584255369837547, 'D': 0.002564212698675351, 'E': 0.00818307735413778, 'eval(A)': 0.5819654450528452, 'eval(B)': 0.5841217586374717, 'eval(C)': 0.10686740429587005, 'eval(D)': 0.1020513701589403, 'eval(E)': 0.10654646188331023}\n"
     ]
    }
   ],
   "source": [
    "knowledge_state = learner.predict_next_step(knowledge_state, evaluation=[KC_C, False], pred_mode='one_kc')\n",
    "print(knowledge_state)"
   ]
  },
  {
   "cell_type": "markdown",
   "id": "8278ddf2",
   "metadata": {},
   "source": [
    "## Use case 2: learner already mastering the most advanced KCs\n",
    "Let define another learner $L_2$ as following: we suppose $L_1$ has already studied the domain knowledge and therefore greatly masters every KCs but KC $E$ he hasn't studied yet."
   ]
  },
  {
   "cell_type": "code",
   "execution_count": 6,
   "id": "dea8b88d",
   "metadata": {},
   "outputs": [
    {
     "name": "stdout",
     "output_type": "stream",
     "text": [
      "{'(C)t': [0.1, 0.9]}\n",
      "{'A': 0.7184325206081045, 'B': 0.585694177770173, 'C': 0.7411165243326077, 'D': 0.3139238686022544, 'E': 0.275030944595098, 'eval(A)': 0.6747460164864836, 'eval(B)': 0.5685553422161383, 'eval(C)': 0.6928932194660862, 'eval(D)': 0.3511390948818035, 'eval(E)': 0.3200247556760784}\n"
     ]
    }
   ],
   "source": [
    "learner = Learner(2, None)\n",
    "learner_pool = LearnerPool(domain, link_strengths)\n",
    "learner_pool.add_learner(learner)\n",
    "\n",
    "knowledge_state = learner.predict_next_step(priors, evaluation=[KC_C, True], pred_mode='one_kc')\n",
    "print(knowledge_state)"
   ]
  },
  {
   "cell_type": "code",
   "execution_count": 7,
   "id": "a30b3fe8",
   "metadata": {},
   "outputs": [
    {
     "name": "stdout",
     "output_type": "stream",
     "text": [
      "{'(D)t': [0.9, 0.1]}\n",
      "{'A': 0.87223067841775, 'B': 0.7735329009106301, 'C': 0.7486651522311646, 'D': 0.05660918756212582, 'E': 0.2612793973653431, 'eval(A)': 0.7977845427342001, 'eval(B)': 0.7188263207285042, 'eval(C)': 0.6989321217849316, 'eval(D)': 0.14528735004970067, 'eval(E)': 0.3090235178922745}\n"
     ]
    }
   ],
   "source": [
    "knowledge_state = learner.predict_next_step(knowledge_state, evaluation=[KC_D, False], pred_mode='one_kc')\n",
    "print(knowledge_state)"
   ]
  },
  {
   "cell_type": "code",
   "execution_count": 8,
   "id": "deb3094d",
   "metadata": {},
   "outputs": [
    {
     "name": "stdout",
     "output_type": "stream",
     "text": [
      "{'(E)t': [0.9, 0.1]}\n",
      "{'A': 0.9110169401771586, 'B': 0.8484487544363444, 'C': 0.7165499916386735, 'D': 0.05377872818401954, 'E': 0.04667011398484879, 'eval(A)': 0.8288135521417269, 'eval(B)': 0.7787590035490756, 'eval(C)': 0.6732399933109388, 'eval(D)': 0.1430229825472156, 'eval(E)': 0.13733609118787904}\n"
     ]
    }
   ],
   "source": [
    "knowledge_state = learner.predict_next_step(knowledge_state, evaluation=[KC_E, False], pred_mode='one_kc')\n",
    "print(knowledge_state)"
   ]
  }
 ],
 "metadata": {
  "kernelspec": {
   "display_name": "Python 3",
   "language": "python",
   "name": "python3"
  },
  "language_info": {
   "codemirror_mode": {
    "name": "ipython",
    "version": 3
   },
   "file_extension": ".py",
   "mimetype": "text/x-python",
   "name": "python",
   "nbconvert_exporter": "python",
   "pygments_lexer": "ipython3",
   "version": "3.9.2"
  }
 },
 "nbformat": 4,
 "nbformat_minor": 5
}
